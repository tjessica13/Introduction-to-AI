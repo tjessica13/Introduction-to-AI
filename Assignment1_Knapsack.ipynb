{
  "cells": [
    {
      "cell_type": "markdown",
      "metadata": {
        "id": "SPeulvp-meob"
      },
      "source": [
        "# **ASSIGNMENT 1: EMPIRICAL STUDY OF KNAPSACK PROBLEM**"
      ]
    },
    {
      "cell_type": "markdown",
      "metadata": {},
      "source": [
        "This was an assignment completed for the Introduction to AI course. This assingnment was completed in a group of two people.\n",
        "Portions of this assignment were removed to make it public. This is not a working/full copy of the completed assignment."
      ]
    },
    {
      "cell_type": "markdown",
      "metadata": {
        "id": "Yq6OGiMX_da0"
      },
      "source": [
        "**2. Knapsack Problem**\n",
        "\n",
        "The problem involves a bag and several items. The bag has a max weight W while the items are indexed, denoted Xi (0 if present, 1 otherwise), each with weight Wi and price Pi. The goal is to maximize the total price while keeping the total weight at or below W; that is, throughout all possible combinations, ∑XiPi is maximal and ∑XiWi ≤ W.\n",
        "\n"
      ]
    },
    {
      "cell_type": "markdown",
      "metadata": {
        "id": "C8vwHE0G_iOG"
      },
      "source": [
        "**3. Dataset**\n",
        "\n",
        "We use a public domain dataset from Kaggle: https://www.kaggle.com/datasets/warcoder/knapsack-problem?resource=download\n",
        "<br>\n",
        "The dataset provided is a comma-separated-value file (.csv) with 5 columns:\n",
        "1.   Weights: a 1x5 row vector denoting the weight for the item at the ith position.\n",
        "2.   Prices: a 1x5 row vector denoting the price for the item at the ith position.\n",
        "3.   Capacity: an integer denoting the bag's max capacity.\n",
        "4.   Best picks: a 1x5 row vector with entries in {0, 1} denoting the presence (or absence) of an item.\n",
        "5.   Best price: the total price resulting from best picks, ∑XiPi\n",
        "\n"
      ]
    },
    {
      "cell_type": "markdown",
      "metadata": {
        "id": "OZTWy1qN2BzY"
      },
      "source": [
        "**Import important libraries**"
      ]
    },
    {
      "cell_type": "code",
      "execution_count": null,
      "metadata": {
        "id": "GmP1buROhaOx"
      },
      "outputs": [],
      "source": [
        "import pandas as pd\n",
        "import itertools\n",
        "import numpy as np"
      ]
    },
    {
      "cell_type": "markdown",
      "metadata": {
        "id": "wNJyoeCz00Kr"
      },
      "source": [
        "**Read Dataset**\n",
        "\n",
        "The link to the raw version is as follows:\n",
        "*https://raw.githubusercontent.com/GITHUB_USERNAME/REPOSITORY_NAME/main/DATASETNAME.csv*\n",
        "\n",
        "Now provide the link to YOUR dataset and read the dataset using pandas:"
      ]
    },
    {
      "cell_type": "code",
      "execution_count": null,
      "metadata": {
        "id": "BrhpM-HwhaOy"
      },
      "outputs": [],
      "source": [
        "#url removed for public copy\n",
        "#url = \"https://raw.githubusercontent.com/{knapsack_5_items.csv}\"\n",
        "\n",
        "dataset = pd.read_csv(url)"
      ]
    },
    {
      "cell_type": "markdown",
      "metadata": {
        "id": "4Drc71BY2a7w"
      },
      "source": [
        "Let's see what are the columns of the dataset? :"
      ]
    },
    {
      "cell_type": "code",
      "execution_count": null,
      "metadata": {
        "colab": {
          "base_uri": "https://localhost:8080/"
        },
        "id": "pGxZXmhNhaOz",
        "outputId": "6ff91f0f-e8ea-4f7b-f6e4-b999b927fb06"
      },
      "outputs": [
        {
          "data": {
            "text/plain": [
              "Index(['Weights', 'Prices', 'Capacity', 'Best picks', 'Best price'], dtype='object')"
            ]
          },
          "execution_count": 123,
          "metadata": {},
          "output_type": "execute_result"
        }
      ],
      "source": [
        "dataset.columns"
      ]
    },
    {
      "cell_type": "markdown",
      "metadata": {
        "id": "aNZaqcCT2w-T"
      },
      "source": [
        "As we expected, we have columns for weights, costs, capacity, best picks and best price for all the instances."
      ]
    },
    {
      "cell_type": "markdown",
      "metadata": {
        "id": "jkokOHRj2kgZ"
      },
      "source": [
        "Now let's see the first 10 entries (rows):"
      ]
    },
    {
      "cell_type": "code",
      "execution_count": null,
      "metadata": {
        "colab": {
          "base_uri": "https://localhost:8080/",
          "height": 363
        },
        "id": "0xqfPrBEhaOz",
        "outputId": "babee7c8-77be-4bf6-e54d-67c865876f66"
      },
      "outputs": [
        {
          "data": {
            "text/html": [
              "\n",
              "  <div id=\"df-09b4b9a3-f31b-4757-a067-71c364ed52d0\" class=\"colab-df-container\">\n",
              "    <div>\n",
              "<style scoped>\n",
              "    .dataframe tbody tr th:only-of-type {\n",
              "        vertical-align: middle;\n",
              "    }\n",
              "\n",
              "    .dataframe tbody tr th {\n",
              "        vertical-align: top;\n",
              "    }\n",
              "\n",
              "    .dataframe thead th {\n",
              "        text-align: right;\n",
              "    }\n",
              "</style>\n",
              "<table border=\"1\" class=\"dataframe\">\n",
              "  <thead>\n",
              "    <tr style=\"text-align: right;\">\n",
              "      <th></th>\n",
              "      <th>Weights</th>\n",
              "      <th>Prices</th>\n",
              "      <th>Capacity</th>\n",
              "      <th>Best picks</th>\n",
              "      <th>Best price</th>\n",
              "    </tr>\n",
              "  </thead>\n",
              "  <tbody>\n",
              "    <tr>\n",
              "      <th>0</th>\n",
              "      <td>[46 40 42 38 10]</td>\n",
              "      <td>[12 19 19 15  8]</td>\n",
              "      <td>40</td>\n",
              "      <td>[0. 1. 0. 0. 0.]</td>\n",
              "      <td>19.0</td>\n",
              "    </tr>\n",
              "    <tr>\n",
              "      <th>1</th>\n",
              "      <td>[11 31  4  6  7]</td>\n",
              "      <td>[ 2  8 18 16  3]</td>\n",
              "      <td>64</td>\n",
              "      <td>[1. 1. 1. 1. 1.]</td>\n",
              "      <td>47.0</td>\n",
              "    </tr>\n",
              "    <tr>\n",
              "      <th>2</th>\n",
              "      <td>[32 49 27 37 24]</td>\n",
              "      <td>[19 16 16  4  1]</td>\n",
              "      <td>87</td>\n",
              "      <td>[1. 0. 1. 0. 1.]</td>\n",
              "      <td>36.0</td>\n",
              "    </tr>\n",
              "    <tr>\n",
              "      <th>3</th>\n",
              "      <td>[20 35 22 23 16]</td>\n",
              "      <td>[19 17 19  9  1]</td>\n",
              "      <td>21</td>\n",
              "      <td>[1. 0. 0. 0. 0.]</td>\n",
              "      <td>19.0</td>\n",
              "    </tr>\n",
              "    <tr>\n",
              "      <th>4</th>\n",
              "      <td>[ 7 12 19 13 20]</td>\n",
              "      <td>[10 11 18 15  5]</td>\n",
              "      <td>50</td>\n",
              "      <td>[0. 1. 1. 1. 0.]</td>\n",
              "      <td>44.0</td>\n",
              "    </tr>\n",
              "    <tr>\n",
              "      <th>5</th>\n",
              "      <td>[27 10 25 25  7]</td>\n",
              "      <td>[13 19  7 16  3]</td>\n",
              "      <td>66</td>\n",
              "      <td>[1. 1. 0. 1. 0.]</td>\n",
              "      <td>48.0</td>\n",
              "    </tr>\n",
              "    <tr>\n",
              "      <th>6</th>\n",
              "      <td>[21  2 33 45 26]</td>\n",
              "      <td>[ 1 14 10  6 13]</td>\n",
              "      <td>80</td>\n",
              "      <td>[0. 1. 1. 0. 1.]</td>\n",
              "      <td>37.0</td>\n",
              "    </tr>\n",
              "    <tr>\n",
              "      <th>7</th>\n",
              "      <td>[37 27 39 14 25]</td>\n",
              "      <td>[18  7 15  4 13]</td>\n",
              "      <td>35</td>\n",
              "      <td>[0. 0. 0. 0. 1.]</td>\n",
              "      <td>13.0</td>\n",
              "    </tr>\n",
              "    <tr>\n",
              "      <th>8</th>\n",
              "      <td>[ 1 48  4 23 39]</td>\n",
              "      <td>[ 9  4 10 16 12]</td>\n",
              "      <td>51</td>\n",
              "      <td>[1. 0. 1. 1. 0.]</td>\n",
              "      <td>35.0</td>\n",
              "    </tr>\n",
              "    <tr>\n",
              "      <th>9</th>\n",
              "      <td>[ 4  3 22  9 32]</td>\n",
              "      <td>[14  6  3 17  8]</td>\n",
              "      <td>53</td>\n",
              "      <td>[1. 1. 0. 1. 1.]</td>\n",
              "      <td>45.0</td>\n",
              "    </tr>\n",
              "  </tbody>\n",
              "</table>\n",
              "</div>\n",
              "    <div class=\"colab-df-buttons\">\n",
              "\n",
              "  <div class=\"colab-df-container\">\n",
              "    <button class=\"colab-df-convert\" onclick=\"convertToInteractive('df-09b4b9a3-f31b-4757-a067-71c364ed52d0')\"\n",
              "            title=\"Convert this dataframe to an interactive table.\"\n",
              "            style=\"display:none;\">\n",
              "\n",
              "  <svg xmlns=\"http://www.w3.org/2000/svg\" height=\"24px\" viewBox=\"0 -960 960 960\">\n",
              "    <path d=\"M120-120v-720h720v720H120Zm60-500h600v-160H180v160Zm220 220h160v-160H400v160Zm0 220h160v-160H400v160ZM180-400h160v-160H180v160Zm440 0h160v-160H620v160ZM180-180h160v-160H180v160Zm440 0h160v-160H620v160Z\"/>\n",
              "  </svg>\n",
              "    </button>\n",
              "\n",
              "  <style>\n",
              "    .colab-df-container {\n",
              "      display:flex;\n",
              "      gap: 12px;\n",
              "    }\n",
              "\n",
              "    .colab-df-convert {\n",
              "      background-color: #E8F0FE;\n",
              "      border: none;\n",
              "      border-radius: 50%;\n",
              "      cursor: pointer;\n",
              "      display: none;\n",
              "      fill: #1967D2;\n",
              "      height: 32px;\n",
              "      padding: 0 0 0 0;\n",
              "      width: 32px;\n",
              "    }\n",
              "\n",
              "    .colab-df-convert:hover {\n",
              "      background-color: #E2EBFA;\n",
              "      box-shadow: 0px 1px 2px rgba(60, 64, 67, 0.3), 0px 1px 3px 1px rgba(60, 64, 67, 0.15);\n",
              "      fill: #174EA6;\n",
              "    }\n",
              "\n",
              "    .colab-df-buttons div {\n",
              "      margin-bottom: 4px;\n",
              "    }\n",
              "\n",
              "    [theme=dark] .colab-df-convert {\n",
              "      background-color: #3B4455;\n",
              "      fill: #D2E3FC;\n",
              "    }\n",
              "\n",
              "    [theme=dark] .colab-df-convert:hover {\n",
              "      background-color: #434B5C;\n",
              "      box-shadow: 0px 1px 3px 1px rgba(0, 0, 0, 0.15);\n",
              "      filter: drop-shadow(0px 1px 2px rgba(0, 0, 0, 0.3));\n",
              "      fill: #FFFFFF;\n",
              "    }\n",
              "  </style>\n",
              "\n",
              "    <script>\n",
              "      const buttonEl =\n",
              "        document.querySelector('#df-09b4b9a3-f31b-4757-a067-71c364ed52d0 button.colab-df-convert');\n",
              "      buttonEl.style.display =\n",
              "        google.colab.kernel.accessAllowed ? 'block' : 'none';\n",
              "\n",
              "      async function convertToInteractive(key) {\n",
              "        const element = document.querySelector('#df-09b4b9a3-f31b-4757-a067-71c364ed52d0');\n",
              "        const dataTable =\n",
              "          await google.colab.kernel.invokeFunction('convertToInteractive',\n",
              "                                                    [key], {});\n",
              "        if (!dataTable) return;\n",
              "\n",
              "        const docLinkHtml = 'Like what you see? Visit the ' +\n",
              "          '<a target=\"_blank\" href=https://colab.research.google.com/notebooks/data_table.ipynb>data table notebook</a>'\n",
              "          + ' to learn more about interactive tables.';\n",
              "        element.innerHTML = '';\n",
              "        dataTable['output_type'] = 'display_data';\n",
              "        await google.colab.output.renderOutput(dataTable, element);\n",
              "        const docLink = document.createElement('div');\n",
              "        docLink.innerHTML = docLinkHtml;\n",
              "        element.appendChild(docLink);\n",
              "      }\n",
              "    </script>\n",
              "  </div>\n",
              "\n",
              "\n",
              "<div id=\"df-c3fc3c11-3908-4204-a595-9bd9ac2c3b64\">\n",
              "  <button class=\"colab-df-quickchart\" onclick=\"quickchart('df-c3fc3c11-3908-4204-a595-9bd9ac2c3b64')\"\n",
              "            title=\"Suggest charts.\"\n",
              "            style=\"display:none;\">\n",
              "\n",
              "<svg xmlns=\"http://www.w3.org/2000/svg\" height=\"24px\"viewBox=\"0 0 24 24\"\n",
              "     width=\"24px\">\n",
              "    <g>\n",
              "        <path d=\"M19 3H5c-1.1 0-2 .9-2 2v14c0 1.1.9 2 2 2h14c1.1 0 2-.9 2-2V5c0-1.1-.9-2-2-2zM9 17H7v-7h2v7zm4 0h-2V7h2v10zm4 0h-2v-4h2v4z\"/>\n",
              "    </g>\n",
              "</svg>\n",
              "  </button>\n",
              "\n",
              "<style>\n",
              "  .colab-df-quickchart {\n",
              "      --bg-color: #E8F0FE;\n",
              "      --fill-color: #1967D2;\n",
              "      --hover-bg-color: #E2EBFA;\n",
              "      --hover-fill-color: #174EA6;\n",
              "      --disabled-fill-color: #AAA;\n",
              "      --disabled-bg-color: #DDD;\n",
              "  }\n",
              "\n",
              "  [theme=dark] .colab-df-quickchart {\n",
              "      --bg-color: #3B4455;\n",
              "      --fill-color: #D2E3FC;\n",
              "      --hover-bg-color: #434B5C;\n",
              "      --hover-fill-color: #FFFFFF;\n",
              "      --disabled-bg-color: #3B4455;\n",
              "      --disabled-fill-color: #666;\n",
              "  }\n",
              "\n",
              "  .colab-df-quickchart {\n",
              "    background-color: var(--bg-color);\n",
              "    border: none;\n",
              "    border-radius: 50%;\n",
              "    cursor: pointer;\n",
              "    display: none;\n",
              "    fill: var(--fill-color);\n",
              "    height: 32px;\n",
              "    padding: 0;\n",
              "    width: 32px;\n",
              "  }\n",
              "\n",
              "  .colab-df-quickchart:hover {\n",
              "    background-color: var(--hover-bg-color);\n",
              "    box-shadow: 0 1px 2px rgba(60, 64, 67, 0.3), 0 1px 3px 1px rgba(60, 64, 67, 0.15);\n",
              "    fill: var(--button-hover-fill-color);\n",
              "  }\n",
              "\n",
              "  .colab-df-quickchart-complete:disabled,\n",
              "  .colab-df-quickchart-complete:disabled:hover {\n",
              "    background-color: var(--disabled-bg-color);\n",
              "    fill: var(--disabled-fill-color);\n",
              "    box-shadow: none;\n",
              "  }\n",
              "\n",
              "  .colab-df-spinner {\n",
              "    border: 2px solid var(--fill-color);\n",
              "    border-color: transparent;\n",
              "    border-bottom-color: var(--fill-color);\n",
              "    animation:\n",
              "      spin 1s steps(1) infinite;\n",
              "  }\n",
              "\n",
              "  @keyframes spin {\n",
              "    0% {\n",
              "      border-color: transparent;\n",
              "      border-bottom-color: var(--fill-color);\n",
              "      border-left-color: var(--fill-color);\n",
              "    }\n",
              "    20% {\n",
              "      border-color: transparent;\n",
              "      border-left-color: var(--fill-color);\n",
              "      border-top-color: var(--fill-color);\n",
              "    }\n",
              "    30% {\n",
              "      border-color: transparent;\n",
              "      border-left-color: var(--fill-color);\n",
              "      border-top-color: var(--fill-color);\n",
              "      border-right-color: var(--fill-color);\n",
              "    }\n",
              "    40% {\n",
              "      border-color: transparent;\n",
              "      border-right-color: var(--fill-color);\n",
              "      border-top-color: var(--fill-color);\n",
              "    }\n",
              "    60% {\n",
              "      border-color: transparent;\n",
              "      border-right-color: var(--fill-color);\n",
              "    }\n",
              "    80% {\n",
              "      border-color: transparent;\n",
              "      border-right-color: var(--fill-color);\n",
              "      border-bottom-color: var(--fill-color);\n",
              "    }\n",
              "    90% {\n",
              "      border-color: transparent;\n",
              "      border-bottom-color: var(--fill-color);\n",
              "    }\n",
              "  }\n",
              "</style>\n",
              "\n",
              "  <script>\n",
              "    async function quickchart(key) {\n",
              "      const quickchartButtonEl =\n",
              "        document.querySelector('#' + key + ' button');\n",
              "      quickchartButtonEl.disabled = true;  // To prevent multiple clicks.\n",
              "      quickchartButtonEl.classList.add('colab-df-spinner');\n",
              "      try {\n",
              "        const charts = await google.colab.kernel.invokeFunction(\n",
              "            'suggestCharts', [key], {});\n",
              "      } catch (error) {\n",
              "        console.error('Error during call to suggestCharts:', error);\n",
              "      }\n",
              "      quickchartButtonEl.classList.remove('colab-df-spinner');\n",
              "      quickchartButtonEl.classList.add('colab-df-quickchart-complete');\n",
              "    }\n",
              "    (() => {\n",
              "      let quickchartButtonEl =\n",
              "        document.querySelector('#df-c3fc3c11-3908-4204-a595-9bd9ac2c3b64 button');\n",
              "      quickchartButtonEl.style.display =\n",
              "        google.colab.kernel.accessAllowed ? 'block' : 'none';\n",
              "    })();\n",
              "  </script>\n",
              "</div>\n",
              "    </div>\n",
              "  </div>\n"
            ],
            "text/plain": [
              "            Weights            Prices  Capacity        Best picks  Best price\n",
              "0  [46 40 42 38 10]  [12 19 19 15  8]        40  [0. 1. 0. 0. 0.]        19.0\n",
              "1  [11 31  4  6  7]  [ 2  8 18 16  3]        64  [1. 1. 1. 1. 1.]        47.0\n",
              "2  [32 49 27 37 24]  [19 16 16  4  1]        87  [1. 0. 1. 0. 1.]        36.0\n",
              "3  [20 35 22 23 16]  [19 17 19  9  1]        21  [1. 0. 0. 0. 0.]        19.0\n",
              "4  [ 7 12 19 13 20]  [10 11 18 15  5]        50  [0. 1. 1. 1. 0.]        44.0\n",
              "5  [27 10 25 25  7]  [13 19  7 16  3]        66  [1. 1. 0. 1. 0.]        48.0\n",
              "6  [21  2 33 45 26]  [ 1 14 10  6 13]        80  [0. 1. 1. 0. 1.]        37.0\n",
              "7  [37 27 39 14 25]  [18  7 15  4 13]        35  [0. 0. 0. 0. 1.]        13.0\n",
              "8  [ 1 48  4 23 39]  [ 9  4 10 16 12]        51  [1. 0. 1. 1. 0.]        35.0\n",
              "9  [ 4  3 22  9 32]  [14  6  3 17  8]        53  [1. 1. 0. 1. 1.]        45.0"
            ]
          },
          "execution_count": 124,
          "metadata": {},
          "output_type": "execute_result"
        }
      ],
      "source": [
        "dataset.head(10)"
      ]
    },
    {
      "cell_type": "markdown",
      "metadata": {
        "id": "1dq9VpZh2r2A"
      },
      "source": [
        "**Preprocessing Step**\n",
        "\n",
        "Typically, the initial step in any project that involves reading and handling data is data preprocessing and cleansing.\n",
        "\n",
        "In our dataset, we expect the entries in the \"Weights,\" \"Prices,\" and \"Best Picks\" columns to be in the form of arrays of floats or integers, like this: [45, 40, 42, 38, 10]\n",
        "\n",
        "However, when you read each entry using pandas, they will be in a form of a string: \"[45 40 42 38 10]\"\n",
        "\n",
        "So we need to convert these strings into \"arrays of floats or integers.\" You can utilize the function provided below for this purpose:\n"
      ]
    },
    {
      "cell_type": "code",
      "execution_count": null,
      "metadata": {
        "id": "BmUtgrBchaOz"
      },
      "outputs": [],
      "source": [
        "def string_to_list(string):\n",
        "\n",
        "  string_list = string.strip('[]').split()\n",
        "\n",
        "  float_list = [float(element) for element in string_list]\n",
        "\n",
        "  return float_list"
      ]
    },
    {
      "cell_type": "markdown",
      "metadata": {
        "id": "CP1nkMb27A4n"
      },
      "source": [
        "Furthermore, it's possible that certain rows in the dataset contain empty values in specific columns. We also aim to eliminate these rows as they do not provide any useful information. We use dropna() function to do so:"
      ]
    },
    {
      "cell_type": "code",
      "execution_count": null,
      "metadata": {
        "id": "LT_iYgxhhaO0"
      },
      "outputs": [],
      "source": [
        "#Ignore the warning messages.\n",
        "\n",
        "dataset = dataset.dropna()\n",
        "\n",
        "dataset.Weights = dataset.Weights.apply(lambda x : string_to_list(x))\n",
        "dataset.Prices = dataset.Prices.apply(lambda x : string_to_list(x))\n",
        "dataset['Best picks'] = dataset['Best picks'].apply(lambda x : string_to_list(x))"
      ]
    },
    {
      "cell_type": "markdown",
      "metadata": {
        "id": "61go4NeA7gZU"
      },
      "source": [
        "Now it's time to implement the search algorithms. For each algorithm, a template is provided to you. You can modify this template if you want. But first you should try to go look at all the parameters used, as they are all important. You can also define any number of auxiliary functions you want.\n"
      ]
    },
    {
      "cell_type": "markdown",
      "metadata": {
        "id": "0ER3-7di7ufy"
      },
      "source": [
        "**4. Generate and Test**\n",
        "\n",
        "We generate all possible combinations of 0s and 1s on our 1x5 row vector. The generation is as intuitive as counting in binary, as we have for the first few: 00000, 00001, 00010 and so on... up until 11111; with a running total of 2^5 = 32 possibilities."
      ]
    },
    {
      "cell_type": "code",
      "execution_count": null,
      "metadata": {
        "id": "FqN5dVe7haO0"
      },
      "outputs": [],
      "source": [
        "# Input: data (a row that includes arrays like Weights, Prices & Best Picks as well as numbers like Capacity & Best price)\n",
        "def gen_and_test(data):\n",
        "\n",
        "  # Will store the current max (if current price > this and weight <= capacity)\n",
        "  best_solution_price = 0\n",
        "\n",
        "  # Stores the indeces for the best solution\n",
        "  best_solution = []\n",
        "\n",
        "  # solution code removed for public repo\n",
        "\n",
        "  return best_solution_price, best_solution\n"
      ]
    },
    {
      "cell_type": "code",
      "execution_count": null,
      "metadata": {
        "colab": {
          "base_uri": "https://localhost:8080/",
          "height": 373
        },
        "id": "xQyI_WRShaO0",
        "outputId": "abe65625-7e95-4e2d-cdd7-a63c0aa07c81"
      },
      "outputs": [],
      "source": [
        "solutions = []\n",
        "for _, row in dataset.iterrows():\n",
        "    target = row['Best price']\n",
        "    solution, indexes = gen_and_test(row)\n",
        "    solutions.append(1 if target == solution else 0)"
      ]
    },
    {
      "cell_type": "code",
      "execution_count": null,
      "metadata": {
        "colab": {
          "base_uri": "https://localhost:8080/"
        },
        "id": "yodeAYV3haO0",
        "outputId": "0c13cbc4-2361-433a-8751-0b5d1ee00afe"
      },
      "outputs": [
        {
          "name": "stdout",
          "output_type": "stream",
          "text": [
            "Accuracy of best prices found is 1.0\n"
          ]
        }
      ],
      "source": [
        "# Accuracy\n",
        "print('Accuracy of best prices found is', np.mean(solutions))"
      ]
    },
    {
      "cell_type": "markdown",
      "metadata": {
        "id": "5rQYdUQx-dGi"
      },
      "source": [
        "------------------------------------------------------------------------------------------------"
      ]
    },
    {
      "cell_type": "markdown",
      "metadata": {
        "id": "z8_ipXOGhaO1"
      },
      "source": [
        "**5. Greedy Search**\n",
        "\n",
        "The greedy search algorithm works by choosing the highest value for the current state. It will keep choosing the highest value item at each next state until it cannot fit more items into the bag. The greedy strategy used for this implementation was to choose the highest price first out of all the items.\n",
        "\n",
        "References:\n",
        "https://www.geeksforgeeks.org/fractional-knapsack-problem/\n",
        "Fall2023-CSI4106-CSP Lecture Slides"
      ]
    },
    {
      "cell_type": "code",
      "execution_count": null,
      "metadata": {
        "id": "bAfwGLDkhaO2"
      },
      "outputs": [],
      "source": [
        "# the Item object with information on each item that can go in the bag\n",
        "class Item:\n",
        "  def __init__(self, weight, price, index):\n",
        "    self.weight = weight # weight of item\n",
        "    self.price = price # price or value\n",
        "    self.index = index # index of the item in the original list\n",
        "    self.ratio = price / weight # ratio is the price divided by the weight\n",
        "\n",
        "# the greedy algorithm\n",
        "def greedy(data):\n",
        "  # create a new list for the Item objects\n",
        "  items_list = []\n",
        "  # loop through each index of the Prices list (which is all items in the list).\n",
        "  for i in range(0, len(data['Prices'])):\n",
        "    # create the Item object using the data from the weights list, prices lists, and indexes\n",
        "    items_list.append(Item(data['Weights'][i], data['Prices'][i], i))\n",
        "\n",
        "  # sort the item list using the price, sort from high to low / descending order\n",
        "  items_list.sort(key=lambda x: x.price, reverse=True)\n",
        "\n",
        "  # create a list of 0's with the length being the same as the Prices list\n",
        "  # the list will be the length of the total number of objects to choose\n",
        "  best_solution = [0] * len(data['Prices'])\n",
        "  # start with best price of 0 and no items in the bag\n",
        "  best_solution_price = 0\n",
        "  # set the max capacity to the row data Capacity\n",
        "  capacity = data['Capacity']\n",
        "  # the current weight of the backpack starts at 0 with no items inside\n",
        "  w = 0\n",
        "  # the current total price or value in the backpack start at 0 with no items inside\n",
        "  p = 0\n",
        "  # loop through each item in the sorted list\n",
        "  # the object with the highest price will be first in the list\n",
        "  # and the lowest price is last in the list\n",
        "  for item in items_list:\n",
        "    # if the object's weight is added to the bag, and it is less than or equal to the bag capacity\n",
        "    if (w + item.weight) <= capacity:\n",
        "      # add the item's weight to the current weight in the bag\n",
        "      w = w + item.weight\n",
        "      # add the item's price to the total price in the bag\n",
        "      p = p + item.price\n",
        "      # put a 1 in the new best solution using the original list's index spot\n",
        "      best_solution[item.index] = 1\n",
        "\n",
        "  # the total price in the backpack is set to the current price that was found\n",
        "  # after adding the items that could fit in the bag and be under capacity\n",
        "  best_solution_price = p\n",
        "\n",
        "  # return the best total price of bag solution and solution list for the items added or not\n",
        "  return best_solution_price, best_solution\n"
      ]
    },
    {
      "cell_type": "code",
      "execution_count": null,
      "metadata": {
        "id": "QeS54aqAhwhU"
      },
      "outputs": [],
      "source": [
        "solutions_greedy = []\n",
        "recall = 0\n",
        "for _, row in dataset.iterrows():\n",
        "    target = row['Best price']\n",
        "    solution, indexes = greedy(row)\n",
        "    solutions_greedy.append(1 if target == solution else 0)\n",
        "\n",
        "    recall = recall + (1 if target == solution else 0)"
      ]
    },
    {
      "cell_type": "code",
      "execution_count": null,
      "metadata": {
        "id": "xWqCDMs-h0SX"
      },
      "outputs": [],
      "source": [
        "print(\"Greedy Accuracy is\", np.mean(solutions_greedy))"
      ]
    },
    {
      "cell_type": "code",
      "execution_count": null,
      "metadata": {
        "colab": {
          "base_uri": "https://localhost:8080/"
        },
        "id": "iMe_rCMUGqv6",
        "outputId": "e7bc189b-5b6e-4784-c447-4ac9b15e6ab1"
      },
      "outputs": [
        {
          "name": "stdout",
          "output_type": "stream",
          "text": [
            "Recall is 8957 optimal solutions and 922 non optimal solutions.\n"
          ]
        }
      ],
      "source": [
        "print(\"Recall is\", recall, \"optimal solutions and\", len(solutions_greedy) - recall, \"non optimal solutions.\")"
      ]
    },
    {
      "cell_type": "markdown",
      "metadata": {
        "id": "XGBWQqlK-lra"
      },
      "source": [
        "------------------------------------------------------------------------------------------------"
      ]
    },
    {
      "cell_type": "markdown",
      "metadata": {
        "id": "PtDW2ja3R93S"
      },
      "source": [
        "**6. Simulated Annealing**\n",
        "The simulated annealing algorithm uses temperature to determine the amount of iterations by starting at a high temperature and decreases the temperature by a cooling rate. An initial solution is created using random or greedy, and while the temperature cools, a new solution is created at each iteration. This modified solution is similar to the intial solution and is accepted as the new solution to use in the next step based on a random value and a calculated probability based on the current temperature. This probability can make it so that worse solutions may be accepted. When the temperature reaches the min or the enrgy threshold is reached, then the final solution is found.\n",
        "\n",
        "Reference: https://www.baeldung.com/cs/simulated-annealing (from lecture slides)\n",
        "https://www.geeksforgeeks.org/simulated-annealing/\n"
      ]
    },
    {
      "cell_type": "code",
      "execution_count": null,
      "metadata": {
        "id": "7rFhuXedSF_3"
      },
      "outputs": [],
      "source": [
        "from os import X_OK\n",
        "import random\n",
        "import math\n",
        "\n",
        "# the function to maximize, the total price of items in the bag\n",
        "def energy(data, sol):\n",
        "  p = 0 # set total price to 0\n",
        "  w = 0 # set total weight to 0\n",
        "  for i in range(0, len(sol)): # for every item in the soln list\n",
        "    if sol[i] == 1: # if the soln item is in the bag\n",
        "      p = p + data['Prices'][i] # add the price of that item to p\n",
        "      w = w + data['Weights'][i] # add the weight of that item to w\n",
        "  # exceeding bag capacity is considered zero energy\n",
        "  #if w > data['Capacity']:\n",
        "   # p = 0\n",
        "  # return the total price and weight of the items that are in the bag\n",
        "  return p, w\n",
        "\n",
        "# generate a new candidate solution by making a modification to the given soln\n",
        "# random index to change from 0 to 1 or 1 to 0\n",
        "def perturbation(sol):\n",
        "  #copy the list to a new list\n",
        "  new_sol = sol.copy()\n",
        "  # get a random integer for the index to change in the list\n",
        "  c = random.randint(0, len(sol)-1)\n",
        "  # if the original list had a 0 in the random index c\n",
        "  if sol[c] == 0:\n",
        "    new_sol[c] = 1 # replace value 0 with 1\n",
        "  else:\n",
        "    # if the original list had a 1, then replace with 0\n",
        "    new_sol[c] = 0\n",
        "  return new_sol\n",
        "\n",
        "# acceptance function will decide to keep the solution based on the energy\n",
        "def accept(diff_e, t):\n",
        "  # the candidate soln with the energy that is higher will always be accepted\n",
        "  if (diff_e > 0): # if the difference of e is positive\n",
        "    return True #accept the soln\n",
        "  else: # the difference of e is negative\n",
        "    r = random.random() # returns a random number in the range [0,1)\n",
        "    # calculate the probability of acceptance for maximization\n",
        "    if (r < math.exp(diff_e / t)): # modify the calculation to work with negative diff_e\n",
        "      return True # accept the solution\n",
        "    else:\n",
        "      return False # reject the solution\n",
        "\n",
        "# generate a random intial solution\n",
        "def random_soln(data):\n",
        "  sol = [] # start with an empty list\n",
        "  p = 0 # start with price as 0\n",
        "  # for each price of the items\n",
        "  for i in data['Prices']:\n",
        "    # choose either 0 or 1 to put the item into the bag or not\n",
        "    r = random.randint(0, 1)\n",
        "    # add the 0 or 1 value to the list\n",
        "    sol.append(r)\n",
        "    # if the item was added to the bag with 1\n",
        "    if(r == 1):\n",
        "      # add the price to the total initial price\n",
        "      p = p + i\n",
        "  #return total price and the items list for the bag\n",
        "  return p, sol\n",
        "\n",
        "# N is num of iterations\n",
        "# refer to slide 22 or 24 of Fall2023-CSI4106-PopulationBased slides for the algorithm\n",
        "def simulated_annealing(data, N, initial_temperature, cooling_rate):\n",
        "  t_max = 100 # set the maximum temperature\n",
        "  t_min = 1 # set the minimum temperature\n",
        "  r = cooling_rate # cooling rate\n",
        "  e_th = data['Best price'] * 0.80 # energy threshold is the 80 percent of the best price\n",
        "\n",
        "  t = t_max # set the current temperature to the a high max temp\n",
        "\n",
        "  # generate the initial candidate solution using greedy algorithm\n",
        "  initial_price, x = greedy(data)\n",
        "  #initial_price, x = random_soln(data)\n",
        "  best_solution_price = initial_price # set current best price to inital soln price\n",
        "  best_solution = x # set current best soln to intial soln\n",
        "\n",
        "  # compute the energy of the intial soln\n",
        "  e, w = energy(data, x)\n",
        "\n",
        "  # while the temperature has not reached the minimum temp\n",
        "  # and the energy has is still smaller than the threshold it needs to reach\n",
        "  while (t > t_min) and (e < e_th):\n",
        "    x_new = perturbation(x) # generate a new candidate soln\n",
        "    e_new, w_new = energy(data, x_new) # compute the energy of the new candidate soln using the energy function\n",
        "    diff_e = e_new - e # difference of the new soln energy and previous soln energy\n",
        "    if accept(diff_e, t): # acceptance function\n",
        "      # accept the new solution that was generated\n",
        "      x = x_new # set the current soln to the new soln\n",
        "      e = e_new # set the current energy to the new soln's energy\n",
        "      w = w_new # set the current weight to the new soln's weight\n",
        "      if (w <= data['Capacity']): # if the soln total weight is under the bag capacity\n",
        "        best_solution = x # set a sthe new best soln\n",
        "        best_solution_price = e # set as the new best total price\n",
        "    t = r * t # cool/lower the temperature using the cooling rate\n",
        "\n",
        "  # return the best final solution price and best soln list of items\n",
        "  return best_solution_price, best_solution"
      ]
    },
    {
      "cell_type": "code",
      "execution_count": null,
      "metadata": {
        "id": "mAWQLNsESNIZ"
      },
      "outputs": [],
      "source": [
        "solutions_sa = []\n",
        "recall_sa = 0\n",
        "for _, row in dataset.iterrows():\n",
        "    target = row['Best price']\n",
        "    solution, indexes = simulated_annealing(row, N = 10, initial_temperature=1, cooling_rate=0.95)\n",
        "    solutions_sa.append(1 if target == solution else 0)\n",
        "\n",
        "    recall_sa = recall_sa + (1 if target == solution else 0)\n"
      ]
    },
    {
      "cell_type": "code",
      "execution_count": null,
      "metadata": {
        "id": "jUdWEABkhkih"
      },
      "outputs": [],
      "source": [
        "print(\"Simulated Annealing Accuracy is\", np.mean(solutions_sa))"
      ]
    },
    {
      "cell_type": "code",
      "execution_count": null,
      "metadata": {
        "colab": {
          "base_uri": "https://localhost:8080/"
        },
        "id": "an2gkuS07Z6H",
        "outputId": "14294d14-0e8e-44f5-8b7c-8f0d61fffd04"
      },
      "outputs": [
        {
          "name": "stdout",
          "output_type": "stream",
          "text": [
            "Recall is 1506 optimal solutions and 8373 non optimal solutions.\n"
          ]
        }
      ],
      "source": [
        "print(\"Recall is\", recall_sa, \"optimal solutions and\", len(solutions_sa) - recall_sa, \"non optimal solutions.\")"
      ]
    },
    {
      "cell_type": "markdown",
      "metadata": {
        "id": "n0QXt7Ys-rCc"
      },
      "source": [
        "------------------------------------------------------------------------------------------------"
      ]
    },
    {
      "cell_type": "markdown",
      "metadata": {
        "id": "RHYjBUvVhtGV"
      },
      "source": [
        "**7. Genetic Algorithm**\n",
        "\n",
        "The genetic algorithm aims to draw parallels with the biological processes as purported by Charles Darwin. We have X(t) the population during the t-th cycle, and while in t, we aim to run tournaments to cull the weak (according to a fitness criteria; in this case, the total price), then crossbreed for the remaining champions and finally mutate them all, including the children. We end in the new population X(t+1) where we yet again repeat the process for num_generation times."
      ]
    },
    {
      "cell_type": "code",
      "execution_count": null,
      "metadata": {
        "id": "5kGKKUN8iP30"
      },
      "outputs": [],
      "source": [
        "import random\n",
        "\n",
        "# Fitness in this case (Knapsack) will be the total price if weight <= capacity\n",
        "def calculate_fitness(ind, prices, weights, capacity):\n",
        "  fitness = 0\n",
        "\n",
        "  # removed solution for public repo\n",
        "\n",
        "  return fitness\n",
        "\n",
        "def crossover(parent1, parent2, cross_rate):\n",
        "\n",
        "  child1 = parent1\n",
        "  child2 = parent2\n",
        "  # removed solution for public repo\n",
        "\n",
        "  return child1, child2\n",
        "\n",
        "def mutation(child, mut_rate):\n",
        "\n",
        "  # removed solution for public repo\n",
        "\n",
        "  return child\n",
        "\n",
        "def genetic_algorithm(data, population_size, num_generations, mut_rate, cross_rate, tournament_size):\n",
        "  best_solution_price = 0\n",
        "  best_solution = 0\n",
        "\n",
        "  # removed solution for public repo\n",
        "\n",
        "  return best_solution_price, best_solution"
      ]
    },
    {
      "cell_type": "code",
      "execution_count": null,
      "metadata": {
        "id": "5b4hBtUijZzg"
      },
      "outputs": [],
      "source": [
        "solutions_ga = []\n",
        "for _, row in dataset.iterrows():\n",
        "    target = row['Best price']\n",
        "    solution, indexes = genetic_algorithm(row, population_size = 24, num_generations = 1, mut_rate = 0.1, cross_rate = 0.1, tournament_size = 2)\n",
        "    solutions_ga.append(1 if target == solution else 0)\n"
      ]
    },
    {
      "cell_type": "code",
      "execution_count": null,
      "metadata": {
        "id": "hJ3ceIHSs-W-"
      },
      "outputs": [],
      "source": [
        "print(\"Genetic Algorithm Accuracy is\", np.mean(solutions_ga))"
      ]
    },
    {
      "cell_type": "markdown",
      "metadata": {
        "id": "5yn8KLah-xGF"
      },
      "source": [
        "  **Your Analysis:**\n",
        "\n",
        "\n",
        "*   Runtime Complexity: the implementation is very slow particularly because of the sheer amount of data that is being handled. On top of that, depending on how large population_size, num_generations and tournament_size are, the total runtime can increase as it increases the loops and subsequently the operations, like crossing and mutating which both require calls to np.random.\n",
        "*   Optimal Solution: given high mut_rate & cross_rate, the solution can vary widely, but on average performs poorly. This is due to the optimality in the underlying 2 algorithms, Generate & Test plus Greedy. They both yield >80% accuracy always (since they are deterministic). Thus, for the best solutions we should attempt to shoot for lower rates of crossing and mutation since our solutions are already so optimized.\n",
        "*   Practicality: given the small size of 5 for each Knapsack problem, the practicality is arguable since most configurations yield suboptimal accuracies; much lower than running them directly from the Generate & Test or Greedy algorithms. This does mean that for larger sizes, there can be more to be exploited from the Genetic Algorithm"
      ]
    },
    {
      "cell_type": "markdown",
      "metadata": {
        "id": "ekb0LOgF-xUN"
      },
      "source": [
        "------------------------------------------------------------------------------------------------"
      ]
    },
    {
      "cell_type": "markdown",
      "metadata": {
        "id": "NdO_H-4t-6mg"
      },
      "source": [
        "**8. Comparative Study**\n",
        "\n",
        "\n",
        "\n",
        "\n"
      ]
    },
    {
      "cell_type": "code",
      "execution_count": null,
      "metadata": {
        "id": "PCIfgzn9fD2D"
      },
      "outputs": [],
      "source": [
        "import matplotlib.pyplot as plt"
      ]
    },
    {
      "cell_type": "code",
      "execution_count": null,
      "metadata": {
        "colab": {
          "base_uri": "https://localhost:8080/",
          "height": 175
        },
        "id": "oeWwaoW3cMz8",
        "outputId": "1a819575-97ea-497b-bda3-d9f9effbbca6"
      },
      "outputs": [
        {
          "data": {
            "text/html": [
              "\n",
              "  <div id=\"df-9c6546a1-e883-473c-8d18-8fb48893b291\" class=\"colab-df-container\">\n",
              "    <div>\n",
              "<style scoped>\n",
              "    .dataframe tbody tr th:only-of-type {\n",
              "        vertical-align: middle;\n",
              "    }\n",
              "\n",
              "    .dataframe tbody tr th {\n",
              "        vertical-align: top;\n",
              "    }\n",
              "\n",
              "    .dataframe thead th {\n",
              "        text-align: right;\n",
              "    }\n",
              "</style>\n",
              "<table border=\"1\" class=\"dataframe\">\n",
              "  <thead>\n",
              "    <tr style=\"text-align: right;\">\n",
              "      <th></th>\n",
              "      <th>Algorithm</th>\n",
              "      <th>Accuracy (%)</th>\n",
              "      <th>Runtime (seconds)</th>\n",
              "    </tr>\n",
              "  </thead>\n",
              "  <tbody>\n",
              "    <tr>\n",
              "      <th>0</th>\n",
              "      <td>Generate &amp; Test</td>\n",
              "      <td>100.00</td>\n",
              "      <td>7</td>\n",
              "    </tr>\n",
              "    <tr>\n",
              "      <th>1</th>\n",
              "      <td>Greedy</td>\n",
              "      <td>90.67</td>\n",
              "      <td>1</td>\n",
              "    </tr>\n",
              "    <tr>\n",
              "      <th>2</th>\n",
              "      <td>Simulated Annealing</td>\n",
              "      <td>90.73</td>\n",
              "      <td>2</td>\n",
              "    </tr>\n",
              "    <tr>\n",
              "      <th>3</th>\n",
              "      <td>Generate &amp; Test</td>\n",
              "      <td>90.68</td>\n",
              "      <td>17</td>\n",
              "    </tr>\n",
              "  </tbody>\n",
              "</table>\n",
              "</div>\n",
              "    <div class=\"colab-df-buttons\">\n",
              "\n",
              "  <div class=\"colab-df-container\">\n",
              "    <button class=\"colab-df-convert\" onclick=\"convertToInteractive('df-9c6546a1-e883-473c-8d18-8fb48893b291')\"\n",
              "            title=\"Convert this dataframe to an interactive table.\"\n",
              "            style=\"display:none;\">\n",
              "\n",
              "  <svg xmlns=\"http://www.w3.org/2000/svg\" height=\"24px\" viewBox=\"0 -960 960 960\">\n",
              "    <path d=\"M120-120v-720h720v720H120Zm60-500h600v-160H180v160Zm220 220h160v-160H400v160Zm0 220h160v-160H400v160ZM180-400h160v-160H180v160Zm440 0h160v-160H620v160ZM180-180h160v-160H180v160Zm440 0h160v-160H620v160Z\"/>\n",
              "  </svg>\n",
              "    </button>\n",
              "\n",
              "  <style>\n",
              "    .colab-df-container {\n",
              "      display:flex;\n",
              "      gap: 12px;\n",
              "    }\n",
              "\n",
              "    .colab-df-convert {\n",
              "      background-color: #E8F0FE;\n",
              "      border: none;\n",
              "      border-radius: 50%;\n",
              "      cursor: pointer;\n",
              "      display: none;\n",
              "      fill: #1967D2;\n",
              "      height: 32px;\n",
              "      padding: 0 0 0 0;\n",
              "      width: 32px;\n",
              "    }\n",
              "\n",
              "    .colab-df-convert:hover {\n",
              "      background-color: #E2EBFA;\n",
              "      box-shadow: 0px 1px 2px rgba(60, 64, 67, 0.3), 0px 1px 3px 1px rgba(60, 64, 67, 0.15);\n",
              "      fill: #174EA6;\n",
              "    }\n",
              "\n",
              "    .colab-df-buttons div {\n",
              "      margin-bottom: 4px;\n",
              "    }\n",
              "\n",
              "    [theme=dark] .colab-df-convert {\n",
              "      background-color: #3B4455;\n",
              "      fill: #D2E3FC;\n",
              "    }\n",
              "\n",
              "    [theme=dark] .colab-df-convert:hover {\n",
              "      background-color: #434B5C;\n",
              "      box-shadow: 0px 1px 3px 1px rgba(0, 0, 0, 0.15);\n",
              "      filter: drop-shadow(0px 1px 2px rgba(0, 0, 0, 0.3));\n",
              "      fill: #FFFFFF;\n",
              "    }\n",
              "  </style>\n",
              "\n",
              "    <script>\n",
              "      const buttonEl =\n",
              "        document.querySelector('#df-9c6546a1-e883-473c-8d18-8fb48893b291 button.colab-df-convert');\n",
              "      buttonEl.style.display =\n",
              "        google.colab.kernel.accessAllowed ? 'block' : 'none';\n",
              "\n",
              "      async function convertToInteractive(key) {\n",
              "        const element = document.querySelector('#df-9c6546a1-e883-473c-8d18-8fb48893b291');\n",
              "        const dataTable =\n",
              "          await google.colab.kernel.invokeFunction('convertToInteractive',\n",
              "                                                    [key], {});\n",
              "        if (!dataTable) return;\n",
              "\n",
              "        const docLinkHtml = 'Like what you see? Visit the ' +\n",
              "          '<a target=\"_blank\" href=https://colab.research.google.com/notebooks/data_table.ipynb>data table notebook</a>'\n",
              "          + ' to learn more about interactive tables.';\n",
              "        element.innerHTML = '';\n",
              "        dataTable['output_type'] = 'display_data';\n",
              "        await google.colab.output.renderOutput(dataTable, element);\n",
              "        const docLink = document.createElement('div');\n",
              "        docLink.innerHTML = docLinkHtml;\n",
              "        element.appendChild(docLink);\n",
              "      }\n",
              "    </script>\n",
              "  </div>\n",
              "\n",
              "\n",
              "<div id=\"df-89f52002-47f3-4aab-90be-b1cb44389512\">\n",
              "  <button class=\"colab-df-quickchart\" onclick=\"quickchart('df-89f52002-47f3-4aab-90be-b1cb44389512')\"\n",
              "            title=\"Suggest charts.\"\n",
              "            style=\"display:none;\">\n",
              "\n",
              "<svg xmlns=\"http://www.w3.org/2000/svg\" height=\"24px\"viewBox=\"0 0 24 24\"\n",
              "     width=\"24px\">\n",
              "    <g>\n",
              "        <path d=\"M19 3H5c-1.1 0-2 .9-2 2v14c0 1.1.9 2 2 2h14c1.1 0 2-.9 2-2V5c0-1.1-.9-2-2-2zM9 17H7v-7h2v7zm4 0h-2V7h2v10zm4 0h-2v-4h2v4z\"/>\n",
              "    </g>\n",
              "</svg>\n",
              "  </button>\n",
              "\n",
              "<style>\n",
              "  .colab-df-quickchart {\n",
              "      --bg-color: #E8F0FE;\n",
              "      --fill-color: #1967D2;\n",
              "      --hover-bg-color: #E2EBFA;\n",
              "      --hover-fill-color: #174EA6;\n",
              "      --disabled-fill-color: #AAA;\n",
              "      --disabled-bg-color: #DDD;\n",
              "  }\n",
              "\n",
              "  [theme=dark] .colab-df-quickchart {\n",
              "      --bg-color: #3B4455;\n",
              "      --fill-color: #D2E3FC;\n",
              "      --hover-bg-color: #434B5C;\n",
              "      --hover-fill-color: #FFFFFF;\n",
              "      --disabled-bg-color: #3B4455;\n",
              "      --disabled-fill-color: #666;\n",
              "  }\n",
              "\n",
              "  .colab-df-quickchart {\n",
              "    background-color: var(--bg-color);\n",
              "    border: none;\n",
              "    border-radius: 50%;\n",
              "    cursor: pointer;\n",
              "    display: none;\n",
              "    fill: var(--fill-color);\n",
              "    height: 32px;\n",
              "    padding: 0;\n",
              "    width: 32px;\n",
              "  }\n",
              "\n",
              "  .colab-df-quickchart:hover {\n",
              "    background-color: var(--hover-bg-color);\n",
              "    box-shadow: 0 1px 2px rgba(60, 64, 67, 0.3), 0 1px 3px 1px rgba(60, 64, 67, 0.15);\n",
              "    fill: var(--button-hover-fill-color);\n",
              "  }\n",
              "\n",
              "  .colab-df-quickchart-complete:disabled,\n",
              "  .colab-df-quickchart-complete:disabled:hover {\n",
              "    background-color: var(--disabled-bg-color);\n",
              "    fill: var(--disabled-fill-color);\n",
              "    box-shadow: none;\n",
              "  }\n",
              "\n",
              "  .colab-df-spinner {\n",
              "    border: 2px solid var(--fill-color);\n",
              "    border-color: transparent;\n",
              "    border-bottom-color: var(--fill-color);\n",
              "    animation:\n",
              "      spin 1s steps(1) infinite;\n",
              "  }\n",
              "\n",
              "  @keyframes spin {\n",
              "    0% {\n",
              "      border-color: transparent;\n",
              "      border-bottom-color: var(--fill-color);\n",
              "      border-left-color: var(--fill-color);\n",
              "    }\n",
              "    20% {\n",
              "      border-color: transparent;\n",
              "      border-left-color: var(--fill-color);\n",
              "      border-top-color: var(--fill-color);\n",
              "    }\n",
              "    30% {\n",
              "      border-color: transparent;\n",
              "      border-left-color: var(--fill-color);\n",
              "      border-top-color: var(--fill-color);\n",
              "      border-right-color: var(--fill-color);\n",
              "    }\n",
              "    40% {\n",
              "      border-color: transparent;\n",
              "      border-right-color: var(--fill-color);\n",
              "      border-top-color: var(--fill-color);\n",
              "    }\n",
              "    60% {\n",
              "      border-color: transparent;\n",
              "      border-right-color: var(--fill-color);\n",
              "    }\n",
              "    80% {\n",
              "      border-color: transparent;\n",
              "      border-right-color: var(--fill-color);\n",
              "      border-bottom-color: var(--fill-color);\n",
              "    }\n",
              "    90% {\n",
              "      border-color: transparent;\n",
              "      border-bottom-color: var(--fill-color);\n",
              "    }\n",
              "  }\n",
              "</style>\n",
              "\n",
              "  <script>\n",
              "    async function quickchart(key) {\n",
              "      const quickchartButtonEl =\n",
              "        document.querySelector('#' + key + ' button');\n",
              "      quickchartButtonEl.disabled = true;  // To prevent multiple clicks.\n",
              "      quickchartButtonEl.classList.add('colab-df-spinner');\n",
              "      try {\n",
              "        const charts = await google.colab.kernel.invokeFunction(\n",
              "            'suggestCharts', [key], {});\n",
              "      } catch (error) {\n",
              "        console.error('Error during call to suggestCharts:', error);\n",
              "      }\n",
              "      quickchartButtonEl.classList.remove('colab-df-spinner');\n",
              "      quickchartButtonEl.classList.add('colab-df-quickchart-complete');\n",
              "    }\n",
              "    (() => {\n",
              "      let quickchartButtonEl =\n",
              "        document.querySelector('#df-89f52002-47f3-4aab-90be-b1cb44389512 button');\n",
              "      quickchartButtonEl.style.display =\n",
              "        google.colab.kernel.accessAllowed ? 'block' : 'none';\n",
              "    })();\n",
              "  </script>\n",
              "</div>\n",
              "    </div>\n",
              "  </div>\n"
            ],
            "text/plain": [
              "             Algorithm  Accuracy (%)  Runtime (seconds)\n",
              "0      Generate & Test        100.00                  7\n",
              "1               Greedy         90.67                  1\n",
              "2  Simulated Annealing         90.73                  2\n",
              "3      Generate & Test         90.68                 17"
            ]
          },
          "execution_count": 136,
          "metadata": {},
          "output_type": "execute_result"
        }
      ],
      "source": [
        "data = [[\"Generate & Test\", 100, 7], [\"Greedy\", 90.67, 1], [\"Simulated Annealing\", 90.73, 2], [\"Generate & Test\", 90.68, 17]]\n",
        "pd.DataFrame(data, columns=[\"Algorithm\", \"Accuracy (%)\", \"Runtime (seconds)\"])"
      ]
    },
    {
      "cell_type": "markdown",
      "metadata": {
        "id": "WaatsBb1fOp9"
      },
      "source": [
        "Reference for graphs: https://stackoverflow.com/questions/35160256/how-do-i-output-lists-as-a-table-in-jupyter-notebook"
      ]
    },
    {
      "cell_type": "markdown",
      "metadata": {
        "id": "8Ikmq-si_23Y"
      },
      "source": [
        "**9. Conclusion**\n",
        "\n",
        "Comment on the empirical study, its results, and give ideas for future work.\n",
        "Result Discussion:\n",
        "1.    Generate & Test: the algorithm always provides the optimal solution given that it explores all branches/possibilities at a disadvantaged runtime. It is impractical to run the algorithm for even larger datasets and/or no. of objects, given that with our implementation we see a runtime of about 6 seconds.\n",
        "2. Greedy: the algorithm provides 90% accuracy for optimal solutions. The greedy alg takes the best price at each state until it cannot fit any more items in the bag. Changing the greedy strategy can effect the accuracy to make it lower.\n",
        "3. Simulated Annealing: the accuracy for simuated annealing depends on several factors such as temperature (min and max), cooling rate, energy threshold, and inital solution generation. Greedy increases the accuracy comapred to a random intial solution. The more iterations that the alg goes through can lead to higher accuracy. This algroithm can takes worse solutions based on a calculated probability as the temperature decreases. This randomness and modifying the solution slighlty can lead to more optimal solutions. THerefore the accuracy was higher than the greedy solution.\n",
        "4.    Genetic Algorithm: from our comparative study, it goes to show that randomness can produce optimal results given the right parameters. That is, if we see that our greedy produces relatively high accuracy results, we should opt for lower mutation and/or crossover rates. Thus, we recommend running the genetical algorithm if we see that our greedy/random algorithm gets stuck pretty often. In other words, random implementations can be optimized by running them through the genetic algorithm since it incurs an element of randomness; i.e.: our point in the solution space can be brought closer to the global max.\n"
      ]
    },
    {
      "cell_type": "markdown",
      "metadata": {
        "id": "41s8gvCNABDy"
      },
      "source": [
        "--------------------------------------------------------------------------\n"
      ]
    },
    {
      "cell_type": "markdown",
      "metadata": {
        "id": "PtbOgI1q_9a0"
      },
      "source": [
        "**10. References**\n",
        "\n",
        "*   Lecture Notes (From Week 3 and below)\n",
        "*   https://stackoverflow.com/questions/3121979/how-to-sort-a-list-tuple-of-lists-tuples-by-the-element-at-a-given-index\n",
        "*   https://www.geeksforgeeks.org/genetic-algorithms/\n",
        "\n",
        "* Greedy:\n",
        "* https://www.w3schools.com/python/pandas/ref_df_iterrows.asp\n",
        "* https://pandas.pydata.org/docs/reference/api/pandas.DataFrame.iterrows.html\n",
        "* https://stackoverflow.com/questions/522563/accessing-the-index-in-for-loops\n",
        "* https://www.geeksforgeeks.org/greedy-algorithms-general-structure-and-applications/\n",
        "* https://www.geeksforgeeks.org/fractional-knapsack-problem/\n",
        "* https://www.geeksforgeeks.org/greedy-algorithms-general-structure-and-applications/\n",
        "* https://www.geeksforgeeks.org/fractional-knapsack-problem/\n",
        "* https://stackoverflow.com/questions/522563/accessing-the-index-in-for-loops\n",
        "* https://www.geeksforgeeks.org/break-continue-and-pass-in-python/\n",
        "* Simulated Annealing\n",
        "* https://docs.python.org/3/library/random.html\n",
        "* https://stackoverflow.com/questions/6088077/how-to-get-a-random-number-between-a-float-range\n",
        "* https://stackoverflow.com/questions/30030659/in-python-what-is-the-difference-between-random-uniform-and-random-random\n",
        "* https://www.w3schools.com/python/ref_random_random.asp\n",
        "* https://stackoverflow.com/questions/33359740/random-number-between-0-and-1\n",
        "* https://www.w3schools.com/python/ref_math_exp.asp\n",
        "* https://www.w3schools.com/python/ref_func_range.asp\n",
        "* https://www.w3schools.com/python/ref_random_randint.asp\n",
        "* https://www.w3schools.com/python/python_lists_copy.asp\n",
        "* https://www.geeksforgeeks.org/sum-function-python/\n",
        "* https://www.geeksforgeeks.org/simulated-annealing/\n",
        "* https://www.w3schools.com/python/ref_math_exp.asp\n",
        "* https://www.geeksforgeeks.org/python-random-function/\n",
        "* https://www.w3schools.com/python/ref_func_range.asp\n",
        "* https://visualstudiomagazine.com/articles/2021/12/01/traveling-salesman.aspx\n",
        "\n",
        "* Comparative study\n",
        "* https://stackoverflow.com/questions/35160256/how-do-i-output-lists-as-a-table-in-jupyter-notebook\n",
        "\n"
      ]
    }
  ],
  "metadata": {
    "colab": {
      "provenance": []
    },
    "kernelspec": {
      "display_name": "Python 3",
      "language": "python",
      "name": "python3"
    },
    "language_info": {
      "codemirror_mode": {
        "name": "ipython",
        "version": 3
      },
      "file_extension": ".py",
      "mimetype": "text/x-python",
      "name": "python",
      "nbconvert_exporter": "python",
      "pygments_lexer": "ipython3",
      "version": "3.9.10"
    },
    "orig_nbformat": 4
  },
  "nbformat": 4,
  "nbformat_minor": 0
}
