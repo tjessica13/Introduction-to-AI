{
  "cells": [
    {
      "cell_type": "markdown",
      "metadata": {
        "id": "Pbcc9QS1tnBN"
      },
      "source": [
        "# **ASSIGNMENT 4: Classification Empirical Study - Text Classification**"
      ]
    },
    {
      "cell_type": "markdown",
      "metadata": {},
      "source": [
        "This was an assignment completed for the Introduction to AI course. This assingnment was completed in a group of two people.\n",
        "Portions of this assignment were removed to make it public. This is not a working/full copy of the completed assignment."
      ]
    },
    {
      "cell_type": "markdown",
      "metadata": {
        "id": "_VWNt8M-4CYM"
      },
      "source": [
        "# **1. Choose a Text Classification Dataset**"
      ]
    },
    {
      "cell_type": "markdown",
      "metadata": {
        "id": "pf5Rl-i3pXNX"
      },
      "source": [
        "(reduced) CNN theme classification:\n",
        "https://www.kaggle.com/datasets/pedroaribe/4000-cnn-articles-as-of-1062023\n",
        "\n",
        "There are 4000 articles to be classified into various themes (e.g. politics, sport, weather, …)"
      ]
    },
    {
      "cell_type": "markdown",
      "metadata": {
        "id": "EKX0nBkZ30Yo"
      },
      "source": [
        "# **2. Perform some tasks from the NLP pipeline on textual data**"
      ]
    },
    {
      "cell_type": "markdown",
      "metadata": {
        "id": "RMUnCICdyBbs"
      },
      "source": [
        "###Derived Datasets"
      ]
    },
    {
      "cell_type": "code",
      "execution_count": null,
      "metadata": {
        "colab": {
          "base_uri": "https://localhost:8080/"
        },
        "id": "bhFvS3q7Lu0R",
        "outputId": "d048ac5d-f4ac-4498-c562-1dcabe9b7c9e"
      },
      "outputs": [
        {
          "name": "stdout",
          "output_type": "stream",
          "text": [
            "Requirement already satisfied: spacy in /usr/local/lib/python3.10/dist-packages (3.6.1)\n",
            "Requirement already satisfied: spacy-legacy<3.1.0,>=3.0.11 in /usr/local/lib/python3.10/dist-packages (from spacy) (3.0.12)\n",
            "Requirement already satisfied: spacy-loggers<2.0.0,>=1.0.0 in /usr/local/lib/python3.10/dist-packages (from spacy) (1.0.5)\n",
            "Requirement already satisfied: murmurhash<1.1.0,>=0.28.0 in /usr/local/lib/python3.10/dist-packages (from spacy) (1.0.10)\n",
            "Requirement already satisfied: cymem<2.1.0,>=2.0.2 in /usr/local/lib/python3.10/dist-packages (from spacy) (2.0.8)\n",
            "Requirement already satisfied: preshed<3.1.0,>=3.0.2 in /usr/local/lib/python3.10/dist-packages (from spacy) (3.0.9)\n",
            "Requirement already satisfied: thinc<8.2.0,>=8.1.8 in /usr/local/lib/python3.10/dist-packages (from spacy) (8.1.12)\n",
            "Requirement already satisfied: wasabi<1.2.0,>=0.9.1 in /usr/local/lib/python3.10/dist-packages (from spacy) (1.1.2)\n",
            "Requirement already satisfied: srsly<3.0.0,>=2.4.3 in /usr/local/lib/python3.10/dist-packages (from spacy) (2.4.8)\n",
            "Requirement already satisfied: catalogue<2.1.0,>=2.0.6 in /usr/local/lib/python3.10/dist-packages (from spacy) (2.0.10)\n",
            "Requirement already satisfied: typer<0.10.0,>=0.3.0 in /usr/local/lib/python3.10/dist-packages (from spacy) (0.9.0)\n",
            "Requirement already satisfied: pathy>=0.10.0 in /usr/local/lib/python3.10/dist-packages (from spacy) (0.10.3)\n",
            "Requirement already satisfied: smart-open<7.0.0,>=5.2.1 in /usr/local/lib/python3.10/dist-packages (from spacy) (6.4.0)\n",
            "Requirement already satisfied: tqdm<5.0.0,>=4.38.0 in /usr/local/lib/python3.10/dist-packages (from spacy) (4.66.1)\n",
            "Requirement already satisfied: numpy>=1.15.0 in /usr/local/lib/python3.10/dist-packages (from spacy) (1.23.5)\n",
            "Requirement already satisfied: requests<3.0.0,>=2.13.0 in /usr/local/lib/python3.10/dist-packages (from spacy) (2.31.0)\n",
            "Requirement already satisfied: pydantic!=1.8,!=1.8.1,<3.0.0,>=1.7.4 in /usr/local/lib/python3.10/dist-packages (from spacy) (1.10.13)\n",
            "Requirement already satisfied: jinja2 in /usr/local/lib/python3.10/dist-packages (from spacy) (3.1.2)\n",
            "Requirement already satisfied: setuptools in /usr/local/lib/python3.10/dist-packages (from spacy) (67.7.2)\n",
            "Requirement already satisfied: packaging>=20.0 in /usr/local/lib/python3.10/dist-packages (from spacy) (23.2)\n",
            "Requirement already satisfied: langcodes<4.0.0,>=3.2.0 in /usr/local/lib/python3.10/dist-packages (from spacy) (3.3.0)\n",
            "Requirement already satisfied: typing-extensions>=4.2.0 in /usr/local/lib/python3.10/dist-packages (from pydantic!=1.8,!=1.8.1,<3.0.0,>=1.7.4->spacy) (4.5.0)\n",
            "Requirement already satisfied: charset-normalizer<4,>=2 in /usr/local/lib/python3.10/dist-packages (from requests<3.0.0,>=2.13.0->spacy) (3.3.2)\n",
            "Requirement already satisfied: idna<4,>=2.5 in /usr/local/lib/python3.10/dist-packages (from requests<3.0.0,>=2.13.0->spacy) (3.6)\n",
            "Requirement already satisfied: urllib3<3,>=1.21.1 in /usr/local/lib/python3.10/dist-packages (from requests<3.0.0,>=2.13.0->spacy) (2.0.7)\n",
            "Requirement already satisfied: certifi>=2017.4.17 in /usr/local/lib/python3.10/dist-packages (from requests<3.0.0,>=2.13.0->spacy) (2023.11.17)\n",
            "Requirement already satisfied: blis<0.8.0,>=0.7.8 in /usr/local/lib/python3.10/dist-packages (from thinc<8.2.0,>=8.1.8->spacy) (0.7.11)\n",
            "Requirement already satisfied: confection<1.0.0,>=0.0.1 in /usr/local/lib/python3.10/dist-packages (from thinc<8.2.0,>=8.1.8->spacy) (0.1.4)\n",
            "Requirement already satisfied: click<9.0.0,>=7.1.1 in /usr/local/lib/python3.10/dist-packages (from typer<0.10.0,>=0.3.0->spacy) (8.1.7)\n",
            "Requirement already satisfied: MarkupSafe>=2.0 in /usr/local/lib/python3.10/dist-packages (from jinja2->spacy) (2.1.3)\n"
          ]
        }
      ],
      "source": [
        "#let's start by installing spaCy\n",
        "!pip install spacy"
      ]
    },
    {
      "cell_type": "code",
      "execution_count": null,
      "metadata": {
        "id": "aCWgl6PLKTDY"
      },
      "outputs": [],
      "source": [
        "import spacy\n",
        "import pandas as pd\n",
        "import numpy as np\n",
        "\n",
        "# Useful for calculating precision, recall, micros & macros\n",
        "from sklearn import metrics\n",
        "from sklearn.metrics import (\n",
        "    f1_score,\n",
        "    accuracy_score,\n",
        "    confusion_matrix,\n",
        "    ConfusionMatrixDisplay,\n",
        "    classification_report\n",
        ")\n",
        "\n",
        "# Just a tad QoL import to decrease verbosity from warnings\n",
        "import warnings\n",
        "warnings.filterwarnings('ignore')"
      ]
    },
    {
      "cell_type": "markdown",
      "metadata": {
        "id": "CSyg0jjC1jJa"
      },
      "source": [
        "Using a reduced version of the CNN dataset. This dataset, as opposed to the original dataset, has 1412 sample articles.\n"
      ]
    },
    {
      "cell_type": "code",
      "execution_count": null,
      "metadata": {
        "id": "1Xx4qMCLKTDb"
      },
      "outputs": [],
      "source": [
        "# Load the dataset you chose.\n",
        "# removed for public repo\n",
        "#url = 'https://raw.githubusercontent.com/{reduced kaggle dataset for cnn news}'"
      ]
    },
    {
      "cell_type": "code",
      "execution_count": null,
      "metadata": {
        "colab": {
          "base_uri": "https://localhost:8080/"
        },
        "id": "ZIzKzrGWixLJ",
        "outputId": "da2f1257-dcfa-4915-e303-39264d002cb4"
      },
      "outputs": [],
      "source": [
        "data = pd.read_csv(url)"
      ]
    },
    {
      "cell_type": "code",
      "execution_count": null,
      "metadata": {
        "colab": {
          "base_uri": "https://localhost:8080/",
          "height": 292
        },
        "id": "sI-KaL2IizVt",
        "outputId": "c6e4a7e7-8fbf-4b15-a429-3e7d68980d4f"
      },
      "outputs": [
        {
          "data": {
            "text/html": [
              "\n",
              "  <div id=\"df-d7513587-2f26-495d-9e45-e5bb82f00e98\" class=\"colab-df-container\">\n",
              "    <div>\n",
              "<style scoped>\n",
              "    .dataframe tbody tr th:only-of-type {\n",
              "        vertical-align: middle;\n",
              "    }\n",
              "\n",
              "    .dataframe tbody tr th {\n",
              "        vertical-align: top;\n",
              "    }\n",
              "\n",
              "    .dataframe thead th {\n",
              "        text-align: right;\n",
              "    }\n",
              "</style>\n",
              "<table border=\"1\" class=\"dataframe\">\n",
              "  <thead>\n",
              "    <tr style=\"text-align: right;\">\n",
              "      <th></th>\n",
              "      <th>ID</th>\n",
              "      <th>Title</th>\n",
              "      <th>Description</th>\n",
              "      <th>Body</th>\n",
              "      <th>Keywords</th>\n",
              "      <th>Theme</th>\n",
              "      <th>Link</th>\n",
              "    </tr>\n",
              "  </thead>\n",
              "  <tbody>\n",
              "    <tr>\n",
              "      <th>0</th>\n",
              "      <td>1</td>\n",
              "      <td>Candy factory didn't evacuate concerned worker...</td>\n",
              "      <td>An eastern Pennsylvania candy factory didn’t e...</td>\n",
              "      <td>An eastern Pennsylvania candy factory didn’t e...</td>\n",
              "      <td>accident investigations, accidents, accidents,...</td>\n",
              "      <td>us</td>\n",
              "      <td>https://edition.cnn.com/2023/10/06/us/pennsylv...</td>\n",
              "    </tr>\n",
              "    <tr>\n",
              "      <th>1</th>\n",
              "      <td>2</td>\n",
              "      <td>Baltimore police ask for public's help identif...</td>\n",
              "      <td>Two shooters were involved in an attack at Mor...</td>\n",
              "      <td>Two shooters were involved in an attack at Mor...</td>\n",
              "      <td>baltimore, brand safety-nsf crime, brand safet...</td>\n",
              "      <td>us</td>\n",
              "      <td>https://edition.cnn.com/2023/10/06/us/morgan-s...</td>\n",
              "    </tr>\n",
              "    <tr>\n",
              "      <th>2</th>\n",
              "      <td>3</td>\n",
              "      <td>An arrest warrant has been issued for a suspec...</td>\n",
              "      <td>Authorities in Pennsylvania say they have issu...</td>\n",
              "      <td>Authorities in Pennsylvania say they have issu...</td>\n",
              "      <td>arrest warrants, arrests, brand safety-nsf cri...</td>\n",
              "      <td>us</td>\n",
              "      <td>https://edition.cnn.com/2023/10/06/us/josh-kru...</td>\n",
              "    </tr>\n",
              "    <tr>\n",
              "      <th>3</th>\n",
              "      <td>4</td>\n",
              "      <td>115 improperly stored human remains found in C...</td>\n",
              "      <td>An investigation into more than 115 bodies fou...</td>\n",
              "      <td>An investigation into more than 115 bodies fou...</td>\n",
              "      <td>brand safety-nsf death, brand safety-nsf sensi...</td>\n",
              "      <td>us</td>\n",
              "      <td>https://edition.cnn.com/2023/10/06/us/colorado...</td>\n",
              "    </tr>\n",
              "    <tr>\n",
              "      <th>4</th>\n",
              "      <td>5</td>\n",
              "      <td>Bronx day care provider and 2 others indicted ...</td>\n",
              "      <td>A Bronx day care provider, her husband and his...</td>\n",
              "      <td>A Bronx day care provider, her husband and his...</td>\n",
              "      <td>brand safety-nsf crime, brand safety-nsf death...</td>\n",
              "      <td>us</td>\n",
              "      <td>https://edition.cnn.com/2023/10/05/us/bronx-da...</td>\n",
              "    </tr>\n",
              "  </tbody>\n",
              "</table>\n",
              "</div>\n",
              "    <div class=\"colab-df-buttons\">\n",
              "\n",
              "  <div class=\"colab-df-container\">\n",
              "    <button class=\"colab-df-convert\" onclick=\"convertToInteractive('df-d7513587-2f26-495d-9e45-e5bb82f00e98')\"\n",
              "            title=\"Convert this dataframe to an interactive table.\"\n",
              "            style=\"display:none;\">\n",
              "\n",
              "  <svg xmlns=\"http://www.w3.org/2000/svg\" height=\"24px\" viewBox=\"0 -960 960 960\">\n",
              "    <path d=\"M120-120v-720h720v720H120Zm60-500h600v-160H180v160Zm220 220h160v-160H400v160Zm0 220h160v-160H400v160ZM180-400h160v-160H180v160Zm440 0h160v-160H620v160ZM180-180h160v-160H180v160Zm440 0h160v-160H620v160Z\"/>\n",
              "  </svg>\n",
              "    </button>\n",
              "\n",
              "  <style>\n",
              "    .colab-df-container {\n",
              "      display:flex;\n",
              "      gap: 12px;\n",
              "    }\n",
              "\n",
              "    .colab-df-convert {\n",
              "      background-color: #E8F0FE;\n",
              "      border: none;\n",
              "      border-radius: 50%;\n",
              "      cursor: pointer;\n",
              "      display: none;\n",
              "      fill: #1967D2;\n",
              "      height: 32px;\n",
              "      padding: 0 0 0 0;\n",
              "      width: 32px;\n",
              "    }\n",
              "\n",
              "    .colab-df-convert:hover {\n",
              "      background-color: #E2EBFA;\n",
              "      box-shadow: 0px 1px 2px rgba(60, 64, 67, 0.3), 0px 1px 3px 1px rgba(60, 64, 67, 0.15);\n",
              "      fill: #174EA6;\n",
              "    }\n",
              "\n",
              "    .colab-df-buttons div {\n",
              "      margin-bottom: 4px;\n",
              "    }\n",
              "\n",
              "    [theme=dark] .colab-df-convert {\n",
              "      background-color: #3B4455;\n",
              "      fill: #D2E3FC;\n",
              "    }\n",
              "\n",
              "    [theme=dark] .colab-df-convert:hover {\n",
              "      background-color: #434B5C;\n",
              "      box-shadow: 0px 1px 3px 1px rgba(0, 0, 0, 0.15);\n",
              "      filter: drop-shadow(0px 1px 2px rgba(0, 0, 0, 0.3));\n",
              "      fill: #FFFFFF;\n",
              "    }\n",
              "  </style>\n",
              "\n",
              "    <script>\n",
              "      const buttonEl =\n",
              "        document.querySelector('#df-d7513587-2f26-495d-9e45-e5bb82f00e98 button.colab-df-convert');\n",
              "      buttonEl.style.display =\n",
              "        google.colab.kernel.accessAllowed ? 'block' : 'none';\n",
              "\n",
              "      async function convertToInteractive(key) {\n",
              "        const element = document.querySelector('#df-d7513587-2f26-495d-9e45-e5bb82f00e98');\n",
              "        const dataTable =\n",
              "          await google.colab.kernel.invokeFunction('convertToInteractive',\n",
              "                                                    [key], {});\n",
              "        if (!dataTable) return;\n",
              "\n",
              "        const docLinkHtml = 'Like what you see? Visit the ' +\n",
              "          '<a target=\"_blank\" href=https://colab.research.google.com/notebooks/data_table.ipynb>data table notebook</a>'\n",
              "          + ' to learn more about interactive tables.';\n",
              "        element.innerHTML = '';\n",
              "        dataTable['output_type'] = 'display_data';\n",
              "        await google.colab.output.renderOutput(dataTable, element);\n",
              "        const docLink = document.createElement('div');\n",
              "        docLink.innerHTML = docLinkHtml;\n",
              "        element.appendChild(docLink);\n",
              "      }\n",
              "    </script>\n",
              "  </div>\n",
              "\n",
              "\n",
              "<div id=\"df-811f306f-d6f6-4e04-b693-0252727a067e\">\n",
              "  <button class=\"colab-df-quickchart\" onclick=\"quickchart('df-811f306f-d6f6-4e04-b693-0252727a067e')\"\n",
              "            title=\"Suggest charts\"\n",
              "            style=\"display:none;\">\n",
              "\n",
              "<svg xmlns=\"http://www.w3.org/2000/svg\" height=\"24px\"viewBox=\"0 0 24 24\"\n",
              "     width=\"24px\">\n",
              "    <g>\n",
              "        <path d=\"M19 3H5c-1.1 0-2 .9-2 2v14c0 1.1.9 2 2 2h14c1.1 0 2-.9 2-2V5c0-1.1-.9-2-2-2zM9 17H7v-7h2v7zm4 0h-2V7h2v10zm4 0h-2v-4h2v4z\"/>\n",
              "    </g>\n",
              "</svg>\n",
              "  </button>\n",
              "\n",
              "<style>\n",
              "  .colab-df-quickchart {\n",
              "      --bg-color: #E8F0FE;\n",
              "      --fill-color: #1967D2;\n",
              "      --hover-bg-color: #E2EBFA;\n",
              "      --hover-fill-color: #174EA6;\n",
              "      --disabled-fill-color: #AAA;\n",
              "      --disabled-bg-color: #DDD;\n",
              "  }\n",
              "\n",
              "  [theme=dark] .colab-df-quickchart {\n",
              "      --bg-color: #3B4455;\n",
              "      --fill-color: #D2E3FC;\n",
              "      --hover-bg-color: #434B5C;\n",
              "      --hover-fill-color: #FFFFFF;\n",
              "      --disabled-bg-color: #3B4455;\n",
              "      --disabled-fill-color: #666;\n",
              "  }\n",
              "\n",
              "  .colab-df-quickchart {\n",
              "    background-color: var(--bg-color);\n",
              "    border: none;\n",
              "    border-radius: 50%;\n",
              "    cursor: pointer;\n",
              "    display: none;\n",
              "    fill: var(--fill-color);\n",
              "    height: 32px;\n",
              "    padding: 0;\n",
              "    width: 32px;\n",
              "  }\n",
              "\n",
              "  .colab-df-quickchart:hover {\n",
              "    background-color: var(--hover-bg-color);\n",
              "    box-shadow: 0 1px 2px rgba(60, 64, 67, 0.3), 0 1px 3px 1px rgba(60, 64, 67, 0.15);\n",
              "    fill: var(--button-hover-fill-color);\n",
              "  }\n",
              "\n",
              "  .colab-df-quickchart-complete:disabled,\n",
              "  .colab-df-quickchart-complete:disabled:hover {\n",
              "    background-color: var(--disabled-bg-color);\n",
              "    fill: var(--disabled-fill-color);\n",
              "    box-shadow: none;\n",
              "  }\n",
              "\n",
              "  .colab-df-spinner {\n",
              "    border: 2px solid var(--fill-color);\n",
              "    border-color: transparent;\n",
              "    border-bottom-color: var(--fill-color);\n",
              "    animation:\n",
              "      spin 1s steps(1) infinite;\n",
              "  }\n",
              "\n",
              "  @keyframes spin {\n",
              "    0% {\n",
              "      border-color: transparent;\n",
              "      border-bottom-color: var(--fill-color);\n",
              "      border-left-color: var(--fill-color);\n",
              "    }\n",
              "    20% {\n",
              "      border-color: transparent;\n",
              "      border-left-color: var(--fill-color);\n",
              "      border-top-color: var(--fill-color);\n",
              "    }\n",
              "    30% {\n",
              "      border-color: transparent;\n",
              "      border-left-color: var(--fill-color);\n",
              "      border-top-color: var(--fill-color);\n",
              "      border-right-color: var(--fill-color);\n",
              "    }\n",
              "    40% {\n",
              "      border-color: transparent;\n",
              "      border-right-color: var(--fill-color);\n",
              "      border-top-color: var(--fill-color);\n",
              "    }\n",
              "    60% {\n",
              "      border-color: transparent;\n",
              "      border-right-color: var(--fill-color);\n",
              "    }\n",
              "    80% {\n",
              "      border-color: transparent;\n",
              "      border-right-color: var(--fill-color);\n",
              "      border-bottom-color: var(--fill-color);\n",
              "    }\n",
              "    90% {\n",
              "      border-color: transparent;\n",
              "      border-bottom-color: var(--fill-color);\n",
              "    }\n",
              "  }\n",
              "</style>\n",
              "\n",
              "  <script>\n",
              "    async function quickchart(key) {\n",
              "      const quickchartButtonEl =\n",
              "        document.querySelector('#' + key + ' button');\n",
              "      quickchartButtonEl.disabled = true;  // To prevent multiple clicks.\n",
              "      quickchartButtonEl.classList.add('colab-df-spinner');\n",
              "      try {\n",
              "        const charts = await google.colab.kernel.invokeFunction(\n",
              "            'suggestCharts', [key], {});\n",
              "      } catch (error) {\n",
              "        console.error('Error during call to suggestCharts:', error);\n",
              "      }\n",
              "      quickchartButtonEl.classList.remove('colab-df-spinner');\n",
              "      quickchartButtonEl.classList.add('colab-df-quickchart-complete');\n",
              "    }\n",
              "    (() => {\n",
              "      let quickchartButtonEl =\n",
              "        document.querySelector('#df-811f306f-d6f6-4e04-b693-0252727a067e button');\n",
              "      quickchartButtonEl.style.display =\n",
              "        google.colab.kernel.accessAllowed ? 'block' : 'none';\n",
              "    })();\n",
              "  </script>\n",
              "</div>\n",
              "    </div>\n",
              "  </div>\n"
            ],
            "text/plain": [
              "   ID                                              Title  \\\n",
              "0   1  Candy factory didn't evacuate concerned worker...   \n",
              "1   2  Baltimore police ask for public's help identif...   \n",
              "2   3  An arrest warrant has been issued for a suspec...   \n",
              "3   4  115 improperly stored human remains found in C...   \n",
              "4   5  Bronx day care provider and 2 others indicted ...   \n",
              "\n",
              "                                         Description  \\\n",
              "0  An eastern Pennsylvania candy factory didn’t e...   \n",
              "1  Two shooters were involved in an attack at Mor...   \n",
              "2  Authorities in Pennsylvania say they have issu...   \n",
              "3  An investigation into more than 115 bodies fou...   \n",
              "4  A Bronx day care provider, her husband and his...   \n",
              "\n",
              "                                                Body  \\\n",
              "0  An eastern Pennsylvania candy factory didn’t e...   \n",
              "1  Two shooters were involved in an attack at Mor...   \n",
              "2  Authorities in Pennsylvania say they have issu...   \n",
              "3  An investigation into more than 115 bodies fou...   \n",
              "4  A Bronx day care provider, her husband and his...   \n",
              "\n",
              "                                            Keywords Theme  \\\n",
              "0  accident investigations, accidents, accidents,...    us   \n",
              "1  baltimore, brand safety-nsf crime, brand safet...    us   \n",
              "2  arrest warrants, arrests, brand safety-nsf cri...    us   \n",
              "3  brand safety-nsf death, brand safety-nsf sensi...    us   \n",
              "4  brand safety-nsf crime, brand safety-nsf death...    us   \n",
              "\n",
              "                                                Link  \n",
              "0  https://edition.cnn.com/2023/10/06/us/pennsylv...  \n",
              "1  https://edition.cnn.com/2023/10/06/us/morgan-s...  \n",
              "2  https://edition.cnn.com/2023/10/06/us/josh-kru...  \n",
              "3  https://edition.cnn.com/2023/10/06/us/colorado...  \n",
              "4  https://edition.cnn.com/2023/10/05/us/bronx-da...  "
            ]
          },
          "execution_count": 5,
          "metadata": {},
          "output_type": "execute_result"
        }
      ],
      "source": [
        "data.head()"
      ]
    },
    {
      "cell_type": "markdown",
      "metadata": {
        "id": "Y3pycllPKTDd"
      },
      "source": [
        "This is where you create the NLP pipeline. load() will download the correct model (English)."
      ]
    },
    {
      "cell_type": "code",
      "execution_count": null,
      "metadata": {
        "id": "wQtSi8XuKTDe"
      },
      "outputs": [],
      "source": [
        "nlp = spacy.load(\"en_core_web_sm\")"
      ]
    },
    {
      "cell_type": "markdown",
      "metadata": {
        "id": "ccqFArDyKTDf"
      },
      "source": [
        "Applying the pipeline to every sentences creates a Document where every word is a Token object.\n",
        "\n",
        "Doc: https://spacy.io/api/doc\n",
        "\n",
        "Token: https://spacy.io/api/token"
      ]
    },
    {
      "cell_type": "code",
      "execution_count": null,
      "metadata": {
        "id": "WcaeMUL2KTDg"
      },
      "outputs": [],
      "source": [
        "#Apply nlp pipeline to the column that has your sentences.\n",
        "data['tokenized'] = data['Title'].apply(nlp)"
      ]
    },
    {
      "cell_type": "code",
      "execution_count": null,
      "metadata": {
        "colab": {
          "base_uri": "https://localhost:8080/",
          "height": 292
        },
        "id": "7i6ai1I8KTDg",
        "outputId": "09d0017e-84da-4eeb-e0ec-98ab70d3e5d9"
      },
      "outputs": [
        {
          "data": {
            "text/html": [
              "\n",
              "  <div id=\"df-0b50bbd6-bdd7-48b2-a77f-feb85902de96\" class=\"colab-df-container\">\n",
              "    <div>\n",
              "<style scoped>\n",
              "    .dataframe tbody tr th:only-of-type {\n",
              "        vertical-align: middle;\n",
              "    }\n",
              "\n",
              "    .dataframe tbody tr th {\n",
              "        vertical-align: top;\n",
              "    }\n",
              "\n",
              "    .dataframe thead th {\n",
              "        text-align: right;\n",
              "    }\n",
              "</style>\n",
              "<table border=\"1\" class=\"dataframe\">\n",
              "  <thead>\n",
              "    <tr style=\"text-align: right;\">\n",
              "      <th></th>\n",
              "      <th>ID</th>\n",
              "      <th>Title</th>\n",
              "      <th>Description</th>\n",
              "      <th>Body</th>\n",
              "      <th>Keywords</th>\n",
              "      <th>Theme</th>\n",
              "      <th>Link</th>\n",
              "      <th>tokenized</th>\n",
              "    </tr>\n",
              "  </thead>\n",
              "  <tbody>\n",
              "    <tr>\n",
              "      <th>0</th>\n",
              "      <td>1</td>\n",
              "      <td>Candy factory didn't evacuate concerned worker...</td>\n",
              "      <td>An eastern Pennsylvania candy factory didn’t e...</td>\n",
              "      <td>An eastern Pennsylvania candy factory didn’t e...</td>\n",
              "      <td>accident investigations, accidents, accidents,...</td>\n",
              "      <td>us</td>\n",
              "      <td>https://edition.cnn.com/2023/10/06/us/pennsylv...</td>\n",
              "      <td>(Candy, factory, did, n't, evacuate, concerned...</td>\n",
              "    </tr>\n",
              "    <tr>\n",
              "      <th>1</th>\n",
              "      <td>2</td>\n",
              "      <td>Baltimore police ask for public's help identif...</td>\n",
              "      <td>Two shooters were involved in an attack at Mor...</td>\n",
              "      <td>Two shooters were involved in an attack at Mor...</td>\n",
              "      <td>baltimore, brand safety-nsf crime, brand safet...</td>\n",
              "      <td>us</td>\n",
              "      <td>https://edition.cnn.com/2023/10/06/us/morgan-s...</td>\n",
              "      <td>(Baltimore, police, ask, for, public, 's, help...</td>\n",
              "    </tr>\n",
              "    <tr>\n",
              "      <th>2</th>\n",
              "      <td>3</td>\n",
              "      <td>An arrest warrant has been issued for a suspec...</td>\n",
              "      <td>Authorities in Pennsylvania say they have issu...</td>\n",
              "      <td>Authorities in Pennsylvania say they have issu...</td>\n",
              "      <td>arrest warrants, arrests, brand safety-nsf cri...</td>\n",
              "      <td>us</td>\n",
              "      <td>https://edition.cnn.com/2023/10/06/us/josh-kru...</td>\n",
              "      <td>(An, arrest, warrant, has, been, issued, for, ...</td>\n",
              "    </tr>\n",
              "    <tr>\n",
              "      <th>3</th>\n",
              "      <td>4</td>\n",
              "      <td>115 improperly stored human remains found in C...</td>\n",
              "      <td>An investigation into more than 115 bodies fou...</td>\n",
              "      <td>An investigation into more than 115 bodies fou...</td>\n",
              "      <td>brand safety-nsf death, brand safety-nsf sensi...</td>\n",
              "      <td>us</td>\n",
              "      <td>https://edition.cnn.com/2023/10/06/us/colorado...</td>\n",
              "      <td>(115, improperly, stored, human, remains, foun...</td>\n",
              "    </tr>\n",
              "    <tr>\n",
              "      <th>4</th>\n",
              "      <td>5</td>\n",
              "      <td>Bronx day care provider and 2 others indicted ...</td>\n",
              "      <td>A Bronx day care provider, her husband and his...</td>\n",
              "      <td>A Bronx day care provider, her husband and his...</td>\n",
              "      <td>brand safety-nsf crime, brand safety-nsf death...</td>\n",
              "      <td>us</td>\n",
              "      <td>https://edition.cnn.com/2023/10/05/us/bronx-da...</td>\n",
              "      <td>(Bronx, day, care, provider, and, 2, others, i...</td>\n",
              "    </tr>\n",
              "  </tbody>\n",
              "</table>\n",
              "</div>\n",
              "    <div class=\"colab-df-buttons\">\n",
              "\n",
              "  <div class=\"colab-df-container\">\n",
              "    <button class=\"colab-df-convert\" onclick=\"convertToInteractive('df-0b50bbd6-bdd7-48b2-a77f-feb85902de96')\"\n",
              "            title=\"Convert this dataframe to an interactive table.\"\n",
              "            style=\"display:none;\">\n",
              "\n",
              "  <svg xmlns=\"http://www.w3.org/2000/svg\" height=\"24px\" viewBox=\"0 -960 960 960\">\n",
              "    <path d=\"M120-120v-720h720v720H120Zm60-500h600v-160H180v160Zm220 220h160v-160H400v160Zm0 220h160v-160H400v160ZM180-400h160v-160H180v160Zm440 0h160v-160H620v160ZM180-180h160v-160H180v160Zm440 0h160v-160H620v160Z\"/>\n",
              "  </svg>\n",
              "    </button>\n",
              "\n",
              "  <style>\n",
              "    .colab-df-container {\n",
              "      display:flex;\n",
              "      gap: 12px;\n",
              "    }\n",
              "\n",
              "    .colab-df-convert {\n",
              "      background-color: #E8F0FE;\n",
              "      border: none;\n",
              "      border-radius: 50%;\n",
              "      cursor: pointer;\n",
              "      display: none;\n",
              "      fill: #1967D2;\n",
              "      height: 32px;\n",
              "      padding: 0 0 0 0;\n",
              "      width: 32px;\n",
              "    }\n",
              "\n",
              "    .colab-df-convert:hover {\n",
              "      background-color: #E2EBFA;\n",
              "      box-shadow: 0px 1px 2px rgba(60, 64, 67, 0.3), 0px 1px 3px 1px rgba(60, 64, 67, 0.15);\n",
              "      fill: #174EA6;\n",
              "    }\n",
              "\n",
              "    .colab-df-buttons div {\n",
              "      margin-bottom: 4px;\n",
              "    }\n",
              "\n",
              "    [theme=dark] .colab-df-convert {\n",
              "      background-color: #3B4455;\n",
              "      fill: #D2E3FC;\n",
              "    }\n",
              "\n",
              "    [theme=dark] .colab-df-convert:hover {\n",
              "      background-color: #434B5C;\n",
              "      box-shadow: 0px 1px 3px 1px rgba(0, 0, 0, 0.15);\n",
              "      filter: drop-shadow(0px 1px 2px rgba(0, 0, 0, 0.3));\n",
              "      fill: #FFFFFF;\n",
              "    }\n",
              "  </style>\n",
              "\n",
              "    <script>\n",
              "      const buttonEl =\n",
              "        document.querySelector('#df-0b50bbd6-bdd7-48b2-a77f-feb85902de96 button.colab-df-convert');\n",
              "      buttonEl.style.display =\n",
              "        google.colab.kernel.accessAllowed ? 'block' : 'none';\n",
              "\n",
              "      async function convertToInteractive(key) {\n",
              "        const element = document.querySelector('#df-0b50bbd6-bdd7-48b2-a77f-feb85902de96');\n",
              "        const dataTable =\n",
              "          await google.colab.kernel.invokeFunction('convertToInteractive',\n",
              "                                                    [key], {});\n",
              "        if (!dataTable) return;\n",
              "\n",
              "        const docLinkHtml = 'Like what you see? Visit the ' +\n",
              "          '<a target=\"_blank\" href=https://colab.research.google.com/notebooks/data_table.ipynb>data table notebook</a>'\n",
              "          + ' to learn more about interactive tables.';\n",
              "        element.innerHTML = '';\n",
              "        dataTable['output_type'] = 'display_data';\n",
              "        await google.colab.output.renderOutput(dataTable, element);\n",
              "        const docLink = document.createElement('div');\n",
              "        docLink.innerHTML = docLinkHtml;\n",
              "        element.appendChild(docLink);\n",
              "      }\n",
              "    </script>\n",
              "  </div>\n",
              "\n",
              "\n",
              "<div id=\"df-f8d7577a-7a00-4ad8-a1b2-269eba86dab2\">\n",
              "  <button class=\"colab-df-quickchart\" onclick=\"quickchart('df-f8d7577a-7a00-4ad8-a1b2-269eba86dab2')\"\n",
              "            title=\"Suggest charts\"\n",
              "            style=\"display:none;\">\n",
              "\n",
              "<svg xmlns=\"http://www.w3.org/2000/svg\" height=\"24px\"viewBox=\"0 0 24 24\"\n",
              "     width=\"24px\">\n",
              "    <g>\n",
              "        <path d=\"M19 3H5c-1.1 0-2 .9-2 2v14c0 1.1.9 2 2 2h14c1.1 0 2-.9 2-2V5c0-1.1-.9-2-2-2zM9 17H7v-7h2v7zm4 0h-2V7h2v10zm4 0h-2v-4h2v4z\"/>\n",
              "    </g>\n",
              "</svg>\n",
              "  </button>\n",
              "\n",
              "<style>\n",
              "  .colab-df-quickchart {\n",
              "      --bg-color: #E8F0FE;\n",
              "      --fill-color: #1967D2;\n",
              "      --hover-bg-color: #E2EBFA;\n",
              "      --hover-fill-color: #174EA6;\n",
              "      --disabled-fill-color: #AAA;\n",
              "      --disabled-bg-color: #DDD;\n",
              "  }\n",
              "\n",
              "  [theme=dark] .colab-df-quickchart {\n",
              "      --bg-color: #3B4455;\n",
              "      --fill-color: #D2E3FC;\n",
              "      --hover-bg-color: #434B5C;\n",
              "      --hover-fill-color: #FFFFFF;\n",
              "      --disabled-bg-color: #3B4455;\n",
              "      --disabled-fill-color: #666;\n",
              "  }\n",
              "\n",
              "  .colab-df-quickchart {\n",
              "    background-color: var(--bg-color);\n",
              "    border: none;\n",
              "    border-radius: 50%;\n",
              "    cursor: pointer;\n",
              "    display: none;\n",
              "    fill: var(--fill-color);\n",
              "    height: 32px;\n",
              "    padding: 0;\n",
              "    width: 32px;\n",
              "  }\n",
              "\n",
              "  .colab-df-quickchart:hover {\n",
              "    background-color: var(--hover-bg-color);\n",
              "    box-shadow: 0 1px 2px rgba(60, 64, 67, 0.3), 0 1px 3px 1px rgba(60, 64, 67, 0.15);\n",
              "    fill: var(--button-hover-fill-color);\n",
              "  }\n",
              "\n",
              "  .colab-df-quickchart-complete:disabled,\n",
              "  .colab-df-quickchart-complete:disabled:hover {\n",
              "    background-color: var(--disabled-bg-color);\n",
              "    fill: var(--disabled-fill-color);\n",
              "    box-shadow: none;\n",
              "  }\n",
              "\n",
              "  .colab-df-spinner {\n",
              "    border: 2px solid var(--fill-color);\n",
              "    border-color: transparent;\n",
              "    border-bottom-color: var(--fill-color);\n",
              "    animation:\n",
              "      spin 1s steps(1) infinite;\n",
              "  }\n",
              "\n",
              "  @keyframes spin {\n",
              "    0% {\n",
              "      border-color: transparent;\n",
              "      border-bottom-color: var(--fill-color);\n",
              "      border-left-color: var(--fill-color);\n",
              "    }\n",
              "    20% {\n",
              "      border-color: transparent;\n",
              "      border-left-color: var(--fill-color);\n",
              "      border-top-color: var(--fill-color);\n",
              "    }\n",
              "    30% {\n",
              "      border-color: transparent;\n",
              "      border-left-color: var(--fill-color);\n",
              "      border-top-color: var(--fill-color);\n",
              "      border-right-color: var(--fill-color);\n",
              "    }\n",
              "    40% {\n",
              "      border-color: transparent;\n",
              "      border-right-color: var(--fill-color);\n",
              "      border-top-color: var(--fill-color);\n",
              "    }\n",
              "    60% {\n",
              "      border-color: transparent;\n",
              "      border-right-color: var(--fill-color);\n",
              "    }\n",
              "    80% {\n",
              "      border-color: transparent;\n",
              "      border-right-color: var(--fill-color);\n",
              "      border-bottom-color: var(--fill-color);\n",
              "    }\n",
              "    90% {\n",
              "      border-color: transparent;\n",
              "      border-bottom-color: var(--fill-color);\n",
              "    }\n",
              "  }\n",
              "</style>\n",
              "\n",
              "  <script>\n",
              "    async function quickchart(key) {\n",
              "      const quickchartButtonEl =\n",
              "        document.querySelector('#' + key + ' button');\n",
              "      quickchartButtonEl.disabled = true;  // To prevent multiple clicks.\n",
              "      quickchartButtonEl.classList.add('colab-df-spinner');\n",
              "      try {\n",
              "        const charts = await google.colab.kernel.invokeFunction(\n",
              "            'suggestCharts', [key], {});\n",
              "      } catch (error) {\n",
              "        console.error('Error during call to suggestCharts:', error);\n",
              "      }\n",
              "      quickchartButtonEl.classList.remove('colab-df-spinner');\n",
              "      quickchartButtonEl.classList.add('colab-df-quickchart-complete');\n",
              "    }\n",
              "    (() => {\n",
              "      let quickchartButtonEl =\n",
              "        document.querySelector('#df-f8d7577a-7a00-4ad8-a1b2-269eba86dab2 button');\n",
              "      quickchartButtonEl.style.display =\n",
              "        google.colab.kernel.accessAllowed ? 'block' : 'none';\n",
              "    })();\n",
              "  </script>\n",
              "</div>\n",
              "    </div>\n",
              "  </div>\n"
            ],
            "text/plain": [
              "   ID                                              Title  \\\n",
              "0   1  Candy factory didn't evacuate concerned worker...   \n",
              "1   2  Baltimore police ask for public's help identif...   \n",
              "2   3  An arrest warrant has been issued for a suspec...   \n",
              "3   4  115 improperly stored human remains found in C...   \n",
              "4   5  Bronx day care provider and 2 others indicted ...   \n",
              "\n",
              "                                         Description  \\\n",
              "0  An eastern Pennsylvania candy factory didn’t e...   \n",
              "1  Two shooters were involved in an attack at Mor...   \n",
              "2  Authorities in Pennsylvania say they have issu...   \n",
              "3  An investigation into more than 115 bodies fou...   \n",
              "4  A Bronx day care provider, her husband and his...   \n",
              "\n",
              "                                                Body  \\\n",
              "0  An eastern Pennsylvania candy factory didn’t e...   \n",
              "1  Two shooters were involved in an attack at Mor...   \n",
              "2  Authorities in Pennsylvania say they have issu...   \n",
              "3  An investigation into more than 115 bodies fou...   \n",
              "4  A Bronx day care provider, her husband and his...   \n",
              "\n",
              "                                            Keywords Theme  \\\n",
              "0  accident investigations, accidents, accidents,...    us   \n",
              "1  baltimore, brand safety-nsf crime, brand safet...    us   \n",
              "2  arrest warrants, arrests, brand safety-nsf cri...    us   \n",
              "3  brand safety-nsf death, brand safety-nsf sensi...    us   \n",
              "4  brand safety-nsf crime, brand safety-nsf death...    us   \n",
              "\n",
              "                                                Link  \\\n",
              "0  https://edition.cnn.com/2023/10/06/us/pennsylv...   \n",
              "1  https://edition.cnn.com/2023/10/06/us/morgan-s...   \n",
              "2  https://edition.cnn.com/2023/10/06/us/josh-kru...   \n",
              "3  https://edition.cnn.com/2023/10/06/us/colorado...   \n",
              "4  https://edition.cnn.com/2023/10/05/us/bronx-da...   \n",
              "\n",
              "                                           tokenized  \n",
              "0  (Candy, factory, did, n't, evacuate, concerned...  \n",
              "1  (Baltimore, police, ask, for, public, 's, help...  \n",
              "2  (An, arrest, warrant, has, been, issued, for, ...  \n",
              "3  (115, improperly, stored, human, remains, foun...  \n",
              "4  (Bronx, day, care, provider, and, 2, others, i...  "
            ]
          },
          "execution_count": 8,
          "metadata": {},
          "output_type": "execute_result"
        }
      ],
      "source": [
        "data.head()"
      ]
    },
    {
      "cell_type": "markdown",
      "metadata": {
        "id": "jHRfZ2uEKTDh"
      },
      "source": [
        "A Token object has many attributes such as part-of-speech (pos_), lemma (lemma_), etc. Take a look at the documentation to see all attributes.\n",
        "\n",
        "The following function is an example on how you can fetch a specific pos tagging from a sentence. We return the lemmatization because we only want the infinitive word."
      ]
    },
    {
      "cell_type": "code",
      "execution_count": null,
      "metadata": {
        "id": "qw0a_2ySyUo2"
      },
      "outputs": [],
      "source": [
        "# Create empty dataframes that will store your derived datasets\n",
        "\n",
        "# This is the derived dataset 1\n",
        "derived_dataset1 = pd.DataFrame(columns = ['Theme', 'pos'])\n",
        "\n",
        "# This dataset contains named entities: organizations, names, dates\n",
        "derived_dataset2 = pd.DataFrame(columns = ['Theme', 'pos-np'])"
      ]
    },
    {
      "cell_type": "code",
      "execution_count": null,
      "metadata": {
        "id": "Yeak1tAOKTDi"
      },
      "outputs": [],
      "source": [
        "def get_pos(sentence, wanted_pos): #wanted_pos refers to the desired pos tagging\n",
        "    verbs = []\n",
        "    for token in sentence:\n",
        "        if token.pos_ in wanted_pos:\n",
        "            verbs.append(token.lemma_) # lemma returns a number. lemma_ return a string\n",
        "    return ' '.join(verbs) # return value is as a string and not a list for countVectorizer"
      ]
    },
    {
      "cell_type": "markdown",
      "metadata": {
        "id": "9-Ka3W-79A64"
      },
      "source": [
        "###**Derived Dataset 1**\n",
        "\n",
        "POS (Part-of-Speech) tags included: nouns, verbs and adjectives. The reason for including the entirety of the suggested subset is because we had run some tests beforehand with one or two tags, but the model was performing poorly, less than 0.5 in accuracy."
      ]
    },
    {
      "cell_type": "code",
      "execution_count": null,
      "metadata": {
        "colab": {
          "base_uri": "https://localhost:8080/",
          "height": 206
        },
        "id": "147NRzwKKTDj",
        "outputId": "3987bf61-df55-44b7-b2cb-90f570a1ae59"
      },
      "outputs": [
        {
          "data": {
            "text/html": [
              "\n",
              "  <div id=\"df-33692119-b069-4315-b5e0-5bb42fc6e41e\" class=\"colab-df-container\">\n",
              "    <div>\n",
              "<style scoped>\n",
              "    .dataframe tbody tr th:only-of-type {\n",
              "        vertical-align: middle;\n",
              "    }\n",
              "\n",
              "    .dataframe tbody tr th {\n",
              "        vertical-align: top;\n",
              "    }\n",
              "\n",
              "    .dataframe thead th {\n",
              "        text-align: right;\n",
              "    }\n",
              "</style>\n",
              "<table border=\"1\" class=\"dataframe\">\n",
              "  <thead>\n",
              "    <tr style=\"text-align: right;\">\n",
              "      <th></th>\n",
              "      <th>Theme</th>\n",
              "      <th>pos</th>\n",
              "    </tr>\n",
              "  </thead>\n",
              "  <tbody>\n",
              "    <tr>\n",
              "      <th>0</th>\n",
              "      <td>us</td>\n",
              "      <td>candy factory evacuate worker explosion kill o...</td>\n",
              "    </tr>\n",
              "    <tr>\n",
              "      <th>1</th>\n",
              "      <td>us</td>\n",
              "      <td>police ask public help identify shooter homeco...</td>\n",
              "    </tr>\n",
              "    <tr>\n",
              "      <th>2</th>\n",
              "      <td>us</td>\n",
              "      <td>arrest warrant issue suspect killing journalist</td>\n",
              "    </tr>\n",
              "    <tr>\n",
              "      <th>3</th>\n",
              "      <td>us</td>\n",
              "      <td>store remain find funeral home say</td>\n",
              "    </tr>\n",
              "    <tr>\n",
              "      <th>4</th>\n",
              "      <td>us</td>\n",
              "      <td>day care provider other indict murder charge y...</td>\n",
              "    </tr>\n",
              "  </tbody>\n",
              "</table>\n",
              "</div>\n",
              "    <div class=\"colab-df-buttons\">\n",
              "\n",
              "  <div class=\"colab-df-container\">\n",
              "    <button class=\"colab-df-convert\" onclick=\"convertToInteractive('df-33692119-b069-4315-b5e0-5bb42fc6e41e')\"\n",
              "            title=\"Convert this dataframe to an interactive table.\"\n",
              "            style=\"display:none;\">\n",
              "\n",
              "  <svg xmlns=\"http://www.w3.org/2000/svg\" height=\"24px\" viewBox=\"0 -960 960 960\">\n",
              "    <path d=\"M120-120v-720h720v720H120Zm60-500h600v-160H180v160Zm220 220h160v-160H400v160Zm0 220h160v-160H400v160ZM180-400h160v-160H180v160Zm440 0h160v-160H620v160ZM180-180h160v-160H180v160Zm440 0h160v-160H620v160Z\"/>\n",
              "  </svg>\n",
              "    </button>\n",
              "\n",
              "  <style>\n",
              "    .colab-df-container {\n",
              "      display:flex;\n",
              "      gap: 12px;\n",
              "    }\n",
              "\n",
              "    .colab-df-convert {\n",
              "      background-color: #E8F0FE;\n",
              "      border: none;\n",
              "      border-radius: 50%;\n",
              "      cursor: pointer;\n",
              "      display: none;\n",
              "      fill: #1967D2;\n",
              "      height: 32px;\n",
              "      padding: 0 0 0 0;\n",
              "      width: 32px;\n",
              "    }\n",
              "\n",
              "    .colab-df-convert:hover {\n",
              "      background-color: #E2EBFA;\n",
              "      box-shadow: 0px 1px 2px rgba(60, 64, 67, 0.3), 0px 1px 3px 1px rgba(60, 64, 67, 0.15);\n",
              "      fill: #174EA6;\n",
              "    }\n",
              "\n",
              "    .colab-df-buttons div {\n",
              "      margin-bottom: 4px;\n",
              "    }\n",
              "\n",
              "    [theme=dark] .colab-df-convert {\n",
              "      background-color: #3B4455;\n",
              "      fill: #D2E3FC;\n",
              "    }\n",
              "\n",
              "    [theme=dark] .colab-df-convert:hover {\n",
              "      background-color: #434B5C;\n",
              "      box-shadow: 0px 1px 3px 1px rgba(0, 0, 0, 0.15);\n",
              "      filter: drop-shadow(0px 1px 2px rgba(0, 0, 0, 0.3));\n",
              "      fill: #FFFFFF;\n",
              "    }\n",
              "  </style>\n",
              "\n",
              "    <script>\n",
              "      const buttonEl =\n",
              "        document.querySelector('#df-33692119-b069-4315-b5e0-5bb42fc6e41e button.colab-df-convert');\n",
              "      buttonEl.style.display =\n",
              "        google.colab.kernel.accessAllowed ? 'block' : 'none';\n",
              "\n",
              "      async function convertToInteractive(key) {\n",
              "        const element = document.querySelector('#df-33692119-b069-4315-b5e0-5bb42fc6e41e');\n",
              "        const dataTable =\n",
              "          await google.colab.kernel.invokeFunction('convertToInteractive',\n",
              "                                                    [key], {});\n",
              "        if (!dataTable) return;\n",
              "\n",
              "        const docLinkHtml = 'Like what you see? Visit the ' +\n",
              "          '<a target=\"_blank\" href=https://colab.research.google.com/notebooks/data_table.ipynb>data table notebook</a>'\n",
              "          + ' to learn more about interactive tables.';\n",
              "        element.innerHTML = '';\n",
              "        dataTable['output_type'] = 'display_data';\n",
              "        await google.colab.output.renderOutput(dataTable, element);\n",
              "        const docLink = document.createElement('div');\n",
              "        docLink.innerHTML = docLinkHtml;\n",
              "        element.appendChild(docLink);\n",
              "      }\n",
              "    </script>\n",
              "  </div>\n",
              "\n",
              "\n",
              "<div id=\"df-4cb935fc-afe4-4d71-baf1-1827bbfe7dbc\">\n",
              "  <button class=\"colab-df-quickchart\" onclick=\"quickchart('df-4cb935fc-afe4-4d71-baf1-1827bbfe7dbc')\"\n",
              "            title=\"Suggest charts\"\n",
              "            style=\"display:none;\">\n",
              "\n",
              "<svg xmlns=\"http://www.w3.org/2000/svg\" height=\"24px\"viewBox=\"0 0 24 24\"\n",
              "     width=\"24px\">\n",
              "    <g>\n",
              "        <path d=\"M19 3H5c-1.1 0-2 .9-2 2v14c0 1.1.9 2 2 2h14c1.1 0 2-.9 2-2V5c0-1.1-.9-2-2-2zM9 17H7v-7h2v7zm4 0h-2V7h2v10zm4 0h-2v-4h2v4z\"/>\n",
              "    </g>\n",
              "</svg>\n",
              "  </button>\n",
              "\n",
              "<style>\n",
              "  .colab-df-quickchart {\n",
              "      --bg-color: #E8F0FE;\n",
              "      --fill-color: #1967D2;\n",
              "      --hover-bg-color: #E2EBFA;\n",
              "      --hover-fill-color: #174EA6;\n",
              "      --disabled-fill-color: #AAA;\n",
              "      --disabled-bg-color: #DDD;\n",
              "  }\n",
              "\n",
              "  [theme=dark] .colab-df-quickchart {\n",
              "      --bg-color: #3B4455;\n",
              "      --fill-color: #D2E3FC;\n",
              "      --hover-bg-color: #434B5C;\n",
              "      --hover-fill-color: #FFFFFF;\n",
              "      --disabled-bg-color: #3B4455;\n",
              "      --disabled-fill-color: #666;\n",
              "  }\n",
              "\n",
              "  .colab-df-quickchart {\n",
              "    background-color: var(--bg-color);\n",
              "    border: none;\n",
              "    border-radius: 50%;\n",
              "    cursor: pointer;\n",
              "    display: none;\n",
              "    fill: var(--fill-color);\n",
              "    height: 32px;\n",
              "    padding: 0;\n",
              "    width: 32px;\n",
              "  }\n",
              "\n",
              "  .colab-df-quickchart:hover {\n",
              "    background-color: var(--hover-bg-color);\n",
              "    box-shadow: 0 1px 2px rgba(60, 64, 67, 0.3), 0 1px 3px 1px rgba(60, 64, 67, 0.15);\n",
              "    fill: var(--button-hover-fill-color);\n",
              "  }\n",
              "\n",
              "  .colab-df-quickchart-complete:disabled,\n",
              "  .colab-df-quickchart-complete:disabled:hover {\n",
              "    background-color: var(--disabled-bg-color);\n",
              "    fill: var(--disabled-fill-color);\n",
              "    box-shadow: none;\n",
              "  }\n",
              "\n",
              "  .colab-df-spinner {\n",
              "    border: 2px solid var(--fill-color);\n",
              "    border-color: transparent;\n",
              "    border-bottom-color: var(--fill-color);\n",
              "    animation:\n",
              "      spin 1s steps(1) infinite;\n",
              "  }\n",
              "\n",
              "  @keyframes spin {\n",
              "    0% {\n",
              "      border-color: transparent;\n",
              "      border-bottom-color: var(--fill-color);\n",
              "      border-left-color: var(--fill-color);\n",
              "    }\n",
              "    20% {\n",
              "      border-color: transparent;\n",
              "      border-left-color: var(--fill-color);\n",
              "      border-top-color: var(--fill-color);\n",
              "    }\n",
              "    30% {\n",
              "      border-color: transparent;\n",
              "      border-left-color: var(--fill-color);\n",
              "      border-top-color: var(--fill-color);\n",
              "      border-right-color: var(--fill-color);\n",
              "    }\n",
              "    40% {\n",
              "      border-color: transparent;\n",
              "      border-right-color: var(--fill-color);\n",
              "      border-top-color: var(--fill-color);\n",
              "    }\n",
              "    60% {\n",
              "      border-color: transparent;\n",
              "      border-right-color: var(--fill-color);\n",
              "    }\n",
              "    80% {\n",
              "      border-color: transparent;\n",
              "      border-right-color: var(--fill-color);\n",
              "      border-bottom-color: var(--fill-color);\n",
              "    }\n",
              "    90% {\n",
              "      border-color: transparent;\n",
              "      border-bottom-color: var(--fill-color);\n",
              "    }\n",
              "  }\n",
              "</style>\n",
              "\n",
              "  <script>\n",
              "    async function quickchart(key) {\n",
              "      const quickchartButtonEl =\n",
              "        document.querySelector('#' + key + ' button');\n",
              "      quickchartButtonEl.disabled = true;  // To prevent multiple clicks.\n",
              "      quickchartButtonEl.classList.add('colab-df-spinner');\n",
              "      try {\n",
              "        const charts = await google.colab.kernel.invokeFunction(\n",
              "            'suggestCharts', [key], {});\n",
              "      } catch (error) {\n",
              "        console.error('Error during call to suggestCharts:', error);\n",
              "      }\n",
              "      quickchartButtonEl.classList.remove('colab-df-spinner');\n",
              "      quickchartButtonEl.classList.add('colab-df-quickchart-complete');\n",
              "    }\n",
              "    (() => {\n",
              "      let quickchartButtonEl =\n",
              "        document.querySelector('#df-4cb935fc-afe4-4d71-baf1-1827bbfe7dbc button');\n",
              "      quickchartButtonEl.style.display =\n",
              "        google.colab.kernel.accessAllowed ? 'block' : 'none';\n",
              "    })();\n",
              "  </script>\n",
              "</div>\n",
              "    </div>\n",
              "  </div>\n"
            ],
            "text/plain": [
              "  Theme                                                pos\n",
              "0    us  candy factory evacuate worker explosion kill o...\n",
              "1    us  police ask public help identify shooter homeco...\n",
              "2    us    arrest warrant issue suspect killing journalist\n",
              "3    us                 store remain find funeral home say\n",
              "4    us  day care provider other indict murder charge y..."
            ]
          },
          "execution_count": 62,
          "metadata": {},
          "output_type": "execute_result"
        }
      ],
      "source": [
        "# we use the above function to fetch all the verbs. We store this information in our first derived dataset\n",
        "derived_dataset1['pos'] = data['tokenized'].apply(lambda sent : get_pos(sent, ['NOUN', 'VERB']))\n",
        "\n",
        "# The derived datasets should still have the same column Theme (the variable we are classifying for)\n",
        "derived_dataset1['Theme'] = data['Theme']\n",
        "\n",
        "derived_dataset1.head()"
      ]
    },
    {
      "cell_type": "markdown",
      "metadata": {
        "id": "EtzIYaPg93Vq"
      },
      "source": [
        "###**Derived Dataset 2**\n",
        "\n",
        "POS (Part-of-Speech) tags included: propernouns, symbols, numbers and nouns. The reason being"
      ]
    },
    {
      "cell_type": "markdown",
      "metadata": {
        "id": "rItLKQ6E-gG6"
      },
      "source": [
        "**Choose a subset that\n",
        "you think is appropriate for your task**"
      ]
    },
    {
      "cell_type": "code",
      "execution_count": null,
      "metadata": {
        "colab": {
          "base_uri": "https://localhost:8080/",
          "height": 206
        },
        "id": "AuGv-NnfKTDj",
        "outputId": "c054c49b-e424-4bdf-92d4-552fb73a8874"
      },
      "outputs": [
        {
          "data": {
            "text/html": [
              "\n",
              "  <div id=\"df-74ba57d3-6e8b-4974-9e48-ebda8cc63016\" class=\"colab-df-container\">\n",
              "    <div>\n",
              "<style scoped>\n",
              "    .dataframe tbody tr th:only-of-type {\n",
              "        vertical-align: middle;\n",
              "    }\n",
              "\n",
              "    .dataframe tbody tr th {\n",
              "        vertical-align: top;\n",
              "    }\n",
              "\n",
              "    .dataframe thead th {\n",
              "        text-align: right;\n",
              "    }\n",
              "</style>\n",
              "<table border=\"1\" class=\"dataframe\">\n",
              "  <thead>\n",
              "    <tr style=\"text-align: right;\">\n",
              "      <th></th>\n",
              "      <th>Theme</th>\n",
              "      <th>pos-np</th>\n",
              "    </tr>\n",
              "  </thead>\n",
              "  <tbody>\n",
              "    <tr>\n",
              "      <th>0</th>\n",
              "      <td>us</td>\n",
              "      <td>candy factory worker Pennsylvania explosion 7 ...</td>\n",
              "    </tr>\n",
              "    <tr>\n",
              "      <th>1</th>\n",
              "      <td>us</td>\n",
              "      <td>Baltimore police public help 2 shooter Morgan ...</td>\n",
              "    </tr>\n",
              "    <tr>\n",
              "      <th>2</th>\n",
              "      <td>us</td>\n",
              "      <td>arrest warrant suspect killing Philadelphia jo...</td>\n",
              "    </tr>\n",
              "    <tr>\n",
              "      <th>3</th>\n",
              "      <td>us</td>\n",
              "      <td>115 remain Colorado funeral home sheriff</td>\n",
              "    </tr>\n",
              "    <tr>\n",
              "      <th>4</th>\n",
              "      <td>us</td>\n",
              "      <td>Bronx day care provider 2 other murder charge ...</td>\n",
              "    </tr>\n",
              "  </tbody>\n",
              "</table>\n",
              "</div>\n",
              "    <div class=\"colab-df-buttons\">\n",
              "\n",
              "  <div class=\"colab-df-container\">\n",
              "    <button class=\"colab-df-convert\" onclick=\"convertToInteractive('df-74ba57d3-6e8b-4974-9e48-ebda8cc63016')\"\n",
              "            title=\"Convert this dataframe to an interactive table.\"\n",
              "            style=\"display:none;\">\n",
              "\n",
              "  <svg xmlns=\"http://www.w3.org/2000/svg\" height=\"24px\" viewBox=\"0 -960 960 960\">\n",
              "    <path d=\"M120-120v-720h720v720H120Zm60-500h600v-160H180v160Zm220 220h160v-160H400v160Zm0 220h160v-160H400v160ZM180-400h160v-160H180v160Zm440 0h160v-160H620v160ZM180-180h160v-160H180v160Zm440 0h160v-160H620v160Z\"/>\n",
              "  </svg>\n",
              "    </button>\n",
              "\n",
              "  <style>\n",
              "    .colab-df-container {\n",
              "      display:flex;\n",
              "      gap: 12px;\n",
              "    }\n",
              "\n",
              "    .colab-df-convert {\n",
              "      background-color: #E8F0FE;\n",
              "      border: none;\n",
              "      border-radius: 50%;\n",
              "      cursor: pointer;\n",
              "      display: none;\n",
              "      fill: #1967D2;\n",
              "      height: 32px;\n",
              "      padding: 0 0 0 0;\n",
              "      width: 32px;\n",
              "    }\n",
              "\n",
              "    .colab-df-convert:hover {\n",
              "      background-color: #E2EBFA;\n",
              "      box-shadow: 0px 1px 2px rgba(60, 64, 67, 0.3), 0px 1px 3px 1px rgba(60, 64, 67, 0.15);\n",
              "      fill: #174EA6;\n",
              "    }\n",
              "\n",
              "    .colab-df-buttons div {\n",
              "      margin-bottom: 4px;\n",
              "    }\n",
              "\n",
              "    [theme=dark] .colab-df-convert {\n",
              "      background-color: #3B4455;\n",
              "      fill: #D2E3FC;\n",
              "    }\n",
              "\n",
              "    [theme=dark] .colab-df-convert:hover {\n",
              "      background-color: #434B5C;\n",
              "      box-shadow: 0px 1px 3px 1px rgba(0, 0, 0, 0.15);\n",
              "      filter: drop-shadow(0px 1px 2px rgba(0, 0, 0, 0.3));\n",
              "      fill: #FFFFFF;\n",
              "    }\n",
              "  </style>\n",
              "\n",
              "    <script>\n",
              "      const buttonEl =\n",
              "        document.querySelector('#df-74ba57d3-6e8b-4974-9e48-ebda8cc63016 button.colab-df-convert');\n",
              "      buttonEl.style.display =\n",
              "        google.colab.kernel.accessAllowed ? 'block' : 'none';\n",
              "\n",
              "      async function convertToInteractive(key) {\n",
              "        const element = document.querySelector('#df-74ba57d3-6e8b-4974-9e48-ebda8cc63016');\n",
              "        const dataTable =\n",
              "          await google.colab.kernel.invokeFunction('convertToInteractive',\n",
              "                                                    [key], {});\n",
              "        if (!dataTable) return;\n",
              "\n",
              "        const docLinkHtml = 'Like what you see? Visit the ' +\n",
              "          '<a target=\"_blank\" href=https://colab.research.google.com/notebooks/data_table.ipynb>data table notebook</a>'\n",
              "          + ' to learn more about interactive tables.';\n",
              "        element.innerHTML = '';\n",
              "        dataTable['output_type'] = 'display_data';\n",
              "        await google.colab.output.renderOutput(dataTable, element);\n",
              "        const docLink = document.createElement('div');\n",
              "        docLink.innerHTML = docLinkHtml;\n",
              "        element.appendChild(docLink);\n",
              "      }\n",
              "    </script>\n",
              "  </div>\n",
              "\n",
              "\n",
              "<div id=\"df-d50dad6a-71f1-46d0-a940-d8768d1098af\">\n",
              "  <button class=\"colab-df-quickchart\" onclick=\"quickchart('df-d50dad6a-71f1-46d0-a940-d8768d1098af')\"\n",
              "            title=\"Suggest charts\"\n",
              "            style=\"display:none;\">\n",
              "\n",
              "<svg xmlns=\"http://www.w3.org/2000/svg\" height=\"24px\"viewBox=\"0 0 24 24\"\n",
              "     width=\"24px\">\n",
              "    <g>\n",
              "        <path d=\"M19 3H5c-1.1 0-2 .9-2 2v14c0 1.1.9 2 2 2h14c1.1 0 2-.9 2-2V5c0-1.1-.9-2-2-2zM9 17H7v-7h2v7zm4 0h-2V7h2v10zm4 0h-2v-4h2v4z\"/>\n",
              "    </g>\n",
              "</svg>\n",
              "  </button>\n",
              "\n",
              "<style>\n",
              "  .colab-df-quickchart {\n",
              "      --bg-color: #E8F0FE;\n",
              "      --fill-color: #1967D2;\n",
              "      --hover-bg-color: #E2EBFA;\n",
              "      --hover-fill-color: #174EA6;\n",
              "      --disabled-fill-color: #AAA;\n",
              "      --disabled-bg-color: #DDD;\n",
              "  }\n",
              "\n",
              "  [theme=dark] .colab-df-quickchart {\n",
              "      --bg-color: #3B4455;\n",
              "      --fill-color: #D2E3FC;\n",
              "      --hover-bg-color: #434B5C;\n",
              "      --hover-fill-color: #FFFFFF;\n",
              "      --disabled-bg-color: #3B4455;\n",
              "      --disabled-fill-color: #666;\n",
              "  }\n",
              "\n",
              "  .colab-df-quickchart {\n",
              "    background-color: var(--bg-color);\n",
              "    border: none;\n",
              "    border-radius: 50%;\n",
              "    cursor: pointer;\n",
              "    display: none;\n",
              "    fill: var(--fill-color);\n",
              "    height: 32px;\n",
              "    padding: 0;\n",
              "    width: 32px;\n",
              "  }\n",
              "\n",
              "  .colab-df-quickchart:hover {\n",
              "    background-color: var(--hover-bg-color);\n",
              "    box-shadow: 0 1px 2px rgba(60, 64, 67, 0.3), 0 1px 3px 1px rgba(60, 64, 67, 0.15);\n",
              "    fill: var(--button-hover-fill-color);\n",
              "  }\n",
              "\n",
              "  .colab-df-quickchart-complete:disabled,\n",
              "  .colab-df-quickchart-complete:disabled:hover {\n",
              "    background-color: var(--disabled-bg-color);\n",
              "    fill: var(--disabled-fill-color);\n",
              "    box-shadow: none;\n",
              "  }\n",
              "\n",
              "  .colab-df-spinner {\n",
              "    border: 2px solid var(--fill-color);\n",
              "    border-color: transparent;\n",
              "    border-bottom-color: var(--fill-color);\n",
              "    animation:\n",
              "      spin 1s steps(1) infinite;\n",
              "  }\n",
              "\n",
              "  @keyframes spin {\n",
              "    0% {\n",
              "      border-color: transparent;\n",
              "      border-bottom-color: var(--fill-color);\n",
              "      border-left-color: var(--fill-color);\n",
              "    }\n",
              "    20% {\n",
              "      border-color: transparent;\n",
              "      border-left-color: var(--fill-color);\n",
              "      border-top-color: var(--fill-color);\n",
              "    }\n",
              "    30% {\n",
              "      border-color: transparent;\n",
              "      border-left-color: var(--fill-color);\n",
              "      border-top-color: var(--fill-color);\n",
              "      border-right-color: var(--fill-color);\n",
              "    }\n",
              "    40% {\n",
              "      border-color: transparent;\n",
              "      border-right-color: var(--fill-color);\n",
              "      border-top-color: var(--fill-color);\n",
              "    }\n",
              "    60% {\n",
              "      border-color: transparent;\n",
              "      border-right-color: var(--fill-color);\n",
              "    }\n",
              "    80% {\n",
              "      border-color: transparent;\n",
              "      border-right-color: var(--fill-color);\n",
              "      border-bottom-color: var(--fill-color);\n",
              "    }\n",
              "    90% {\n",
              "      border-color: transparent;\n",
              "      border-bottom-color: var(--fill-color);\n",
              "    }\n",
              "  }\n",
              "</style>\n",
              "\n",
              "  <script>\n",
              "    async function quickchart(key) {\n",
              "      const quickchartButtonEl =\n",
              "        document.querySelector('#' + key + ' button');\n",
              "      quickchartButtonEl.disabled = true;  // To prevent multiple clicks.\n",
              "      quickchartButtonEl.classList.add('colab-df-spinner');\n",
              "      try {\n",
              "        const charts = await google.colab.kernel.invokeFunction(\n",
              "            'suggestCharts', [key], {});\n",
              "      } catch (error) {\n",
              "        console.error('Error during call to suggestCharts:', error);\n",
              "      }\n",
              "      quickchartButtonEl.classList.remove('colab-df-spinner');\n",
              "      quickchartButtonEl.classList.add('colab-df-quickchart-complete');\n",
              "    }\n",
              "    (() => {\n",
              "      let quickchartButtonEl =\n",
              "        document.querySelector('#df-d50dad6a-71f1-46d0-a940-d8768d1098af button');\n",
              "      quickchartButtonEl.style.display =\n",
              "        google.colab.kernel.accessAllowed ? 'block' : 'none';\n",
              "    })();\n",
              "  </script>\n",
              "</div>\n",
              "    </div>\n",
              "  </div>\n"
            ],
            "text/plain": [
              "  Theme                                             pos-np\n",
              "0    us  candy factory worker Pennsylvania explosion 7 ...\n",
              "1    us  Baltimore police public help 2 shooter Morgan ...\n",
              "2    us  arrest warrant suspect killing Philadelphia jo...\n",
              "3    us           115 remain Colorado funeral home sheriff\n",
              "4    us  Bronx day care provider 2 other murder charge ..."
            ]
          },
          "execution_count": 12,
          "metadata": {},
          "output_type": "execute_result"
        }
      ],
      "source": [
        "# Since we are doing NER, we should include and tokenize proper nouns, symbols and numbers\n",
        "derived_dataset2['pos-np'] = data['tokenized'].apply(lambda sent : get_pos(sent, ['PROPN', 'SYM', 'NUM', 'NOUN']))\n",
        "\n",
        "# The derived datasets should still have the same column Theme (the variable we are classifying for)\n",
        "derived_dataset2['Theme'] = data['Theme']\n",
        "\n",
        "derived_dataset2.head()"
      ]
    },
    {
      "cell_type": "code",
      "execution_count": null,
      "metadata": {
        "colab": {
          "base_uri": "https://localhost:8080/"
        },
        "id": "NR7AdW0MfXO6",
        "outputId": "b62d1730-3b64-4f90-c206-458394431344"
      },
      "outputs": [
        {
          "data": {
            "text/plain": [
              "0                                  (Pennsylvania GPE) \n",
              "1    (Baltimore GPE) (2 CARDINAL) (Morgan State Uni...\n",
              "2             (Philadelphia GPE) (Josh Kruger PERSON) \n",
              "3                       (115 CARDINAL) (Colorado GPE) \n",
              "4              (Bronx GPE) (2 CARDINAL) (1 year DATE) \n",
              "Name: pos-np, dtype: object"
            ]
          },
          "execution_count": 13,
          "metadata": {},
          "output_type": "execute_result"
        }
      ],
      "source": [
        "#For Derived Dataset 2, you also need to include Named Entities\n",
        "#Below is just an example of obtaining such entities on a specific sentence, but you would do NER\n",
        "#on the dataset of your choice.\n",
        "#You can choose the types of entities (dates, organization, people) that you want,\n",
        "#and then in your derived dataset, just make sure you include these entities separated by spaces (as shown for verbs)\n",
        "#in a previous cell.\n",
        "\n",
        "derived_dataset2_ = derived_dataset2.copy()\n",
        "for i in range(len(derived_dataset2_['pos-np'])):\n",
        "  doc = nlp(derived_dataset2_['pos-np'][i])\n",
        "\n",
        "  tmp = ''\n",
        "  for ent in doc.ents:\n",
        "      tmp += '('+ent.text+' '+ent.label_+') '\n",
        "  derived_dataset2_['pos-np'][i] = tmp\n",
        "\n",
        "derived_dataset2_['pos-np'].head()"
      ]
    },
    {
      "cell_type": "markdown",
      "metadata": {
        "id": "HcYjytP9LQEx"
      },
      "source": [
        "Now that we have our datasets processed, we can move on the classifying each one of them against all 4 models."
      ]
    },
    {
      "cell_type": "markdown",
      "metadata": {
        "id": "IWADDucf4K4b"
      },
      "source": [
        "# **3. Perform a classification empirical study**"
      ]
    },
    {
      "cell_type": "markdown",
      "metadata": {
        "id": "KRlr2xKD4P_D"
      },
      "source": [
        "##**1.Encode the text as input features with associated values**"
      ]
    },
    {
      "cell_type": "markdown",
      "metadata": {
        "id": "BXEQrZj9HdpA"
      },
      "source": [
        "Luckily for us, vectorizing is already part of the feature_extraction package from sklearn. Using fit_transform, we are able to extract the feature vectors from the plaintext. Since we have 3 datasets to compare, we end up with 3 feature vectors of different sizes. As expected, the original dataset results in a larger feature vector since it has not been reduced by tokenization."
      ]
    },
    {
      "cell_type": "markdown",
      "metadata": {
        "id": "gkf1zqlQInjd"
      },
      "source": [
        "####a) Vectorize & Transform - Original Dataset"
      ]
    },
    {
      "cell_type": "markdown",
      "metadata": {
        "id": "XtrwH3CbIzS_"
      },
      "source": [
        "Building a dictionary of features based on all the text in the dataset. The result is a matrix where every cell represents the word and its related count in a particular corpus of text.\n"
      ]
    },
    {
      "cell_type": "code",
      "execution_count": null,
      "metadata": {
        "colab": {
          "base_uri": "https://localhost:8080/"
        },
        "id": "aKnoQc1-B_XZ",
        "outputId": "352b9d82-396e-4086-9ea5-d665279d3b90"
      },
      "outputs": [
        {
          "data": {
            "text/plain": [
              "(1412, 5022)"
            ]
          },
          "execution_count": 14,
          "metadata": {},
          "output_type": "execute_result"
        }
      ],
      "source": [
        "from sklearn.feature_extraction.text import CountVectorizer\n",
        "count_vect = CountVectorizer()\n",
        "# original dataset data[]\n",
        "dataset_counts = count_vect.fit_transform(data['Title'])\n",
        "dataset_counts.shape"
      ]
    },
    {
      "cell_type": "markdown",
      "metadata": {
        "id": "vAQvn13qAUf0"
      },
      "source": [
        "**Use the tf-idf as the attribute value:**"
      ]
    },
    {
      "cell_type": "markdown",
      "metadata": {
        "id": "pnkb_k0LIQ-p"
      },
      "source": [
        "From scikit, \"longer documents will have higher average count values than shorter documents, even though they might talk about the same topics.\" This means that we must transform our feature vector to one that is unbiased in all regards, namely in frequency of the words. Term Frequency times Inverse Document Frequency (tf-idf) helps us do this plus \"downscales weights for words that occur in many documents.\" With all this, we can then do classification."
      ]
    },
    {
      "cell_type": "code",
      "execution_count": null,
      "metadata": {
        "colab": {
          "base_uri": "https://localhost:8080/"
        },
        "id": "aiYB_GR9Dh7R",
        "outputId": "d5b06e7b-3971-4ad7-8f4c-98b83c4ec541"
      },
      "outputs": [
        {
          "data": {
            "text/plain": [
              "(1412, 5022)"
            ]
          },
          "execution_count": 15,
          "metadata": {},
          "output_type": "execute_result"
        }
      ],
      "source": [
        "from sklearn.feature_extraction.text import TfidfTransformer\n",
        "tfidf_transformer = TfidfTransformer()\n",
        "# original dataset\n",
        "dataset_tfidf = tfidf_transformer.fit_transform(dataset_counts)\n",
        "dataset_tfidf.shape"
      ]
    },
    {
      "cell_type": "markdown",
      "metadata": {
        "id": "U6W8gjvLgyRo"
      },
      "source": [
        "####b) Vectorize & Transform - Derived Dataset 1"
      ]
    },
    {
      "cell_type": "markdown",
      "metadata": {
        "id": "JMsSdy2Fg4K-"
      },
      "source": [
        "Exactly how we vectorize & transform the original dataset, we do on this new derived dataset."
      ]
    },
    {
      "cell_type": "code",
      "execution_count": null,
      "metadata": {
        "colab": {
          "base_uri": "https://localhost:8080/"
        },
        "id": "s9_e3GrPhZ6D",
        "outputId": "ea5f35a7-4446-4c96-b0b4-449120108e35"
      },
      "outputs": [
        {
          "data": {
            "text/plain": [
              "(1412, 2303)"
            ]
          },
          "execution_count": 63,
          "metadata": {},
          "output_type": "execute_result"
        }
      ],
      "source": [
        "from sklearn.feature_extraction.text import CountVectorizer\n",
        "\n",
        "# First obtain the matrix\n",
        "count_vect = CountVectorizer()\n",
        "dataset1_counts = count_vect.fit_transform(derived_dataset1['pos'])\n",
        "\n",
        "# Then eliminate as much bias as possible\n",
        "tfidf_transformer = TfidfTransformer()\n",
        "dataset1_tfidf = tfidf_transformer.fit_transform(dataset1_counts)\n",
        "dataset1_tfidf.shape"
      ]
    },
    {
      "cell_type": "markdown",
      "metadata": {
        "id": "B7gREP5riGga"
      },
      "source": [
        "####c) Vectorize & Transform - Derived Dataset 2"
      ]
    },
    {
      "cell_type": "code",
      "execution_count": null,
      "metadata": {
        "colab": {
          "base_uri": "https://localhost:8080/"
        },
        "id": "3EFlXe-viHqm",
        "outputId": "60008ebd-abd4-47ba-f8fd-0b665a00a5cf"
      },
      "outputs": [
        {
          "data": {
            "text/plain": [
              "(1412, 2938)"
            ]
          },
          "execution_count": 17,
          "metadata": {},
          "output_type": "execute_result"
        }
      ],
      "source": [
        "from sklearn.feature_extraction.text import CountVectorizer\n",
        "\n",
        "# First obtain the matrix\n",
        "count_vect = CountVectorizer()\n",
        "dataset2_counts = count_vect.fit_transform(derived_dataset2['pos-np'])\n",
        "\n",
        "# Then eliminate as much bias as possible\n",
        "tfidf_transformer = TfidfTransformer()\n",
        "dataset2_tfidf = tfidf_transformer.fit_transform(dataset2_counts)\n",
        "dataset2_tfidf.shape"
      ]
    },
    {
      "cell_type": "markdown",
      "metadata": {
        "id": "DxvFLEcwjt1I"
      },
      "source": [
        "##**2. Define 2 models using some default parameters**"
      ]
    },
    {
      "cell_type": "markdown",
      "metadata": {
        "id": "a-Vs7WqbkGoX"
      },
      "source": [
        "###a) Logistic Regression Model"
      ]
    },
    {
      "cell_type": "markdown",
      "metadata": {
        "id": "zAySuQHzkXpA"
      },
      "source": [
        "Logistic regression is for prediction on binary classes. There is a type of logistic regression called multinomial logistic regression where the target variable has three or more nominal categories. The target variable is categorical where it uses a linear equation of the variables for prediction.\n",
        "\n",
        "Linear regression uses the sigmoid function.\n",
        "\n",
        "Reference: https://www.datacamp.com/tutorial/understanding-logistic-regression-python"
      ]
    },
    {
      "cell_type": "code",
      "execution_count": null,
      "metadata": {
        "id": "CM1OgG7mPjeQ"
      },
      "outputs": [],
      "source": [
        "from sklearn.linear_model import LogisticRegression\n",
        "\n",
        "# build the logistic regression model\n",
        "model_lr = LogisticRegression(tol=1e-4, solver=\"lbfgs\")"
      ]
    },
    {
      "cell_type": "code",
      "execution_count": null,
      "metadata": {
        "id": "u83TwQo4kHnM"
      },
      "outputs": [],
      "source": [
        "from sklearn.model_selection import train_test_split\n",
        "\n",
        "# https://www.datacamp.com/tutorial/understanding-logistic-regression-python\n",
        "# function for logistic regression training and testing\n",
        "# it splits the data into training and testing sets\n",
        "def logistic_regression(model_lr, X_lr, y_lr):\n",
        "\n",
        "  # split the dataset into training and testing sets\n",
        "  X_train_lr, X_test_lr, y_train_lr, y_test_lr = train_test_split(X_lr, y_lr, test_size=0.33, random_state=16)\n",
        "\n",
        "  # train the model using the training set\n",
        "  model_lr.fit(X_train_lr, y_train_lr)\n",
        "\n",
        "  # use the model to make predictions on the testing set\n",
        "  y_pred_lr = model_lr.predict(X_test_lr)\n",
        "\n",
        "  return y_test_lr, y_pred_lr"
      ]
    },
    {
      "cell_type": "markdown",
      "metadata": {
        "id": "1uiZnpNwkKk9"
      },
      "source": [
        "###b) Multilayer Perceptron Model"
      ]
    },
    {
      "cell_type": "markdown",
      "metadata": {
        "id": "coLJ2LUkkcJ6"
      },
      "source": [
        "Different from the logistic regression model, the multilayer perceptron model boasts of multiple hidden layers to properly fit the data using non-linear activation function against multiple classes. Below is a definition for a parameterized version of the MLP model. This allows us to do K-fold cross validation with minimal verbose and repetition."
      ]
    },
    {
      "cell_type": "code",
      "execution_count": null,
      "metadata": {
        "id": "jskG6pJxlsnM"
      },
      "outputs": [],
      "source": [
        "from sklearn.neural_network import MLPClassifier\n",
        "\n",
        "# Definition of the MLP model given default params\n",
        "# - ReLU: rectified linear unit: takes input x and outputs f(x) = max(0, x)\n",
        "# - constant learning rate: helps model converge faster and avoid overfitting\n",
        "model_mlp = MLPClassifier(random_state=1, activation='relu', learning_rate='constant')"
      ]
    },
    {
      "cell_type": "code",
      "execution_count": null,
      "metadata": {
        "id": "eL0gNQMCkL4q"
      },
      "outputs": [],
      "source": [
        "from sklearn.model_selection import train_test_split\n",
        "\n",
        "# function for training and testing the MLP model\n",
        "def MLP(model_mlp, X, y):\n",
        "\n",
        "  # Split the data into training and testing data\n",
        "  X_train, X_test, y_train, y_test = train_test_split(X, y, random_state=1)\n",
        "\n",
        "  # Train the MLP model on the training data\n",
        "  model_mlp.fit(X_train, y_train)\n",
        "\n",
        "  # Get prediction for the test data\n",
        "  y_pred = model_mlp.predict(X_test)\n",
        "\n",
        "  return y_test, y_pred"
      ]
    },
    {
      "cell_type": "markdown",
      "metadata": {
        "id": "HR0_b7sy4ZQl"
      },
      "source": [
        "##**3.Train/test/evaluate the 2 default models on all 3 datasets**"
      ]
    },
    {
      "cell_type": "markdown",
      "metadata": {
        "id": "HMwwplCkUB5L"
      },
      "source": [
        "###**Function for 4-fold cross validation:**"
      ]
    },
    {
      "cell_type": "code",
      "execution_count": null,
      "metadata": {
        "id": "JnS3KO2nUEEb"
      },
      "outputs": [],
      "source": [
        "import numpy as np\n",
        "from sklearn.model_selection import KFold\n",
        "\n",
        "# https://scikit-learn.org/stable/modules/generated/sklearn.model_selection.KFold.html\n",
        "# function for 4 fold validation for a given model\n",
        "def k_fold(model_kf, X_d, y_d, verbose):\n",
        "\n",
        "  # need to convert to np arrays to split the dataset for kfold\n",
        "\n",
        "  # convert the features to a numpy array\n",
        "  X_kf = X_d\n",
        "  # convert the target class column to a numpy arrray\n",
        "  y_kf = np.array(y_d)\n",
        "\n",
        "  # the models predictions for the classes\n",
        "  predicted_y = []\n",
        "\n",
        "  # the expected target values for the classes\n",
        "  expected_y = []\n",
        "\n",
        "  # creates the indexes for 4 folds with shuffling\n",
        "  kf = KFold(n_splits=4, shuffle=True)\n",
        "\n",
        "  # go through each fold of training and testing sets\n",
        "  # this will loop 4 times for 4 folds\n",
        "  for i, (train_indexes, test_indexes) in enumerate(kf.split(X_kf)):\n",
        "    if verbose:\n",
        "      print(f\"Fold {i+1}:\")\n",
        "      print(f\"  Train: index={train_indexes}\")\n",
        "      print(f\"  Test:  index={test_indexes}\")\n",
        "\n",
        "    # train the model on the current folds training set\n",
        "    model_training_kf = model_kf.fit(X_kf[train_indexes], y_kf[train_indexes])\n",
        "\n",
        "    # use the model to make predictions on the current folds testing set\n",
        "    y_pred_kf = model_kf.predict(X_kf[test_indexes])\n",
        "\n",
        "    # the expected results of the current fold testing set\n",
        "    y_exp_kf = y_kf[test_indexes]\n",
        "\n",
        "    # add the predictions to the list\n",
        "    predicted_y.extend(y_pred_kf)\n",
        "\n",
        "    # add the expected values of the folds testing set to the list\n",
        "    expected_y.extend(y_exp_kf)\n",
        "\n",
        "  return expected_y, predicted_y"
      ]
    },
    {
      "cell_type": "markdown",
      "metadata": {
        "id": "Gwa4JhfVWRG3"
      },
      "source": [
        "###**Functions for evaluation:**"
      ]
    },
    {
      "cell_type": "code",
      "execution_count": null,
      "metadata": {
        "id": "ZL0vIWInnla0"
      },
      "outputs": [],
      "source": [
        "from sklearn.metrics import accuracy_score\n",
        "from sklearn.metrics import f1_score\n",
        "from sklearn.metrics import ConfusionMatrixDisplay\n",
        "from sklearn.datasets import make_classification\n",
        "from sklearn import metrics\n",
        "from sklearn.inspection import DecisionBoundaryDisplay"
      ]
    },
    {
      "cell_type": "code",
      "execution_count": null,
      "metadata": {
        "id": "SOIp0DQVN7Ud"
      },
      "outputs": [],
      "source": [
        "# function for creating confusion matrix\n",
        "def create_confusion_matrix(y_test, y_pred):\n",
        "\n",
        "  # build the confusion matrix using expected and predicted values\n",
        "  cnf_matrix = metrics.confusion_matrix(y_test, y_pred)\n",
        "\n",
        "  # build the display for the confusion matrix\n",
        "  disp = ConfusionMatrixDisplay(confusion_matrix=cnf_matrix)\n",
        "\n",
        "  # print the display matrix\n",
        "  return disp.plot()"
      ]
    },
    {
      "cell_type": "code",
      "execution_count": null,
      "metadata": {
        "id": "pZcXpqNURsZl"
      },
      "outputs": [],
      "source": [
        "# function for calculating the evaluation metrics\n",
        "def calculate_evaluation(y_test, y_pred):\n",
        "  # calculate the accuracy and f1 score of the prediction and target results\n",
        "  accuracy = accuracy_score(y_pred, y_test)\n",
        "  f1 = f1_score(y_pred, y_test, average=\"weighted\")\n",
        "  print(\"Accuracy:\", accuracy)\n",
        "  print(\"F1 Score:\", f1)\n",
        "\n",
        "  # calculate the classification report with the precision, recall, and averages\n",
        "  print(classification_report(y_test, y_pred))\n",
        "  # calculate and print the micro average\n",
        "  f1_micro = f1_score(y_test, y_pred, average='micro')\n",
        "  print(\"Micro-average F1 score: \", f1_micro)"
      ]
    },
    {
      "cell_type": "markdown",
      "metadata": {
        "id": "6EGBWrgkd4Cu"
      },
      "source": [
        "###**Split the datasets into training and testing:**"
      ]
    },
    {
      "cell_type": "code",
      "execution_count": null,
      "metadata": {
        "id": "ekI5btrRd3yn"
      },
      "outputs": [],
      "source": [
        "# original dataset\n",
        "X_d = dataset_tfidf\n",
        "y_d = data['Theme']"
      ]
    },
    {
      "cell_type": "code",
      "execution_count": null,
      "metadata": {
        "id": "jX9WB9jeeMhu"
      },
      "outputs": [],
      "source": [
        "# derived dataset 1\n",
        "X_d1 = dataset1_tfidf\n",
        "y_d1 = derived_dataset1['Theme']"
      ]
    },
    {
      "cell_type": "code",
      "execution_count": null,
      "metadata": {
        "id": "8cC6D_h_eUsF"
      },
      "outputs": [],
      "source": [
        "# derived dataset 2\n",
        "X_d2 = dataset2_tfidf\n",
        "y_d2 = derived_dataset2['Theme']"
      ]
    },
    {
      "cell_type": "markdown",
      "metadata": {
        "id": "NwdM4doyPbp6"
      },
      "source": [
        "###**Logistic Regression Model**"
      ]
    },
    {
      "cell_type": "markdown",
      "metadata": {
        "id": "hAWy9rIRijSR"
      },
      "source": [
        "####a) Original Dataset"
      ]
    },
    {
      "cell_type": "code",
      "execution_count": null,
      "metadata": {
        "colab": {
          "base_uri": "https://localhost:8080/"
        },
        "id": "QIFhDyZWecuv",
        "outputId": "08a96ed9-a250-4e21-ff89-250e0bf4313c"
      },
      "outputs": [
        {
          "name": "stdout",
          "output_type": "stream",
          "text": [
            "Fold 1:\n",
            "  Train: index=[   0    1    2 ... 1409 1410 1411]\n",
            "  Test:  index=[  15   19   21   23   24   25   26   27   28   29   31   35   37   43\n",
            "   45   57   58   59   62   67   76   78   79   81   86   89   90   92\n",
            "   96   97   98  102  110  114  115  127  132  142  144  146  154  156\n",
            "  157  175  177  179  187  189  191  197  203  206  207  209  210  211\n",
            "  215  224  225  231  232  240  244  247  248  253  266  267  270  273\n",
            "  281  288  292  298  299  303  304  311  312  316  318  327  333  363\n",
            "  365  373  375  377  383  389  394  398  403  404  406  409  419  420\n",
            "  423  426  432  434  436  450  461  462  464  473  475  487  496  497\n",
            "  506  507  508  509  515  516  524  527  528  535  541  542  546  552\n",
            "  553  555  556  557  562  564  568  572  576  578  582  592  597  602\n",
            "  603  608  610  620  624  626  637  644  646  651  653  658  659  663\n",
            "  664  679  680  681  687  692  696  698  699  701  702  708  727  730\n",
            "  731  733  737  739  741  745  746  747  749  751  753  756  757  760\n",
            "  763  775  779  782  783  787  789  796  802  803  810  813  815  818\n",
            "  821  822  824  825  827  828  836  837  839  843  850  854  858  863\n",
            "  864  865  869  871  874  878  879  883  885  889  892  896  902  905\n",
            "  907  917  918  924  926  928  929  936  942  945  947  953  956  959\n",
            "  961  963  969  970  972  974  983  987  992  995  998 1001 1005 1013\n",
            " 1024 1025 1037 1039 1042 1043 1044 1045 1047 1057 1059 1061 1070 1074\n",
            " 1079 1082 1084 1086 1095 1097 1099 1103 1104 1107 1111 1115 1116 1119\n",
            " 1120 1123 1125 1158 1161 1163 1167 1173 1174 1176 1187 1189 1194 1195\n",
            " 1197 1202 1206 1210 1211 1216 1217 1219 1225 1229 1232 1234 1237 1258\n",
            " 1259 1260 1263 1265 1268 1274 1276 1277 1287 1290 1294 1301 1309 1310\n",
            " 1313 1318 1319 1320 1321 1324 1327 1340 1345 1347 1349 1357 1358 1363\n",
            " 1366 1367 1369 1370 1371 1382 1385 1386 1387 1390 1392 1393 1394 1400\n",
            " 1403 1405 1408]\n",
            "Fold 2:\n",
            "  Train: index=[   0    1    2 ... 1408 1410 1411]\n",
            "  Test:  index=[   3    6    9   11   16   18   20   30   32   38   48   51   52   61\n",
            "   63   68   69   72   73   80   84   93   95   99  100  104  106  108\n",
            "  116  118  121  122  123  124  125  139  140  147  148  164  171  172\n",
            "  182  183  184  188  190  198  208  213  214  216  220  223  230  233\n",
            "  238  241  242  245  250  254  255  256  257  265  268  269  271  274\n",
            "  284  286  287  289  290  294  295  301  302  305  306  308  309  314\n",
            "  315  322  323  324  325  328  331  334  336  338  339  340  344  345\n",
            "  353  355  364  366  369  370  371  372  379  380  387  388  390  407\n",
            "  418  424  425  427  430  431  440  441  443  444  445  447  454  456\n",
            "  459  460  463  465  472  480  481  485  492  498  502  503  511  512\n",
            "  514  519  521  522  523  530  533  537  539  547  549  560  565  580\n",
            "  584  588  591  594  596  598  599  600  601  605  609  611  615  621\n",
            "  625  629  632  636  640  642  645  660  665  667  668  669  672  674\n",
            "  675  682  684  693  703  705  707  710  717  720  721  723  724  726\n",
            "  732  734  736  740  750  758  759  761  768  773  777  792  795  799\n",
            "  800  808  809  812  816  817  819  841  853  855  857  866  880  886\n",
            "  887  888  897  900  904  906  916  931  933  937  948  955  960  965\n",
            "  966  971  976  977  978  980  988  991  993  999 1002 1003 1011 1016\n",
            " 1018 1019 1022 1035 1036 1038 1048 1049 1052 1060 1073 1080 1083 1085\n",
            " 1087 1094 1096 1100 1101 1105 1109 1112 1117 1121 1122 1129 1135 1136\n",
            " 1138 1139 1141 1142 1147 1157 1159 1160 1166 1168 1169 1175 1181 1182\n",
            " 1184 1191 1193 1196 1198 1200 1201 1205 1207 1212 1213 1218 1221 1224\n",
            " 1231 1235 1242 1243 1247 1248 1250 1252 1254 1262 1270 1275 1280 1283\n",
            " 1285 1289 1295 1297 1304 1305 1306 1314 1315 1317 1322 1325 1329 1334\n",
            " 1341 1350 1353 1354 1359 1360 1372 1374 1375 1377 1379 1381 1384 1388\n",
            " 1399 1406 1409]\n",
            "Fold 3:\n",
            "  Train: index=[   0    3    4 ... 1408 1409 1410]\n",
            "  Test:  index=[   1    2    5   17   34   36   39   40   47   49   50   54   55   64\n",
            "   65   66   70   74   85   88   91   94  101  103  107  111  112  113\n",
            "  117  120  129  131  133  134  135  150  151  152  153  158  159  160\n",
            "  161  163  166  167  169  170  176  178  180  185  194  199  201  217\n",
            "  218  219  226  227  228  234  235  236  239  243  246  251  252  258\n",
            "  259  264  272  275  276  277  278  280  283  285  297  300  310  317\n",
            "  320  326  330  332  335  341  342  343  347  349  350  359  360  361\n",
            "  368  374  376  378  381  382  384  385  391  397  399  402  414  415\n",
            "  416  421  422  429  435  437  438  442  448  452  468  476  477  482\n",
            "  489  490  491  494  495  504  513  517  518  525  531  532  534  536\n",
            "  538  540  543  545  551  554  559  561  567  569  570  574  575  577\n",
            "  583  585  590  604  613  616  619  623  628  630  631  634  638  647\n",
            "  654  656  657  670  676  678  683  686  690  694  695  697  706  711\n",
            "  713  714  716  718  722  725  728  729  742  748  764  769  772  774\n",
            "  778  785  786  790  793  797  798  801  820  826  829  830  831  833\n",
            "  840  845  847  856  868  872  876  881  884  890  891  893  894  898\n",
            "  903  915  919  920  921  925  930  935  938  941  943  944  949  950\n",
            "  951  952  954  958  962  967  968  979  981  984  986  989  990  994\n",
            "  996  997 1006 1008 1010 1014 1017 1020 1021 1026 1028 1034 1041 1050\n",
            " 1053 1056 1063 1065 1067 1068 1071 1075 1077 1088 1089 1090 1098 1102\n",
            " 1108 1113 1114 1118 1126 1127 1132 1133 1137 1143 1144 1146 1148 1149\n",
            " 1150 1153 1177 1178 1179 1180 1183 1185 1188 1190 1192 1199 1208 1209\n",
            " 1215 1226 1228 1230 1236 1239 1244 1245 1251 1253 1255 1256 1264 1272\n",
            " 1279 1281 1282 1291 1292 1293 1300 1303 1307 1311 1312 1326 1328 1330\n",
            " 1332 1333 1338 1339 1342 1346 1348 1365 1373 1376 1378 1389 1391 1397\n",
            " 1402 1404 1411]\n",
            "Fold 4:\n",
            "  Train: index=[   1    2    3 ... 1408 1409 1411]\n",
            "  Test:  index=[   0    4    7    8   10   12   13   14   22   33   41   42   44   46\n",
            "   53   56   60   71   75   77   82   83   87  105  109  119  126  128\n",
            "  130  136  137  138  141  143  145  149  155  162  165  168  173  174\n",
            "  181  186  192  193  195  196  200  202  204  205  212  221  222  229\n",
            "  237  249  260  261  262  263  279  282  291  293  296  307  313  319\n",
            "  321  329  337  346  348  351  352  354  356  357  358  362  367  386\n",
            "  392  393  395  396  400  401  405  408  410  411  412  413  417  428\n",
            "  433  439  446  449  451  453  455  457  458  466  467  469  470  471\n",
            "  474  478  479  483  484  486  488  493  499  500  501  505  510  520\n",
            "  526  529  544  548  550  558  563  566  571  573  579  581  586  587\n",
            "  589  593  595  606  607  612  614  617  618  622  627  633  635  639\n",
            "  641  643  648  649  650  652  655  661  662  666  671  673  677  685\n",
            "  688  689  691  700  704  709  712  715  719  735  738  743  744  752\n",
            "  754  755  762  765  766  767  770  771  776  780  781  784  788  791\n",
            "  794  804  805  806  807  811  814  823  832  834  835  838  842  844\n",
            "  846  848  849  851  852  859  860  861  862  867  870  873  875  877\n",
            "  882  895  899  901  908  909  910  911  912  913  914  922  923  927\n",
            "  932  934  939  940  946  957  964  973  975  982  985 1000 1004 1007\n",
            " 1009 1012 1015 1023 1027 1029 1030 1031 1032 1033 1040 1046 1051 1054\n",
            " 1055 1058 1062 1064 1066 1069 1072 1076 1078 1081 1091 1092 1093 1106\n",
            " 1110 1124 1128 1130 1131 1134 1140 1145 1151 1152 1154 1155 1156 1162\n",
            " 1164 1165 1170 1171 1172 1186 1203 1204 1214 1220 1222 1223 1227 1233\n",
            " 1238 1240 1241 1246 1249 1257 1261 1266 1267 1269 1271 1273 1278 1284\n",
            " 1286 1288 1296 1298 1299 1302 1308 1316 1323 1331 1335 1336 1337 1343\n",
            " 1344 1351 1352 1355 1356 1361 1362 1364 1368 1380 1383 1395 1396 1398\n",
            " 1401 1407 1410]\n"
          ]
        }
      ],
      "source": [
        "# train and test the model on the original dataset\n",
        "test_lr_d, pred_lr_d = k_fold(model_lr, X_d, y_d, True)"
      ]
    },
    {
      "cell_type": "code",
      "execution_count": null,
      "metadata": {
        "colab": {
          "base_uri": "https://localhost:8080/"
        },
        "id": "5UbPeADMoocY",
        "outputId": "6bb9a88a-771b-47f2-d2c1-8493b58f9229"
      },
      "outputs": [
        {
          "name": "stdout",
          "output_type": "stream",
          "text": [
            "Accuracy: 0.5771954674220963\n",
            "F1 Score: 0.6001574269630544\n",
            "               precision    recall  f1-score   support\n",
            "\n",
            "     business       0.59      0.44      0.50       201\n",
            "          cnn       0.00      0.00      0.00         1\n",
            "entertainment       0.71      0.09      0.16       113\n",
            "       health       0.83      0.57      0.68       139\n",
            "     opinions       1.00      0.95      0.98       126\n",
            "     politics       0.95      0.72      0.82       174\n",
            "        sport       0.95      0.41      0.57       152\n",
            "        style       0.00      0.00      0.00        15\n",
            "       travel       0.00      0.00      0.00        11\n",
            "           us       0.00      0.00      0.00        84\n",
            "      weather       0.94      0.47      0.63        97\n",
            "        world       0.36      0.95      0.52       299\n",
            "\n",
            "     accuracy                           0.58      1412\n",
            "    macro avg       0.53      0.38      0.40      1412\n",
            " weighted avg       0.67      0.58      0.55      1412\n",
            "\n",
            "Micro-average F1 score:  0.5771954674220963\n"
          ]
        },
        {
          "data": {
            "text/plain": [
              "<sklearn.metrics._plot.confusion_matrix.ConfusionMatrixDisplay at 0x7852edb9d300>"
            ]
          },
          "execution_count": 30,
          "metadata": {},
          "output_type": "execute_result"
        },
        {
          "data": {
            "image/png": "[encoded data removed]",
            "text/plain": [
              "<Figure size 640x480 with 2 Axes>"
            ]
          },
          "metadata": {},
          "output_type": "display_data"
        }
      ],
      "source": [
        "# evaluate\n",
        "calculate_evaluation(test_lr_d, pred_lr_d)\n",
        "create_confusion_matrix(test_lr_d, pred_lr_d)"
      ]
    },
    {
      "cell_type": "markdown",
      "metadata": {
        "id": "VmLfFP5YiofC"
      },
      "source": [
        "####b) Derived Dataset 1"
      ]
    },
    {
      "cell_type": "code",
      "execution_count": null,
      "metadata": {
        "id": "zRWDPtxke8fa"
      },
      "outputs": [],
      "source": [
        "# train and test the model on the derived dataset 1\n",
        "test_lr_d1, pred_lr_d1 = k_fold(model_lr, X_d1, y_d1, False)"
      ]
    },
    {
      "cell_type": "code",
      "execution_count": null,
      "metadata": {
        "colab": {
          "base_uri": "https://localhost:8080/",
          "height": 848
        },
        "id": "gGT3-Dwpo8Ec",
        "outputId": "ce6a8468-326a-4fd0-fe3b-f58d893833f1"
      },
      "outputs": [
        {
          "name": "stdout",
          "output_type": "stream",
          "text": [
            "Accuracy: 0.5396600566572238\n",
            "F1 Score: 0.5564936526027303\n",
            "               precision    recall  f1-score   support\n",
            "\n",
            "     business       0.60      0.53      0.56       201\n",
            "          cnn       0.00      0.00      0.00         1\n",
            "entertainment       0.81      0.15      0.25       113\n",
            "       health       0.92      0.47      0.63       139\n",
            "     opinions       1.00      0.97      0.98       126\n",
            "     politics       0.84      0.47      0.60       174\n",
            "        sport       0.71      0.39      0.51       152\n",
            "        style       0.00      0.00      0.00        15\n",
            "       travel       0.00      0.00      0.00        11\n",
            "           us       0.50      0.01      0.02        84\n",
            "      weather       0.89      0.42      0.57        97\n",
            "        world       0.34      0.89      0.49       299\n",
            "\n",
            "     accuracy                           0.54      1412\n",
            "    macro avg       0.55      0.36      0.38      1412\n",
            " weighted avg       0.67      0.54      0.52      1412\n",
            "\n",
            "Micro-average F1 score:  0.5396600566572238\n"
          ]
        },
        {
          "data": {
            "text/plain": [
              "<sklearn.metrics._plot.confusion_matrix.ConfusionMatrixDisplay at 0x7852eb2b39a0>"
            ]
          },
          "execution_count": 72,
          "metadata": {},
          "output_type": "execute_result"
        },
        {
          "data": {
            "image/png": "[encoded data removed]",
            "text/plain": [
              "<Figure size 640x480 with 2 Axes>"
            ]
          },
          "metadata": {},
          "output_type": "display_data"
        }
      ],
      "source": [
        "# evaluate\n",
        "calculate_evaluation(test_lr_d1, pred_lr_d1)\n",
        "create_confusion_matrix(test_lr_d1, pred_lr_d1)"
      ]
    },
    {
      "cell_type": "markdown",
      "metadata": {
        "id": "7TKbYkX_itDp"
      },
      "source": [
        "####c) Derived Dataset 2"
      ]
    },
    {
      "cell_type": "code",
      "execution_count": null,
      "metadata": {
        "id": "iD5PsfjNQl7z"
      },
      "outputs": [],
      "source": [
        "# train and test the model on the derived dataset 2\n",
        "test_lr_d2, pred_lr_d2 = k_fold(model_lr, X_d2, y_d2, False)"
      ]
    },
    {
      "cell_type": "code",
      "execution_count": null,
      "metadata": {
        "colab": {
          "base_uri": "https://localhost:8080/"
        },
        "id": "k4V1Clt2pBLU",
        "outputId": "e98c7584-14ac-41eb-e149-2d86544b8ab3"
      },
      "outputs": [
        {
          "name": "stdout",
          "output_type": "stream",
          "text": [
            "Accuracy: 0.6402266288951841\n",
            "F1 Score: 0.6570968392062285\n",
            "               precision    recall  f1-score   support\n",
            "\n",
            "     business       0.75      0.64      0.69       201\n",
            "          cnn       0.00      0.00      0.00         1\n",
            "entertainment       0.77      0.15      0.25       113\n",
            "       health       0.93      0.59      0.72       139\n",
            "     opinions       1.00      0.97      0.98       126\n",
            "     politics       0.96      0.76      0.85       174\n",
            "        sport       0.94      0.52      0.67       152\n",
            "        style       0.00      0.00      0.00        15\n",
            "       travel       0.00      0.00      0.00        11\n",
            "           us       0.50      0.01      0.02        84\n",
            "      weather       0.95      0.59      0.73        97\n",
            "        world       0.39      0.95      0.56       299\n",
            "\n",
            "     accuracy                           0.64      1412\n",
            "    macro avg       0.60      0.43      0.46      1412\n",
            " weighted avg       0.75      0.64      0.62      1412\n",
            "\n",
            "Micro-average F1 score:  0.6402266288951841\n"
          ]
        },
        {
          "data": {
            "text/plain": [
              "<sklearn.metrics._plot.confusion_matrix.ConfusionMatrixDisplay at 0x7852ed4be2f0>"
            ]
          },
          "execution_count": 34,
          "metadata": {},
          "output_type": "execute_result"
        },
        {
          "data": {
            "image/png": "[encoded data removed]",
            "text/plain": [
              "<Figure size 640x480 with 2 Axes>"
            ]
          },
          "metadata": {},
          "output_type": "display_data"
        }
      ],
      "source": [
        "# evaluate\n",
        "calculate_evaluation(test_lr_d2, pred_lr_d2)\n",
        "create_confusion_matrix(test_lr_d2, pred_lr_d2)"
      ]
    },
    {
      "cell_type": "markdown",
      "metadata": {
        "id": "xZcLjppkK_-H"
      },
      "source": [
        "###Multilayer Perceptron Model (with default parameters)\n",
        "\n"
      ]
    },
    {
      "cell_type": "markdown",
      "metadata": {
        "id": "llyQhL-WpuT_"
      },
      "source": [
        "####a) Original Dataset"
      ]
    },
    {
      "cell_type": "code",
      "execution_count": null,
      "metadata": {
        "colab": {
          "base_uri": "https://localhost:8080/"
        },
        "id": "Vr1MymCDpu1S",
        "outputId": "0ef976b9-23e8-475f-e07d-6a6126bcfeef"
      },
      "outputs": [
        {
          "name": "stdout",
          "output_type": "stream",
          "text": [
            "Fold 1:\n",
            "  Train: index=[   0    1    2 ... 1409 1410 1411]\n",
            "  Test:  index=[   6   12   14   19   34   38   41   50   51   53   55   57   58   64\n",
            "   67   79   84   93   94   96   97   99  102  114  117  128  132  135\n",
            "  136  144  145  152  162  166  170  182  188  192  201  206  209  212\n",
            "  215  216  218  219  221  222  227  230  237  239  240  246  248  249\n",
            "  250  251  254  259  260  268  269  277  280  281  287  288  290  292\n",
            "  297  298  306  308  311  314  320  337  345  349  351  356  361  363\n",
            "  364  366  368  371  373  378  386  392  396  399  406  407  411  413\n",
            "  414  422  428  435  442  443  456  462  473  476  482  487  496  498\n",
            "  499  500  506  518  527  529  533  535  540  543  544  545  547  549\n",
            "  552  565  574  578  582  583  585  587  589  593  596  603  606  613\n",
            "  615  616  618  619  622  629  633  634  637  644  648  651  656  657\n",
            "  670  678  688  689  691  693  696  697  700  706  707  712  716  719\n",
            "  721  723  724  726  733  736  738  741  742  745  752  753  757  758\n",
            "  764  765  766  773  779  784  788  789  791  792  794  795  802  803\n",
            "  805  806  807  809  811  814  822  825  830  832  841  845  851  854\n",
            "  855  857  859  877  879  888  896  901  902  905  916  917  923  925\n",
            "  929  937  939  943  946  953  955  959  969  975  976  978  979  980\n",
            "  981  985  987  988  990  991  992  997  999 1003 1004 1007 1014 1015\n",
            " 1022 1034 1042 1054 1057 1058 1065 1072 1077 1079 1081 1082 1083 1100\n",
            " 1104 1114 1123 1127 1130 1132 1133 1135 1137 1138 1139 1141 1159 1160\n",
            " 1161 1164 1167 1170 1172 1174 1176 1177 1178 1181 1182 1186 1189 1191\n",
            " 1193 1195 1198 1199 1200 1203 1207 1209 1213 1215 1217 1220 1237 1240\n",
            " 1241 1249 1250 1253 1256 1258 1267 1269 1275 1277 1279 1282 1283 1285\n",
            " 1286 1296 1301 1305 1315 1320 1321 1322 1323 1325 1326 1328 1333 1339\n",
            " 1341 1343 1345 1346 1351 1357 1361 1363 1364 1366 1368 1371 1383 1385\n",
            " 1391 1398 1407]\n",
            "Fold 2:\n",
            "  Train: index=[   1    4    6 ... 1408 1410 1411]\n",
            "  Test:  index=[   0    2    3    5    7    8   10   18   20   22   26   32   36   37\n",
            "   39   40   43   44   47   48   59   70   78   86   88   90   92  104\n",
            "  106  109  110  112  115  120  123  124  138  143  149  151  156  157\n",
            "  158  161  164  165  171  172  174  175  179  185  189  190  196  198\n",
            "  208  223  224  229  231  234  242  245  252  253  255  256  261  262\n",
            "  263  267  272  274  276  279  283  293  295  300  303  310  315  319\n",
            "  323  324  325  328  336  340  347  352  357  365  370  374  376  382\n",
            "  387  394  403  404  405  410  417  418  427  431  432  433  434  437\n",
            "  440  441  445  446  453  459  460  461  463  465  469  472  474  478\n",
            "  481  483  484  485  492  493  494  502  504  508  513  517  522  525\n",
            "  526  534  539  550  556  557  558  563  568  570  573  576  580  581\n",
            "  590  594  598  601  602  607  609  611  620  621  626  627  630  638\n",
            "  642  643  647  650  654  660  666  679  680  683  685  686  687  692\n",
            "  694  695  698  702  703  710  711  714  717  722  728  729  732  740\n",
            "  744  746  754  760  761  767  768  771  775  783  787  793  796  797\n",
            "  799  801  804  812  817  818  819  820  823  824  828  829  831  834\n",
            "  836  838  844  846  849  853  856  868  872  874  876  878  884  885\n",
            "  887  892  893  907  908  910  915  921  927  932  933  938  945  952\n",
            "  962  964  967  977  983  993  998 1016 1021 1023 1033 1036 1043 1044\n",
            " 1046 1049 1050 1051 1052 1059 1062 1064 1069 1074 1075 1076 1080 1084\n",
            " 1086 1096 1097 1099 1102 1105 1107 1108 1109 1111 1112 1115 1118 1119\n",
            " 1120 1126 1128 1129 1140 1150 1152 1154 1162 1166 1171 1175 1188 1216\n",
            " 1219 1221 1231 1232 1234 1236 1238 1243 1245 1247 1252 1259 1271 1274\n",
            " 1280 1289 1290 1303 1308 1309 1310 1317 1324 1331 1336 1342 1344 1352\n",
            " 1358 1360 1369 1370 1372 1374 1376 1377 1378 1379 1380 1386 1387 1392\n",
            " 1400 1404 1409]\n",
            "Fold 3:\n",
            "  Train: index=[   0    2    3 ... 1404 1407 1409]\n",
            "  Test:  index=[   1    9   13   15   17   25   30   31   33   35   42   45   49   60\n",
            "   62   66   68   69   80   81   82   83   85   87   89   91   95   98\n",
            "  100  103  105  107  108  111  113  116  119  122  125  133  137  139\n",
            "  142  147  148  150  159  163  168  173  176  180  181  184  187  193\n",
            "  194  197  199  200  205  210  213  225  226  228  233  236  243  244\n",
            "  247  258  265  270  271  284  289  291  294  299  302  305  309  312\n",
            "  316  317  318  322  326  329  338  342  344  353  359  362  372  379\n",
            "  381  389  390  391  397  401  402  412  416  419  420  423  424  425\n",
            "  429  448  455  466  475  479  490  491  497  503  505  507  509  516\n",
            "  519  521  523  530  531  541  542  546  548  551  554  560  566  579\n",
            "  584  586  597  599  600  604  605  610  614  617  623  625  632  636\n",
            "  640  645  655  661  664  665  671  674  682  690  701  708  720  727\n",
            "  730  734  735  737  739  748  749  750  751  756  763  769  770  776\n",
            "  777  778  781  798  808  810  813  815  821  826  827  837  840  842\n",
            "  852  858  860  861  862  864  865  871  873  875  880  881  883  886\n",
            "  891  894  897  900  906  909  911  912  913  914  918  919  920  926\n",
            "  930  936  941  942  948  954  956  957  958  960  961  968  971  973\n",
            "  982  986  995  996 1000 1002 1006 1012 1017 1019 1020 1024 1026 1028\n",
            " 1029 1035 1037 1038 1039 1041 1045 1047 1063 1066 1068 1070 1071 1073\n",
            " 1092 1095 1098 1103 1106 1113 1117 1121 1124 1125 1131 1134 1136 1145\n",
            " 1146 1155 1158 1163 1165 1168 1179 1180 1183 1184 1185 1192 1194 1196\n",
            " 1202 1204 1205 1206 1208 1210 1211 1214 1223 1228 1229 1239 1246 1248\n",
            " 1251 1254 1255 1260 1261 1262 1264 1266 1268 1272 1273 1276 1281 1287\n",
            " 1288 1292 1294 1295 1299 1300 1311 1312 1313 1318 1329 1330 1334 1348\n",
            " 1349 1353 1355 1356 1373 1375 1382 1384 1389 1394 1396 1397 1405 1406\n",
            " 1408 1410 1411]\n",
            "Fold 4:\n",
            "  Train: index=[   0    1    2 ... 1409 1410 1411]\n",
            "  Test:  index=[   4   11   16   21   23   24   27   28   29   46   52   54   56   61\n",
            "   63   65   71   72   73   74   75   76   77  101  118  121  126  127\n",
            "  129  130  131  134  140  141  146  153  154  155  160  167  169  177\n",
            "  178  183  186  191  195  202  203  204  207  211  214  217  220  232\n",
            "  235  238  241  257  264  266  273  275  278  282  285  286  296  301\n",
            "  304  307  313  321  327  330  331  332  333  334  335  339  341  343\n",
            "  346  348  350  354  355  358  360  367  369  375  377  380  383  384\n",
            "  385  388  393  395  398  400  408  409  415  421  426  430  436  438\n",
            "  439  444  447  449  450  451  452  454  457  458  464  467  468  470\n",
            "  471  477  480  486  488  489  495  501  510  511  512  514  515  520\n",
            "  524  528  532  536  537  538  553  555  559  561  562  564  567  569\n",
            "  571  572  575  577  588  591  592  595  608  612  624  628  631  635\n",
            "  639  641  646  649  652  653  658  659  662  663  667  668  669  672\n",
            "  673  675  676  677  681  684  699  704  705  709  713  715  718  725\n",
            "  731  743  747  755  759  762  772  774  780  782  785  786  790  800\n",
            "  816  833  835  839  843  847  848  850  863  866  867  869  870  882\n",
            "  889  890  895  898  899  903  904  922  924  928  931  934  935  940\n",
            "  944  947  949  950  951  963  965  966  970  972  974  984  989  994\n",
            " 1001 1005 1008 1009 1010 1011 1013 1018 1025 1027 1030 1031 1032 1040\n",
            " 1048 1053 1055 1056 1060 1061 1067 1078 1085 1087 1088 1089 1090 1091\n",
            " 1093 1094 1101 1110 1116 1122 1142 1143 1144 1147 1148 1149 1151 1153\n",
            " 1156 1157 1169 1173 1187 1190 1197 1201 1212 1218 1222 1224 1225 1226\n",
            " 1227 1230 1233 1235 1242 1244 1257 1263 1265 1270 1278 1284 1291 1293\n",
            " 1297 1298 1302 1304 1306 1307 1314 1316 1319 1327 1332 1335 1337 1338\n",
            " 1340 1347 1350 1354 1359 1362 1365 1367 1381 1388 1390 1393 1395 1399\n",
            " 1401 1402 1403]\n"
          ]
        }
      ],
      "source": [
        "# train and test the mlp model on the original dataset\n",
        "test_mlp_d, pred_mlp_d = k_fold(model_mlp, X_d, y_d, True)"
      ]
    },
    {
      "cell_type": "code",
      "execution_count": null,
      "metadata": {
        "colab": {
          "base_uri": "https://localhost:8080/",
          "height": 848
        },
        "id": "b4KViyO9pQwH",
        "outputId": "fdf8e7c2-a77e-40ab-930c-ca600099b5cc"
      },
      "outputs": [
        {
          "name": "stdout",
          "output_type": "stream",
          "text": [
            "Accuracy: 0.68342776203966\n",
            "F1 Score: 0.6913879722813723\n",
            "               precision    recall  f1-score   support\n",
            "\n",
            "     business       0.59      0.70      0.64       201\n",
            "          cnn       0.00      0.00      0.00         1\n",
            "entertainment       0.66      0.42      0.51       113\n",
            "       health       0.72      0.77      0.75       139\n",
            "     opinions       0.85      0.62      0.72       126\n",
            "     politics       0.77      0.82      0.80       174\n",
            "        sport       0.82      0.68      0.74       152\n",
            "        style       0.00      0.00      0.00        15\n",
            "       travel       1.00      0.36      0.53        11\n",
            "           us       0.52      0.33      0.41        84\n",
            "      weather       0.86      0.81      0.84        97\n",
            "        world       0.59      0.79      0.67       299\n",
            "\n",
            "     accuracy                           0.68      1412\n",
            "    macro avg       0.62      0.53      0.55      1412\n",
            " weighted avg       0.69      0.68      0.68      1412\n",
            "\n",
            "Micro-average F1 score:  0.68342776203966\n"
          ]
        },
        {
          "data": {
            "text/plain": [
              "<sklearn.metrics._plot.confusion_matrix.ConfusionMatrixDisplay at 0x7852ed589300>"
            ]
          },
          "execution_count": 36,
          "metadata": {},
          "output_type": "execute_result"
        },
        {
          "data": {
            "image/png": "[encoded data removed]",
            "text/plain": [
              "<Figure size 640x480 with 2 Axes>"
            ]
          },
          "metadata": {},
          "output_type": "display_data"
        }
      ],
      "source": [
        "# evaluate\n",
        "calculate_evaluation(test_mlp_d, pred_mlp_d)\n",
        "create_confusion_matrix(test_mlp_d, pred_mlp_d)"
      ]
    },
    {
      "cell_type": "markdown",
      "metadata": {
        "id": "NWYVwMH-f1Yv"
      },
      "source": [
        "####b) Derived Dataset 1"
      ]
    },
    {
      "cell_type": "code",
      "execution_count": null,
      "metadata": {
        "id": "I10PHr2JL7Nh"
      },
      "outputs": [],
      "source": [
        "# train and test the mlp model on the derived dataset 1\n",
        "test_mlp_d1, pred_mlp_d1 = k_fold(model_mlp, X_d1, y_d1, False)"
      ]
    },
    {
      "cell_type": "code",
      "execution_count": null,
      "metadata": {
        "colab": {
          "base_uri": "https://localhost:8080/",
          "height": 848
        },
        "id": "IkZrbOyHcxb8",
        "outputId": "844a20a2-b5d9-41cd-fecd-bec8555be429"
      },
      "outputs": [
        {
          "name": "stdout",
          "output_type": "stream",
          "text": [
            "Accuracy: 0.5729461756373938\n",
            "F1 Score: 0.5796314625913028\n",
            "               precision    recall  f1-score   support\n",
            "\n",
            "     business       0.48      0.61      0.53       201\n",
            "          cnn       0.00      0.00      0.00         1\n",
            "entertainment       0.49      0.35      0.40       113\n",
            "       health       0.72      0.60      0.65       139\n",
            "     opinions       0.92      0.87      0.89       126\n",
            "     politics       0.60      0.57      0.59       174\n",
            "        sport       0.57      0.56      0.57       152\n",
            "        style       0.00      0.00      0.00        15\n",
            "       travel       0.75      0.27      0.40        11\n",
            "           us       0.37      0.24      0.29        84\n",
            "      weather       0.55      0.73      0.63        97\n",
            "        world       0.52      0.59      0.55       299\n",
            "\n",
            "     accuracy                           0.57      1412\n",
            "    macro avg       0.50      0.45      0.46      1412\n",
            " weighted avg       0.57      0.57      0.57      1412\n",
            "\n",
            "Micro-average F1 score:  0.5729461756373938\n"
          ]
        },
        {
          "data": {
            "text/plain": [
              "<sklearn.metrics._plot.confusion_matrix.ConfusionMatrixDisplay at 0x7852eb2b2a10>"
            ]
          },
          "execution_count": 74,
          "metadata": {},
          "output_type": "execute_result"
        },
        {
          "data": {
            "image/png": "[encoded data removed]",
            "text/plain": [
              "<Figure size 640x480 with 2 Axes>"
            ]
          },
          "metadata": {},
          "output_type": "display_data"
        }
      ],
      "source": [
        "# evaluate\n",
        "calculate_evaluation(test_mlp_d1, pred_mlp_d1)\n",
        "create_confusion_matrix(test_mlp_d1, pred_mlp_d1)"
      ]
    },
    {
      "cell_type": "markdown",
      "metadata": {
        "id": "I8YuShPypz87"
      },
      "source": [
        "####c) Derived Dataset 2"
      ]
    },
    {
      "cell_type": "code",
      "execution_count": null,
      "metadata": {
        "id": "AGyJLD5pp1LP"
      },
      "outputs": [],
      "source": [
        "# train and test the mlp model on the derived dataset 2\n",
        "test_mlp_d2, pred_mlp_d2 = k_fold(model_mlp, X_d2, y_d2, False)"
      ]
    },
    {
      "cell_type": "code",
      "execution_count": null,
      "metadata": {
        "colab": {
          "base_uri": "https://localhost:8080/",
          "height": 848
        },
        "id": "v4ICO7p5pT5J",
        "outputId": "2862d155-5124-45db-c033-55cc9fe8ccf8"
      },
      "outputs": [
        {
          "name": "stdout",
          "output_type": "stream",
          "text": [
            "Accuracy: 0.6968838526912181\n",
            "F1 Score: 0.704061343416661\n",
            "               precision    recall  f1-score   support\n",
            "\n",
            "     business       0.71      0.71      0.71       201\n",
            "          cnn       0.00      0.00      0.00         1\n",
            "entertainment       0.66      0.35      0.46       113\n",
            "       health       0.48      0.82      0.60       139\n",
            "     opinions       0.87      0.77      0.82       126\n",
            "     politics       0.84      0.82      0.83       174\n",
            "        sport       0.82      0.74      0.78       152\n",
            "        style       0.00      0.00      0.00        15\n",
            "       travel       0.83      0.45      0.59        11\n",
            "           us       0.49      0.31      0.38        84\n",
            "      weather       0.85      0.77      0.81        97\n",
            "        world       0.66      0.77      0.71       299\n",
            "\n",
            "     accuracy                           0.70      1412\n",
            "    macro avg       0.60      0.54      0.56      1412\n",
            " weighted avg       0.70      0.70      0.69      1412\n",
            "\n",
            "Micro-average F1 score:  0.6968838526912181\n"
          ]
        },
        {
          "data": {
            "text/plain": [
              "<sklearn.metrics._plot.confusion_matrix.ConfusionMatrixDisplay at 0x7852eb046b60>"
            ]
          },
          "execution_count": 40,
          "metadata": {},
          "output_type": "execute_result"
        },
        {
          "data": {
            "image/png": "[encoded data removed]",
            "text/plain": [
              "<Figure size 640x480 with 2 Axes>"
            ]
          },
          "metadata": {},
          "output_type": "display_data"
        }
      ],
      "source": [
        "# evaluate\n",
        "calculate_evaluation(test_mlp_d2, pred_mlp_d2)\n",
        "create_confusion_matrix(test_mlp_d2, pred_mlp_d2)"
      ]
    },
    {
      "cell_type": "markdown",
      "metadata": {
        "id": "GZaBkGSH4g7v"
      },
      "source": [
        "##**4. Modify some parameters of the MLP model and perform a train/test/evaluate again (two times)**"
      ]
    },
    {
      "cell_type": "markdown",
      "metadata": {
        "id": "MIdUBiZAKPGg"
      },
      "source": [
        "###MLP Model #2 - Using the 'logistic' Activation Function\n",
        "\n"
      ]
    },
    {
      "cell_type": "code",
      "execution_count": null,
      "metadata": {
        "id": "IcKFbWmyKs_n"
      },
      "outputs": [],
      "source": [
        "# Define the 2nd MLP model using the logistic activation function\n",
        "model_mlp_log = MLPClassifier(random_state=1, activation='logistic', learning_rate='constant')"
      ]
    },
    {
      "cell_type": "markdown",
      "metadata": {
        "id": "uR9qpx4CKPGn"
      },
      "source": [
        "####a) Original Dataset"
      ]
    },
    {
      "cell_type": "code",
      "execution_count": null,
      "metadata": {
        "colab": {
          "base_uri": "https://localhost:8080/"
        },
        "id": "_bkJa9PzKPGo",
        "outputId": "c25b8591-b0cb-4d08-d5c3-d46f3a832044"
      },
      "outputs": [
        {
          "name": "stdout",
          "output_type": "stream",
          "text": [
            "Fold 1:\n",
            "  Train: index=[   0    1    3 ... 1408 1410 1411]\n",
            "  Test:  index=[   2    8   17   24   25   29   30   31   38   43   48   51   58   59\n",
            "   66   72   74   75   81   83  107  113  115  117  125  127  129  130\n",
            "  133  134  144  152  154  155  157  166  168  187  188  192  197  203\n",
            "  210  211  215  224  225  227  233  244  256  257  259  262  263  269\n",
            "  271  273  274  278  280  281  282  283  284  288  290  308  309  315\n",
            "  318  323  327  328  332  336  340  341  352  356  362  368  383  385\n",
            "  393  394  396  404  407  408  414  416  421  422  424  427  429  432\n",
            "  434  437  441  446  450  451  453  459  471  478  479  484  485  490\n",
            "  497  499  504  508  509  512  524  527  528  536  540  542  550  565\n",
            "  567  581  584  585  589  591  594  595  600  602  609  610  611  612\n",
            "  613  622  632  635  639  645  648  653  655  665  668  670  673  677\n",
            "  679  682  683  685  686  695  696  697  698  699  705  707  709  710\n",
            "  714  715  716  723  726  729  731  733  736  739  747  751  755  760\n",
            "  772  784  785  787  790  791  796  797  801  804  812  815  816  824\n",
            "  827  833  835  836  838  839  841  843  845  850  857  864  872  877\n",
            "  882  892  894  905  906  908  919  924  925  930  931  932  933  938\n",
            "  945  953  956  958  964  974  980  989  991  993 1001 1003 1008 1010\n",
            " 1013 1014 1020 1021 1032 1034 1036 1038 1040 1048 1059 1062 1063 1064\n",
            " 1067 1073 1077 1083 1089 1092 1094 1095 1099 1101 1102 1104 1106 1109\n",
            " 1113 1117 1119 1130 1131 1132 1134 1144 1145 1152 1154 1160 1161 1162\n",
            " 1164 1167 1168 1182 1185 1187 1200 1223 1225 1226 1228 1230 1231 1232\n",
            " 1233 1234 1236 1238 1240 1241 1245 1252 1255 1257 1262 1265 1270 1274\n",
            " 1278 1280 1281 1282 1288 1294 1299 1301 1305 1307 1310 1312 1319 1324\n",
            " 1326 1329 1333 1334 1335 1336 1341 1344 1346 1352 1353 1356 1363 1364\n",
            " 1365 1366 1368 1370 1371 1372 1377 1382 1384 1385 1387 1391 1392 1396\n",
            " 1398 1402 1409]\n",
            "Fold 2:\n",
            "  Train: index=[   0    1    2 ... 1408 1409 1411]\n",
            "  Test:  index=[   5   12   19   27   32   33   36   44   45   46   50   56   57   62\n",
            "   73   77   78   82   87   95   96  101  104  105  110  112  118  124\n",
            "  128  132  138  140  141  142  151  153  161  165  173  174  180  181\n",
            "  183  186  193  195  196  199  201  207  209  217  223  230  235  251\n",
            "  254  258  260  272  276  277  286  287  291  292  293  296  297  298\n",
            "  300  301  302  312  313  316  322  324  325  330  334  339  343  344\n",
            "  347  350  354  360  361  369  371  372  376  380  382  384  389  395\n",
            "  398  401  403  411  415  417  418  419  420  426  428  433  436  447\n",
            "  449  454  455  458  460  468  469  470  472  475  476  481  491  492\n",
            "  493  500  501  506  511  514  515  518  519  521  523  525  529  530\n",
            "  532  534  535  537  541  544  549  555  557  559  570  571  573  574\n",
            "  577  578  580  582  588  605  606  619  620  625  627  633  636  642\n",
            "  644  646  651  652  659  662  666  667  678  681  684  704  712  719\n",
            "  721  722  732  734  740  741  745  746  750  752  756  763  766  769\n",
            "  775  776  778  780  795  798  800  811  813  823  830  840  844  852\n",
            "  856  858  859  861  862  866  867  868  869  870  871  875  876  884\n",
            "  890  895  896  901  907  915  916  922  926  942  944  946  947  962\n",
            "  967  970  975  978  987  988  990  994  995 1000 1006 1009 1012 1018\n",
            " 1023 1024 1025 1027 1029 1031 1033 1046 1049 1052 1054 1060 1065 1066\n",
            " 1069 1071 1075 1079 1080 1081 1087 1100 1108 1114 1115 1120 1121 1122\n",
            " 1126 1133 1135 1137 1140 1141 1142 1148 1158 1165 1171 1172 1173 1174\n",
            " 1175 1186 1193 1194 1197 1199 1201 1203 1204 1207 1208 1210 1212 1215\n",
            " 1216 1217 1219 1220 1222 1224 1229 1239 1243 1246 1253 1256 1259 1264\n",
            " 1266 1268 1269 1273 1277 1284 1285 1286 1291 1295 1300 1309 1311 1313\n",
            " 1322 1323 1327 1338 1360 1362 1369 1374 1378 1381 1390 1393 1397 1399\n",
            " 1401 1404 1410]\n",
            "Fold 3:\n",
            "  Train: index=[   0    1    2 ... 1409 1410 1411]\n",
            "  Test:  index=[   4   13   14   15   16   18   21   22   26   34   39   41   42   49\n",
            "   60   61   63   67   71   79   80   90   91   94   97   98  106  114\n",
            "  116  120  122  123  126  135  139  143  145  146  147  156  158  159\n",
            "  162  163  167  170  172  175  177  178  179  189  190  191  194  200\n",
            "  204  205  206  214  219  220  221  226  232  234  236  240  242  243\n",
            "  246  248  252  264  265  267  268  275  285  294  295  303  304  306\n",
            "  307  310  311  314  317  319  326  329  331  335  337  338  342  345\n",
            "  346  349  355  357  358  359  365  367  373  378  381  390  392  405\n",
            "  409  412  413  430  431  435  438  440  456  464  466  467  473  477\n",
            "  480  482  486  489  495  496  502  510  513  516  522  533  546  548\n",
            "  551  554  558  560  563  564  566  568  576  583  586  587  592  593\n",
            "  596  599  607  608  614  621  624  628  629  637  640  641  643  647\n",
            "  649  654  660  661  664  675  676  680  687  688  689  690  691  693\n",
            "  694  700  701  708  713  717  718  720  724  725  728  730  735  737\n",
            "  742  743  748  754  757  761  764  765  767  770  771  774  779  781\n",
            "  783  788  792  793  794  806  808  817  819  820  825  829  831  837\n",
            "  842  847  849  853  860  863  873  874  879  885  886  887  891  899\n",
            "  900  903  910  911  912  913  914  917  921  927  929  936  937  940\n",
            "  948  949  951  954  955  957  959  965  968  969  971  973  977  981\n",
            "  996  997  999 1002 1015 1019 1022 1028 1035 1044 1050 1051 1055 1058\n",
            " 1061 1068 1072 1074 1082 1085 1090 1093 1097 1098 1103 1110 1123 1125\n",
            " 1136 1143 1146 1153 1155 1159 1169 1170 1176 1177 1181 1183 1192 1195\n",
            " 1198 1202 1209 1211 1214 1235 1237 1242 1244 1249 1250 1254 1260 1261\n",
            " 1275 1276 1279 1283 1290 1293 1296 1297 1304 1314 1315 1316 1317 1321\n",
            " 1328 1337 1339 1340 1342 1343 1348 1351 1355 1357 1358 1359 1367 1375\n",
            " 1376 1386 1403]\n",
            "Fold 4:\n",
            "  Train: index=[   2    4    5 ... 1404 1409 1410]\n",
            "  Test:  index=[   0    1    3    6    7    9   10   11   20   23   28   35   37   40\n",
            "   47   52   53   54   55   64   65   68   69   70   76   84   85   86\n",
            "   88   89   92   93   99  100  102  103  108  109  111  119  121  131\n",
            "  136  137  148  149  150  160  164  169  171  176  182  184  185  198\n",
            "  202  208  212  213  216  218  222  228  229  231  237  238  239  241\n",
            "  245  247  249  250  253  255  261  266  270  279  289  299  305  320\n",
            "  321  333  348  351  353  363  364  366  370  374  375  377  379  386\n",
            "  387  388  391  397  399  400  402  406  410  423  425  439  442  443\n",
            "  444  445  448  452  457  461  462  463  465  474  483  487  488  494\n",
            "  498  503  505  507  517  520  526  531  538  539  543  545  547  552\n",
            "  553  556  561  562  569  572  575  579  590  597  598  601  603  604\n",
            "  615  616  617  618  623  626  630  631  634  638  650  656  657  658\n",
            "  663  669  671  672  674  692  702  703  706  711  727  738  744  749\n",
            "  753  758  759  762  768  773  777  782  786  789  799  802  803  805\n",
            "  807  809  810  814  818  821  822  826  828  832  834  846  848  851\n",
            "  854  855  865  878  880  881  883  888  889  893  897  898  902  904\n",
            "  909  918  920  923  928  934  935  939  941  943  950  952  960  961\n",
            "  963  966  972  976  979  982  983  984  985  986  992  998 1004 1005\n",
            " 1007 1011 1016 1017 1026 1030 1037 1039 1041 1042 1043 1045 1047 1053\n",
            " 1056 1057 1070 1076 1078 1084 1086 1088 1091 1096 1105 1107 1111 1112\n",
            " 1116 1118 1124 1127 1128 1129 1138 1139 1147 1149 1150 1151 1156 1157\n",
            " 1163 1166 1178 1179 1180 1184 1188 1189 1190 1191 1196 1205 1206 1213\n",
            " 1218 1221 1227 1247 1248 1251 1258 1263 1267 1271 1272 1287 1289 1292\n",
            " 1298 1302 1303 1306 1308 1318 1320 1325 1330 1331 1332 1345 1347 1349\n",
            " 1350 1354 1361 1373 1379 1380 1383 1388 1389 1394 1395 1400 1405 1406\n",
            " 1407 1408 1411]\n"
          ]
        }
      ],
      "source": [
        "# train and test the mlp model on the original dataset\n",
        "test_mlp_log_d, pred_mlp_log_d = k_fold(model_mlp_log, X_d, y_d, True)"
      ]
    },
    {
      "cell_type": "markdown",
      "metadata": {
        "id": "MQeYVE-iKPGo"
      },
      "source": [
        "####b) Derived Dataset 1"
      ]
    },
    {
      "cell_type": "code",
      "execution_count": null,
      "metadata": {
        "id": "n9E4gehMKPGo"
      },
      "outputs": [],
      "source": [
        "# train and test the mlp model on the derived dataset 1\n",
        "test_mlp_log_d1, pred_mlp_log_d1 = k_fold(model_mlp_log, X_d1, y_d1, False)"
      ]
    },
    {
      "cell_type": "markdown",
      "metadata": {
        "id": "Us18sm5RKPGo"
      },
      "source": [
        "####c) Derived Dataset 2"
      ]
    },
    {
      "cell_type": "code",
      "execution_count": null,
      "metadata": {
        "id": "yix6jr6JKPGp"
      },
      "outputs": [],
      "source": [
        "# train and test the mlp model on the derived dataset 2\n",
        "# reduced verbose from kfold, showing only results\n",
        "test_mlp_log_d2, pred_mlp_log_d2 = k_fold(model_mlp_log, X_d2, y_d2, False)"
      ]
    },
    {
      "cell_type": "markdown",
      "metadata": {
        "id": "PZDtazxmKPGp"
      },
      "source": [
        "**Perform an evaluation with precision/recall measures. Since you are looking at a\n",
        "multi-class problem, make sure that you compare micro and macro averages on\n",
        "precision and recall. Discuss the differences (if any) obtained. For your particular\n",
        "dataset, are the classes balanced? That would impact the micro/macro results.**"
      ]
    },
    {
      "cell_type": "markdown",
      "metadata": {
        "id": "tVL8Vne5Kc-r"
      },
      "source": [
        "###MLP Model #3 - Using an 'adaptive' Learning Rate"
      ]
    },
    {
      "cell_type": "code",
      "execution_count": null,
      "metadata": {
        "id": "T-4_mjw2LdGD"
      },
      "outputs": [],
      "source": [
        "# Define the 3rd MLP model using an adaptive learning rate\n",
        "# a learning rate that changes according to error feedback\n",
        "model_mlp_adapt = MLPClassifier(random_state=1, activation='relu', learning_rate='adaptive')"
      ]
    },
    {
      "cell_type": "markdown",
      "metadata": {
        "id": "FOVaYP6kKc-x"
      },
      "source": [
        "####a) Original Dataset"
      ]
    },
    {
      "cell_type": "markdown",
      "metadata": {
        "id": "JPf5tWbRKc-x"
      },
      "source": [
        "####b) Derived Dataset 1"
      ]
    },
    {
      "cell_type": "code",
      "execution_count": null,
      "metadata": {
        "id": "NlbWUH-BKc-y"
      },
      "outputs": [],
      "source": [
        "# train and test the mlp model on the derived dataset 1\n",
        "test_mlp_adapt_d1, pred_mlp_adapt_d1 = k_fold(model_mlp_adapt, X_d1, y_d1, False)"
      ]
    },
    {
      "cell_type": "markdown",
      "metadata": {
        "id": "Jfp7r4aiKc-y"
      },
      "source": [
        "####c) Derived Dataset 2"
      ]
    },
    {
      "cell_type": "code",
      "execution_count": null,
      "metadata": {
        "id": "jriYjlecKc-y"
      },
      "outputs": [],
      "source": [
        "# train and test the mlp model on the derived dataset 2\n",
        "test_mlp_adapt_d2, pred_mlp_adapt_d2 = k_fold(model_mlp_adapt, X_d2, y_d2, False)"
      ]
    },
    {
      "cell_type": "markdown",
      "metadata": {
        "id": "egYGdTPGKc-y"
      },
      "source": [
        "**Perform an evaluation with precision/recall measures. Since you are looking at a\n",
        "multi-class problem, make sure that you compare micro and macro averages on\n",
        "precision and recall. Discuss the differences (if any) obtained. For your particular\n",
        "dataset, are the classes balanced? That would impact the micro/macro results.**"
      ]
    },
    {
      "cell_type": "markdown",
      "metadata": {
        "id": "KH5QQlVx4k7V"
      },
      "source": [
        "##**5. Analyze the obtained results**"
      ]
    },
    {
      "cell_type": "markdown",
      "metadata": {
        "id": "BB6UK62SVgQ2"
      },
      "source": [
        "### **3 Variations of MLP:**"
      ]
    },
    {
      "cell_type": "markdown",
      "metadata": {
        "id": "fJrM5L7k45E8"
      },
      "source": [
        "# **References**"
      ]
    },
    {
      "cell_type": "markdown",
      "metadata": {
        "id": "dhdTXk3dJHKX"
      },
      "source": [
        "\n",
        "\n",
        "*   https://scikit-learn.org/stable/tutorial/text_analytics/working_with_text_data.html\n",
        "*   https://spacy.io/usage/linguistic-features\n",
        "*   https://scikit-learn.org/stable/modules/generated/sklearn.neural_network.MLPClassifier.html\n",
        "*   https://www.kaggle.com/code/heeraldedhia/text-classification-nlp\n",
        "*   https://saturncloud.io/blog/how-to-disable-warnings-in-jupyter-notebook/\n",
        "*   https://github.com/Jcharis/Natural-Language-Processing-Tutorials/blob/master/Text%20Classification%20With%20Machine%20Learning,SpaCy,Sklearn(Sentiment%20Analysis)/Text%20Classification%20&%20Sentiment%20Analysis%20with%20SpaCy,Sklearn.ipynb\n",
        "\n",
        "Logistic regression references:\n",
        "* https://scikit-learn.org/stable/auto_examples/linear_model/plot_iris_logistic.html#logistic-regression-3-class-classifier\n",
        "\n",
        "* https://www.datacamp.com/tutorial/understanding-logistic-regression-python\n",
        "\n",
        "* https://scikit-learn.org/stable/modules/generated/sklearn.linear_model.LogisticRegression.html#sklearn.linear_model.LogisticRegression\n",
        "\n",
        "\n",
        "*   Fall2023-CSI4106-NN\n",
        "\n",
        "Code from Assignment 2: evaluation functions, kfold, logistic regression"
      ]
    }
  ],
  "metadata": {
    "colab": {
      "collapsed_sections": [
        "a-Vs7WqbkGoX",
        "1uiZnpNwkKk9",
        "HMwwplCkUB5L",
        "hAWy9rIRijSR",
        "7TKbYkX_itDp",
        "Us18sm5RKPGo",
        "JPf5tWbRKc-x",
        "Jfp7r4aiKc-y",
        "ZYmbQ7UErfTD",
        "DVHJs-A1rpjh",
        "cn1s0cCbruS9",
        "ypakirXOr3_8"
      ],
      "provenance": []
    },
    "kernelspec": {
      "display_name": "Python 3",
      "language": "python",
      "name": "python3"
    },
    "language_info": {
      "codemirror_mode": {
        "name": "ipython",
        "version": 3
      },
      "file_extension": ".py",
      "mimetype": "text/x-python",
      "name": "python",
      "nbconvert_exporter": "python",
      "pygments_lexer": "ipython3",
      "version": "3.8.10"
    }
  },
  "nbformat": 4,
  "nbformat_minor": 0
}
