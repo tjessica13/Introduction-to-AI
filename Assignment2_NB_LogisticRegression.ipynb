{
  "cells": [
    {
      "cell_type": "markdown",
      "metadata": {
        "id": "SPeulvp-meob"
      },
      "source": [
        "# **ASSIGNMENT 2: CLASSIFICATION EMPIRICAL STUDY OF NAIVE BAYES VS LOGISTIC REGRESSION**"
      ]
    },
    {
      "cell_type": "markdown",
      "metadata": {},
      "source": [
        "This was an assignment completed for the Introduction to AI course. This assingnment was completed in a group of two people.\n",
        "Portions of this assignment were removed to make it public. This is not a working/full copy of the completed assignment."
      ]
    },
    {
      "cell_type": "markdown",
      "metadata": {
        "id": "Yq6OGiMX_da0"
      },
      "source": [
        "# **1. Classification Dataset**"
      ]
    },
    {
      "cell_type": "markdown",
      "metadata": {
        "id": "C8vwHE0G_iOG"
      },
      "source": [
        "**Dermatology dataset:**\n",
        "\n",
        "Kaggle: https://www.kaggle.com/datasets/olcaybolat1/dermatology-dataset-classification\n",
        "\n",
        "\n",
        "*   Number of samples: 366\n",
        "*   Number of attributes: 34\n",
        "*   Number of classes: 6 disorders\n",
        "  1. psoriasis\n",
        "  2. seborrheic dermatitis\n",
        "  3. lichen planus\n",
        "  4. pityriasis rosea\n",
        "  5. chronic dermatitis\n",
        "  6. pityriasis rubra pilaris\n",
        "\n",
        "\n",
        "\n",
        "\n",
        "\n",
        "\n",
        "\n",
        "\n",
        "\n",
        "\n"
      ]
    },
    {
      "cell_type": "markdown",
      "metadata": {
        "id": "OZTWy1qN2BzY"
      },
      "source": [
        "**Import important libraries**"
      ]
    },
    {
      "cell_type": "code",
      "execution_count": null,
      "metadata": {
        "id": "GmP1buROhaOx"
      },
      "outputs": [],
      "source": [
        "import pandas as pd\n",
        "import itertools\n",
        "import numpy as np\n",
        "# Useful for calculating precision, recall, micros & macros\n",
        "from sklearn.metrics import (\n",
        "    f1_score,\n",
        "    accuracy_score,\n",
        "    confusion_matrix,\n",
        "    ConfusionMatrixDisplay,\n",
        "    classification_report\n",
        ")"
      ]
    },
    {
      "cell_type": "markdown",
      "metadata": {
        "id": "wNJyoeCz00Kr"
      },
      "source": [
        "**Read Dataset**\n",
        "\n",
        "Link to the dermatology dataset hosted on our public repository:"
      ]
    },
    {
      "cell_type": "code",
      "execution_count": null,
      "metadata": {
        "id": "BrhpM-HwhaOy"
      },
      "outputs": [],
      "source": [
        "#url removed for public repo\n",
        "#url = \"https://raw.githubusercontent.com/{dermatology_database_1.csv}\"\n",
        "\n",
        "dataset = pd.read_csv(url)"
      ]
    },
    {
      "cell_type": "markdown",
      "metadata": {
        "id": "4Drc71BY2a7w"
      },
      "source": [
        "Let's see what are the columns of the dataset:"
      ]
    },
    {
      "cell_type": "code",
      "execution_count": null,
      "metadata": {
        "colab": {
          "base_uri": "https://localhost:8080/"
        },
        "id": "pGxZXmhNhaOz",
        "outputId": "0a8492b2-12d0-486c-d8e5-f919460f23af"
      },
      "outputs": [
        {
          "data": {
            "text/plain": [
              "Index(['erythema', 'scaling', 'definite_borders', 'itching',\n",
              "       'koebner_phenomenon', 'polygonal_papules', 'follicular_papules',\n",
              "       'oral_mucosal_involvement', 'knee_and_elbow_involvement',\n",
              "       'scalp_involvement', 'family_history', 'melanin_incontinence',\n",
              "       'eosinophils_infiltrate', 'PNL_infiltrate', 'fibrosis_papillary_dermis',\n",
              "       'exocytosis', 'acanthosis', 'hyperkeratosis', 'parakeratosis',\n",
              "       'clubbing_rete_ridges', 'elongation_rete_ridges',\n",
              "       'thinning_suprapapillary_epidermis', 'spongiform_pustule',\n",
              "       'munro_microabcess', 'focal_hypergranulosis',\n",
              "       'disappearance_granular_layer', 'vacuolisation_damage_basal_layer',\n",
              "       'spongiosis', 'saw_tooth_appearance_retes', 'follicular_horn_plug',\n",
              "       'perifollicular_parakeratosis', 'inflammatory_mononuclear_infiltrate',\n",
              "       'band_like_infiltrate', 'age', 'class'],\n",
              "      dtype='object')"
            ]
          },
          "execution_count": 3,
          "metadata": {},
          "output_type": "execute_result"
        }
      ],
      "source": [
        "dataset.columns"
      ]
    },
    {
      "cell_type": "markdown",
      "metadata": {
        "id": "jkokOHRj2kgZ"
      },
      "source": [
        "Now let's see the first 10 entries (rows):"
      ]
    },
    {
      "cell_type": "code",
      "execution_count": null,
      "metadata": {
        "colab": {
          "base_uri": "https://localhost:8080/",
          "height": 412
        },
        "id": "0xqfPrBEhaOz",
        "outputId": "92772839-6f69-48e4-a2ce-f60d6a945171"
      },
      "outputs": [
        {
          "data": {
            "text/html": [
              "\n",
              "  <div id=\"df-f8fd396e-38e1-4b18-b46c-0de923d390a6\" class=\"colab-df-container\">\n",
              "    <div>\n",
              "<style scoped>\n",
              "    .dataframe tbody tr th:only-of-type {\n",
              "        vertical-align: middle;\n",
              "    }\n",
              "\n",
              "    .dataframe tbody tr th {\n",
              "        vertical-align: top;\n",
              "    }\n",
              "\n",
              "    .dataframe thead th {\n",
              "        text-align: right;\n",
              "    }\n",
              "</style>\n",
              "<table border=\"1\" class=\"dataframe\">\n",
              "  <thead>\n",
              "    <tr style=\"text-align: right;\">\n",
              "      <th></th>\n",
              "      <th>erythema</th>\n",
              "      <th>scaling</th>\n",
              "      <th>definite_borders</th>\n",
              "      <th>itching</th>\n",
              "      <th>koebner_phenomenon</th>\n",
              "      <th>polygonal_papules</th>\n",
              "      <th>follicular_papules</th>\n",
              "      <th>oral_mucosal_involvement</th>\n",
              "      <th>knee_and_elbow_involvement</th>\n",
              "      <th>scalp_involvement</th>\n",
              "      <th>...</th>\n",
              "      <th>disappearance_granular_layer</th>\n",
              "      <th>vacuolisation_damage_basal_layer</th>\n",
              "      <th>spongiosis</th>\n",
              "      <th>saw_tooth_appearance_retes</th>\n",
              "      <th>follicular_horn_plug</th>\n",
              "      <th>perifollicular_parakeratosis</th>\n",
              "      <th>inflammatory_mononuclear_infiltrate</th>\n",
              "      <th>band_like_infiltrate</th>\n",
              "      <th>age</th>\n",
              "      <th>class</th>\n",
              "    </tr>\n",
              "  </thead>\n",
              "  <tbody>\n",
              "    <tr>\n",
              "      <th>0</th>\n",
              "      <td>2</td>\n",
              "      <td>2</td>\n",
              "      <td>0</td>\n",
              "      <td>3</td>\n",
              "      <td>0</td>\n",
              "      <td>0</td>\n",
              "      <td>0</td>\n",
              "      <td>0</td>\n",
              "      <td>1</td>\n",
              "      <td>0</td>\n",
              "      <td>...</td>\n",
              "      <td>0</td>\n",
              "      <td>0</td>\n",
              "      <td>3</td>\n",
              "      <td>0</td>\n",
              "      <td>0</td>\n",
              "      <td>0</td>\n",
              "      <td>1</td>\n",
              "      <td>0</td>\n",
              "      <td>55</td>\n",
              "      <td>2</td>\n",
              "    </tr>\n",
              "    <tr>\n",
              "      <th>1</th>\n",
              "      <td>3</td>\n",
              "      <td>3</td>\n",
              "      <td>3</td>\n",
              "      <td>2</td>\n",
              "      <td>1</td>\n",
              "      <td>0</td>\n",
              "      <td>0</td>\n",
              "      <td>0</td>\n",
              "      <td>1</td>\n",
              "      <td>1</td>\n",
              "      <td>...</td>\n",
              "      <td>0</td>\n",
              "      <td>0</td>\n",
              "      <td>0</td>\n",
              "      <td>0</td>\n",
              "      <td>0</td>\n",
              "      <td>0</td>\n",
              "      <td>1</td>\n",
              "      <td>0</td>\n",
              "      <td>8</td>\n",
              "      <td>1</td>\n",
              "    </tr>\n",
              "    <tr>\n",
              "      <th>2</th>\n",
              "      <td>2</td>\n",
              "      <td>1</td>\n",
              "      <td>2</td>\n",
              "      <td>3</td>\n",
              "      <td>1</td>\n",
              "      <td>3</td>\n",
              "      <td>0</td>\n",
              "      <td>3</td>\n",
              "      <td>0</td>\n",
              "      <td>0</td>\n",
              "      <td>...</td>\n",
              "      <td>0</td>\n",
              "      <td>2</td>\n",
              "      <td>3</td>\n",
              "      <td>2</td>\n",
              "      <td>0</td>\n",
              "      <td>0</td>\n",
              "      <td>2</td>\n",
              "      <td>3</td>\n",
              "      <td>26</td>\n",
              "      <td>3</td>\n",
              "    </tr>\n",
              "    <tr>\n",
              "      <th>3</th>\n",
              "      <td>2</td>\n",
              "      <td>2</td>\n",
              "      <td>2</td>\n",
              "      <td>0</td>\n",
              "      <td>0</td>\n",
              "      <td>0</td>\n",
              "      <td>0</td>\n",
              "      <td>0</td>\n",
              "      <td>3</td>\n",
              "      <td>2</td>\n",
              "      <td>...</td>\n",
              "      <td>3</td>\n",
              "      <td>0</td>\n",
              "      <td>0</td>\n",
              "      <td>0</td>\n",
              "      <td>0</td>\n",
              "      <td>0</td>\n",
              "      <td>3</td>\n",
              "      <td>0</td>\n",
              "      <td>40</td>\n",
              "      <td>1</td>\n",
              "    </tr>\n",
              "    <tr>\n",
              "      <th>4</th>\n",
              "      <td>2</td>\n",
              "      <td>3</td>\n",
              "      <td>2</td>\n",
              "      <td>2</td>\n",
              "      <td>2</td>\n",
              "      <td>2</td>\n",
              "      <td>0</td>\n",
              "      <td>2</td>\n",
              "      <td>0</td>\n",
              "      <td>0</td>\n",
              "      <td>...</td>\n",
              "      <td>2</td>\n",
              "      <td>3</td>\n",
              "      <td>2</td>\n",
              "      <td>3</td>\n",
              "      <td>0</td>\n",
              "      <td>0</td>\n",
              "      <td>2</td>\n",
              "      <td>3</td>\n",
              "      <td>45</td>\n",
              "      <td>3</td>\n",
              "    </tr>\n",
              "    <tr>\n",
              "      <th>5</th>\n",
              "      <td>2</td>\n",
              "      <td>3</td>\n",
              "      <td>2</td>\n",
              "      <td>0</td>\n",
              "      <td>0</td>\n",
              "      <td>0</td>\n",
              "      <td>0</td>\n",
              "      <td>0</td>\n",
              "      <td>0</td>\n",
              "      <td>0</td>\n",
              "      <td>...</td>\n",
              "      <td>0</td>\n",
              "      <td>0</td>\n",
              "      <td>2</td>\n",
              "      <td>0</td>\n",
              "      <td>0</td>\n",
              "      <td>0</td>\n",
              "      <td>1</td>\n",
              "      <td>0</td>\n",
              "      <td>41</td>\n",
              "      <td>2</td>\n",
              "    </tr>\n",
              "    <tr>\n",
              "      <th>6</th>\n",
              "      <td>2</td>\n",
              "      <td>1</td>\n",
              "      <td>0</td>\n",
              "      <td>2</td>\n",
              "      <td>0</td>\n",
              "      <td>0</td>\n",
              "      <td>0</td>\n",
              "      <td>0</td>\n",
              "      <td>0</td>\n",
              "      <td>0</td>\n",
              "      <td>...</td>\n",
              "      <td>0</td>\n",
              "      <td>0</td>\n",
              "      <td>0</td>\n",
              "      <td>0</td>\n",
              "      <td>0</td>\n",
              "      <td>0</td>\n",
              "      <td>2</td>\n",
              "      <td>0</td>\n",
              "      <td>18</td>\n",
              "      <td>5</td>\n",
              "    </tr>\n",
              "    <tr>\n",
              "      <th>7</th>\n",
              "      <td>2</td>\n",
              "      <td>2</td>\n",
              "      <td>3</td>\n",
              "      <td>3</td>\n",
              "      <td>3</td>\n",
              "      <td>3</td>\n",
              "      <td>0</td>\n",
              "      <td>2</td>\n",
              "      <td>0</td>\n",
              "      <td>0</td>\n",
              "      <td>...</td>\n",
              "      <td>2</td>\n",
              "      <td>2</td>\n",
              "      <td>3</td>\n",
              "      <td>2</td>\n",
              "      <td>0</td>\n",
              "      <td>0</td>\n",
              "      <td>3</td>\n",
              "      <td>3</td>\n",
              "      <td>57</td>\n",
              "      <td>3</td>\n",
              "    </tr>\n",
              "    <tr>\n",
              "      <th>8</th>\n",
              "      <td>2</td>\n",
              "      <td>2</td>\n",
              "      <td>1</td>\n",
              "      <td>0</td>\n",
              "      <td>2</td>\n",
              "      <td>0</td>\n",
              "      <td>0</td>\n",
              "      <td>0</td>\n",
              "      <td>0</td>\n",
              "      <td>0</td>\n",
              "      <td>...</td>\n",
              "      <td>0</td>\n",
              "      <td>0</td>\n",
              "      <td>2</td>\n",
              "      <td>0</td>\n",
              "      <td>0</td>\n",
              "      <td>0</td>\n",
              "      <td>2</td>\n",
              "      <td>0</td>\n",
              "      <td>22</td>\n",
              "      <td>4</td>\n",
              "    </tr>\n",
              "    <tr>\n",
              "      <th>9</th>\n",
              "      <td>2</td>\n",
              "      <td>2</td>\n",
              "      <td>1</td>\n",
              "      <td>0</td>\n",
              "      <td>1</td>\n",
              "      <td>0</td>\n",
              "      <td>0</td>\n",
              "      <td>0</td>\n",
              "      <td>0</td>\n",
              "      <td>0</td>\n",
              "      <td>...</td>\n",
              "      <td>0</td>\n",
              "      <td>0</td>\n",
              "      <td>2</td>\n",
              "      <td>0</td>\n",
              "      <td>0</td>\n",
              "      <td>0</td>\n",
              "      <td>2</td>\n",
              "      <td>0</td>\n",
              "      <td>30</td>\n",
              "      <td>4</td>\n",
              "    </tr>\n",
              "  </tbody>\n",
              "</table>\n",
              "<p>10 rows × 35 columns</p>\n",
              "</div>\n",
              "    <div class=\"colab-df-buttons\">\n",
              "\n",
              "  <div class=\"colab-df-container\">\n",
              "    <button class=\"colab-df-convert\" onclick=\"convertToInteractive('df-f8fd396e-38e1-4b18-b46c-0de923d390a6')\"\n",
              "            title=\"Convert this dataframe to an interactive table.\"\n",
              "            style=\"display:none;\">\n",
              "\n",
              "  <svg xmlns=\"http://www.w3.org/2000/svg\" height=\"24px\" viewBox=\"0 -960 960 960\">\n",
              "    <path d=\"M120-120v-720h720v720H120Zm60-500h600v-160H180v160Zm220 220h160v-160H400v160Zm0 220h160v-160H400v160ZM180-400h160v-160H180v160Zm440 0h160v-160H620v160ZM180-180h160v-160H180v160Zm440 0h160v-160H620v160Z\"/>\n",
              "  </svg>\n",
              "    </button>\n",
              "\n",
              "  <style>\n",
              "    .colab-df-container {\n",
              "      display:flex;\n",
              "      gap: 12px;\n",
              "    }\n",
              "\n",
              "    .colab-df-convert {\n",
              "      background-color: #E8F0FE;\n",
              "      border: none;\n",
              "      border-radius: 50%;\n",
              "      cursor: pointer;\n",
              "      display: none;\n",
              "      fill: #1967D2;\n",
              "      height: 32px;\n",
              "      padding: 0 0 0 0;\n",
              "      width: 32px;\n",
              "    }\n",
              "\n",
              "    .colab-df-convert:hover {\n",
              "      background-color: #E2EBFA;\n",
              "      box-shadow: 0px 1px 2px rgba(60, 64, 67, 0.3), 0px 1px 3px 1px rgba(60, 64, 67, 0.15);\n",
              "      fill: #174EA6;\n",
              "    }\n",
              "\n",
              "    .colab-df-buttons div {\n",
              "      margin-bottom: 4px;\n",
              "    }\n",
              "\n",
              "    [theme=dark] .colab-df-convert {\n",
              "      background-color: #3B4455;\n",
              "      fill: #D2E3FC;\n",
              "    }\n",
              "\n",
              "    [theme=dark] .colab-df-convert:hover {\n",
              "      background-color: #434B5C;\n",
              "      box-shadow: 0px 1px 3px 1px rgba(0, 0, 0, 0.15);\n",
              "      filter: drop-shadow(0px 1px 2px rgba(0, 0, 0, 0.3));\n",
              "      fill: #FFFFFF;\n",
              "    }\n",
              "  </style>\n",
              "\n",
              "    <script>\n",
              "      const buttonEl =\n",
              "        document.querySelector('#df-f8fd396e-38e1-4b18-b46c-0de923d390a6 button.colab-df-convert');\n",
              "      buttonEl.style.display =\n",
              "        google.colab.kernel.accessAllowed ? 'block' : 'none';\n",
              "\n",
              "      async function convertToInteractive(key) {\n",
              "        const element = document.querySelector('#df-f8fd396e-38e1-4b18-b46c-0de923d390a6');\n",
              "        const dataTable =\n",
              "          await google.colab.kernel.invokeFunction('convertToInteractive',\n",
              "                                                    [key], {});\n",
              "        if (!dataTable) return;\n",
              "\n",
              "        const docLinkHtml = 'Like what you see? Visit the ' +\n",
              "          '<a target=\"_blank\" href=https://colab.research.google.com/notebooks/data_table.ipynb>data table notebook</a>'\n",
              "          + ' to learn more about interactive tables.';\n",
              "        element.innerHTML = '';\n",
              "        dataTable['output_type'] = 'display_data';\n",
              "        await google.colab.output.renderOutput(dataTable, element);\n",
              "        const docLink = document.createElement('div');\n",
              "        docLink.innerHTML = docLinkHtml;\n",
              "        element.appendChild(docLink);\n",
              "      }\n",
              "    </script>\n",
              "  </div>\n",
              "\n",
              "\n",
              "<div id=\"df-1666aaba-9e9d-41ed-a862-2b81d9dad213\">\n",
              "  <button class=\"colab-df-quickchart\" onclick=\"quickchart('df-1666aaba-9e9d-41ed-a862-2b81d9dad213')\"\n",
              "            title=\"Suggest charts.\"\n",
              "            style=\"display:none;\">\n",
              "\n",
              "<svg xmlns=\"http://www.w3.org/2000/svg\" height=\"24px\"viewBox=\"0 0 24 24\"\n",
              "     width=\"24px\">\n",
              "    <g>\n",
              "        <path d=\"M19 3H5c-1.1 0-2 .9-2 2v14c0 1.1.9 2 2 2h14c1.1 0 2-.9 2-2V5c0-1.1-.9-2-2-2zM9 17H7v-7h2v7zm4 0h-2V7h2v10zm4 0h-2v-4h2v4z\"/>\n",
              "    </g>\n",
              "</svg>\n",
              "  </button>\n",
              "\n",
              "<style>\n",
              "  .colab-df-quickchart {\n",
              "      --bg-color: #E8F0FE;\n",
              "      --fill-color: #1967D2;\n",
              "      --hover-bg-color: #E2EBFA;\n",
              "      --hover-fill-color: #174EA6;\n",
              "      --disabled-fill-color: #AAA;\n",
              "      --disabled-bg-color: #DDD;\n",
              "  }\n",
              "\n",
              "  [theme=dark] .colab-df-quickchart {\n",
              "      --bg-color: #3B4455;\n",
              "      --fill-color: #D2E3FC;\n",
              "      --hover-bg-color: #434B5C;\n",
              "      --hover-fill-color: #FFFFFF;\n",
              "      --disabled-bg-color: #3B4455;\n",
              "      --disabled-fill-color: #666;\n",
              "  }\n",
              "\n",
              "  .colab-df-quickchart {\n",
              "    background-color: var(--bg-color);\n",
              "    border: none;\n",
              "    border-radius: 50%;\n",
              "    cursor: pointer;\n",
              "    display: none;\n",
              "    fill: var(--fill-color);\n",
              "    height: 32px;\n",
              "    padding: 0;\n",
              "    width: 32px;\n",
              "  }\n",
              "\n",
              "  .colab-df-quickchart:hover {\n",
              "    background-color: var(--hover-bg-color);\n",
              "    box-shadow: 0 1px 2px rgba(60, 64, 67, 0.3), 0 1px 3px 1px rgba(60, 64, 67, 0.15);\n",
              "    fill: var(--button-hover-fill-color);\n",
              "  }\n",
              "\n",
              "  .colab-df-quickchart-complete:disabled,\n",
              "  .colab-df-quickchart-complete:disabled:hover {\n",
              "    background-color: var(--disabled-bg-color);\n",
              "    fill: var(--disabled-fill-color);\n",
              "    box-shadow: none;\n",
              "  }\n",
              "\n",
              "  .colab-df-spinner {\n",
              "    border: 2px solid var(--fill-color);\n",
              "    border-color: transparent;\n",
              "    border-bottom-color: var(--fill-color);\n",
              "    animation:\n",
              "      spin 1s steps(1) infinite;\n",
              "  }\n",
              "\n",
              "  @keyframes spin {\n",
              "    0% {\n",
              "      border-color: transparent;\n",
              "      border-bottom-color: var(--fill-color);\n",
              "      border-left-color: var(--fill-color);\n",
              "    }\n",
              "    20% {\n",
              "      border-color: transparent;\n",
              "      border-left-color: var(--fill-color);\n",
              "      border-top-color: var(--fill-color);\n",
              "    }\n",
              "    30% {\n",
              "      border-color: transparent;\n",
              "      border-left-color: var(--fill-color);\n",
              "      border-top-color: var(--fill-color);\n",
              "      border-right-color: var(--fill-color);\n",
              "    }\n",
              "    40% {\n",
              "      border-color: transparent;\n",
              "      border-right-color: var(--fill-color);\n",
              "      border-top-color: var(--fill-color);\n",
              "    }\n",
              "    60% {\n",
              "      border-color: transparent;\n",
              "      border-right-color: var(--fill-color);\n",
              "    }\n",
              "    80% {\n",
              "      border-color: transparent;\n",
              "      border-right-color: var(--fill-color);\n",
              "      border-bottom-color: var(--fill-color);\n",
              "    }\n",
              "    90% {\n",
              "      border-color: transparent;\n",
              "      border-bottom-color: var(--fill-color);\n",
              "    }\n",
              "  }\n",
              "</style>\n",
              "\n",
              "  <script>\n",
              "    async function quickchart(key) {\n",
              "      const quickchartButtonEl =\n",
              "        document.querySelector('#' + key + ' button');\n",
              "      quickchartButtonEl.disabled = true;  // To prevent multiple clicks.\n",
              "      quickchartButtonEl.classList.add('colab-df-spinner');\n",
              "      try {\n",
              "        const charts = await google.colab.kernel.invokeFunction(\n",
              "            'suggestCharts', [key], {});\n",
              "      } catch (error) {\n",
              "        console.error('Error during call to suggestCharts:', error);\n",
              "      }\n",
              "      quickchartButtonEl.classList.remove('colab-df-spinner');\n",
              "      quickchartButtonEl.classList.add('colab-df-quickchart-complete');\n",
              "    }\n",
              "    (() => {\n",
              "      let quickchartButtonEl =\n",
              "        document.querySelector('#df-1666aaba-9e9d-41ed-a862-2b81d9dad213 button');\n",
              "      quickchartButtonEl.style.display =\n",
              "        google.colab.kernel.accessAllowed ? 'block' : 'none';\n",
              "    })();\n",
              "  </script>\n",
              "</div>\n",
              "    </div>\n",
              "  </div>\n"
            ],
            "text/plain": [
              "   erythema  scaling  definite_borders  itching  koebner_phenomenon  \\\n",
              "0         2        2                 0        3                   0   \n",
              "1         3        3                 3        2                   1   \n",
              "2         2        1                 2        3                   1   \n",
              "3         2        2                 2        0                   0   \n",
              "4         2        3                 2        2                   2   \n",
              "5         2        3                 2        0                   0   \n",
              "6         2        1                 0        2                   0   \n",
              "7         2        2                 3        3                   3   \n",
              "8         2        2                 1        0                   2   \n",
              "9         2        2                 1        0                   1   \n",
              "\n",
              "   polygonal_papules  follicular_papules  oral_mucosal_involvement  \\\n",
              "0                  0                   0                         0   \n",
              "1                  0                   0                         0   \n",
              "2                  3                   0                         3   \n",
              "3                  0                   0                         0   \n",
              "4                  2                   0                         2   \n",
              "5                  0                   0                         0   \n",
              "6                  0                   0                         0   \n",
              "7                  3                   0                         2   \n",
              "8                  0                   0                         0   \n",
              "9                  0                   0                         0   \n",
              "\n",
              "   knee_and_elbow_involvement  scalp_involvement  ...  \\\n",
              "0                           1                  0  ...   \n",
              "1                           1                  1  ...   \n",
              "2                           0                  0  ...   \n",
              "3                           3                  2  ...   \n",
              "4                           0                  0  ...   \n",
              "5                           0                  0  ...   \n",
              "6                           0                  0  ...   \n",
              "7                           0                  0  ...   \n",
              "8                           0                  0  ...   \n",
              "9                           0                  0  ...   \n",
              "\n",
              "   disappearance_granular_layer  vacuolisation_damage_basal_layer  spongiosis  \\\n",
              "0                             0                                 0           3   \n",
              "1                             0                                 0           0   \n",
              "2                             0                                 2           3   \n",
              "3                             3                                 0           0   \n",
              "4                             2                                 3           2   \n",
              "5                             0                                 0           2   \n",
              "6                             0                                 0           0   \n",
              "7                             2                                 2           3   \n",
              "8                             0                                 0           2   \n",
              "9                             0                                 0           2   \n",
              "\n",
              "   saw_tooth_appearance_retes  follicular_horn_plug  \\\n",
              "0                           0                     0   \n",
              "1                           0                     0   \n",
              "2                           2                     0   \n",
              "3                           0                     0   \n",
              "4                           3                     0   \n",
              "5                           0                     0   \n",
              "6                           0                     0   \n",
              "7                           2                     0   \n",
              "8                           0                     0   \n",
              "9                           0                     0   \n",
              "\n",
              "   perifollicular_parakeratosis  inflammatory_mononuclear_infiltrate  \\\n",
              "0                             0                                    1   \n",
              "1                             0                                    1   \n",
              "2                             0                                    2   \n",
              "3                             0                                    3   \n",
              "4                             0                                    2   \n",
              "5                             0                                    1   \n",
              "6                             0                                    2   \n",
              "7                             0                                    3   \n",
              "8                             0                                    2   \n",
              "9                             0                                    2   \n",
              "\n",
              "   band_like_infiltrate  age  class  \n",
              "0                     0   55      2  \n",
              "1                     0    8      1  \n",
              "2                     3   26      3  \n",
              "3                     0   40      1  \n",
              "4                     3   45      3  \n",
              "5                     0   41      2  \n",
              "6                     0   18      5  \n",
              "7                     3   57      3  \n",
              "8                     0   22      4  \n",
              "9                     0   30      4  \n",
              "\n",
              "[10 rows x 35 columns]"
            ]
          },
          "execution_count": 4,
          "metadata": {},
          "output_type": "execute_result"
        }
      ],
      "source": [
        "dataset.head(10)"
      ]
    },
    {
      "cell_type": "code",
      "execution_count": null,
      "metadata": {
        "colab": {
          "base_uri": "https://localhost:8080/",
          "height": 224
        },
        "id": "ui2o12IPFxYD",
        "outputId": "6b8d9d0d-dc2f-4aaf-c64d-4555d48416ce"
      },
      "outputs": [
        {
          "data": {
            "text/html": [
              "\n",
              "  <div id=\"df-c87d4040-43f5-4f3a-a711-b4b1fc05dc5d\" class=\"colab-df-container\">\n",
              "    <div>\n",
              "<style scoped>\n",
              "    .dataframe tbody tr th:only-of-type {\n",
              "        vertical-align: middle;\n",
              "    }\n",
              "\n",
              "    .dataframe tbody tr th {\n",
              "        vertical-align: top;\n",
              "    }\n",
              "\n",
              "    .dataframe thead th {\n",
              "        text-align: right;\n",
              "    }\n",
              "</style>\n",
              "<table border=\"1\" class=\"dataframe\">\n",
              "  <thead>\n",
              "    <tr style=\"text-align: right;\">\n",
              "      <th></th>\n",
              "      <th>erythema</th>\n",
              "      <th>scaling</th>\n",
              "      <th>definite_borders</th>\n",
              "      <th>itching</th>\n",
              "      <th>koebner_phenomenon</th>\n",
              "      <th>polygonal_papules</th>\n",
              "      <th>follicular_papules</th>\n",
              "      <th>oral_mucosal_involvement</th>\n",
              "      <th>knee_and_elbow_involvement</th>\n",
              "      <th>scalp_involvement</th>\n",
              "      <th>...</th>\n",
              "      <th>disappearance_granular_layer</th>\n",
              "      <th>vacuolisation_damage_basal_layer</th>\n",
              "      <th>spongiosis</th>\n",
              "      <th>saw_tooth_appearance_retes</th>\n",
              "      <th>follicular_horn_plug</th>\n",
              "      <th>perifollicular_parakeratosis</th>\n",
              "      <th>inflammatory_mononuclear_infiltrate</th>\n",
              "      <th>band_like_infiltrate</th>\n",
              "      <th>age</th>\n",
              "      <th>class</th>\n",
              "    </tr>\n",
              "  </thead>\n",
              "  <tbody>\n",
              "    <tr>\n",
              "      <th>33</th>\n",
              "      <td>2</td>\n",
              "      <td>2</td>\n",
              "      <td>1</td>\n",
              "      <td>0</td>\n",
              "      <td>0</td>\n",
              "      <td>0</td>\n",
              "      <td>0</td>\n",
              "      <td>0</td>\n",
              "      <td>1</td>\n",
              "      <td>0</td>\n",
              "      <td>...</td>\n",
              "      <td>0</td>\n",
              "      <td>0</td>\n",
              "      <td>0</td>\n",
              "      <td>0</td>\n",
              "      <td>0</td>\n",
              "      <td>0</td>\n",
              "      <td>0</td>\n",
              "      <td>0</td>\n",
              "      <td>?</td>\n",
              "      <td>1</td>\n",
              "    </tr>\n",
              "    <tr>\n",
              "      <th>34</th>\n",
              "      <td>2</td>\n",
              "      <td>1</td>\n",
              "      <td>0</td>\n",
              "      <td>0</td>\n",
              "      <td>2</td>\n",
              "      <td>0</td>\n",
              "      <td>0</td>\n",
              "      <td>0</td>\n",
              "      <td>0</td>\n",
              "      <td>0</td>\n",
              "      <td>...</td>\n",
              "      <td>0</td>\n",
              "      <td>0</td>\n",
              "      <td>0</td>\n",
              "      <td>0</td>\n",
              "      <td>0</td>\n",
              "      <td>0</td>\n",
              "      <td>0</td>\n",
              "      <td>0</td>\n",
              "      <td>?</td>\n",
              "      <td>4</td>\n",
              "    </tr>\n",
              "    <tr>\n",
              "      <th>35</th>\n",
              "      <td>2</td>\n",
              "      <td>2</td>\n",
              "      <td>1</td>\n",
              "      <td>2</td>\n",
              "      <td>0</td>\n",
              "      <td>0</td>\n",
              "      <td>0</td>\n",
              "      <td>0</td>\n",
              "      <td>0</td>\n",
              "      <td>0</td>\n",
              "      <td>...</td>\n",
              "      <td>0</td>\n",
              "      <td>0</td>\n",
              "      <td>0</td>\n",
              "      <td>0</td>\n",
              "      <td>0</td>\n",
              "      <td>0</td>\n",
              "      <td>0</td>\n",
              "      <td>0</td>\n",
              "      <td>?</td>\n",
              "      <td>2</td>\n",
              "    </tr>\n",
              "    <tr>\n",
              "      <th>36</th>\n",
              "      <td>2</td>\n",
              "      <td>1</td>\n",
              "      <td>2</td>\n",
              "      <td>3</td>\n",
              "      <td>2</td>\n",
              "      <td>3</td>\n",
              "      <td>0</td>\n",
              "      <td>2</td>\n",
              "      <td>0</td>\n",
              "      <td>0</td>\n",
              "      <td>...</td>\n",
              "      <td>0</td>\n",
              "      <td>2</td>\n",
              "      <td>0</td>\n",
              "      <td>2</td>\n",
              "      <td>0</td>\n",
              "      <td>0</td>\n",
              "      <td>0</td>\n",
              "      <td>3</td>\n",
              "      <td>?</td>\n",
              "      <td>3</td>\n",
              "    </tr>\n",
              "  </tbody>\n",
              "</table>\n",
              "<p>4 rows × 35 columns</p>\n",
              "</div>\n",
              "    <div class=\"colab-df-buttons\">\n",
              "\n",
              "  <div class=\"colab-df-container\">\n",
              "    <button class=\"colab-df-convert\" onclick=\"convertToInteractive('df-c87d4040-43f5-4f3a-a711-b4b1fc05dc5d')\"\n",
              "            title=\"Convert this dataframe to an interactive table.\"\n",
              "            style=\"display:none;\">\n",
              "\n",
              "  <svg xmlns=\"http://www.w3.org/2000/svg\" height=\"24px\" viewBox=\"0 -960 960 960\">\n",
              "    <path d=\"M120-120v-720h720v720H120Zm60-500h600v-160H180v160Zm220 220h160v-160H400v160Zm0 220h160v-160H400v160ZM180-400h160v-160H180v160Zm440 0h160v-160H620v160ZM180-180h160v-160H180v160Zm440 0h160v-160H620v160Z\"/>\n",
              "  </svg>\n",
              "    </button>\n",
              "\n",
              "  <style>\n",
              "    .colab-df-container {\n",
              "      display:flex;\n",
              "      gap: 12px;\n",
              "    }\n",
              "\n",
              "    .colab-df-convert {\n",
              "      background-color: #E8F0FE;\n",
              "      border: none;\n",
              "      border-radius: 50%;\n",
              "      cursor: pointer;\n",
              "      display: none;\n",
              "      fill: #1967D2;\n",
              "      height: 32px;\n",
              "      padding: 0 0 0 0;\n",
              "      width: 32px;\n",
              "    }\n",
              "\n",
              "    .colab-df-convert:hover {\n",
              "      background-color: #E2EBFA;\n",
              "      box-shadow: 0px 1px 2px rgba(60, 64, 67, 0.3), 0px 1px 3px 1px rgba(60, 64, 67, 0.15);\n",
              "      fill: #174EA6;\n",
              "    }\n",
              "\n",
              "    .colab-df-buttons div {\n",
              "      margin-bottom: 4px;\n",
              "    }\n",
              "\n",
              "    [theme=dark] .colab-df-convert {\n",
              "      background-color: #3B4455;\n",
              "      fill: #D2E3FC;\n",
              "    }\n",
              "\n",
              "    [theme=dark] .colab-df-convert:hover {\n",
              "      background-color: #434B5C;\n",
              "      box-shadow: 0px 1px 3px 1px rgba(0, 0, 0, 0.15);\n",
              "      filter: drop-shadow(0px 1px 2px rgba(0, 0, 0, 0.3));\n",
              "      fill: #FFFFFF;\n",
              "    }\n",
              "  </style>\n",
              "\n",
              "    <script>\n",
              "      const buttonEl =\n",
              "        document.querySelector('#df-c87d4040-43f5-4f3a-a711-b4b1fc05dc5d button.colab-df-convert');\n",
              "      buttonEl.style.display =\n",
              "        google.colab.kernel.accessAllowed ? 'block' : 'none';\n",
              "\n",
              "      async function convertToInteractive(key) {\n",
              "        const element = document.querySelector('#df-c87d4040-43f5-4f3a-a711-b4b1fc05dc5d');\n",
              "        const dataTable =\n",
              "          await google.colab.kernel.invokeFunction('convertToInteractive',\n",
              "                                                    [key], {});\n",
              "        if (!dataTable) return;\n",
              "\n",
              "        const docLinkHtml = 'Like what you see? Visit the ' +\n",
              "          '<a target=\"_blank\" href=https://colab.research.google.com/notebooks/data_table.ipynb>data table notebook</a>'\n",
              "          + ' to learn more about interactive tables.';\n",
              "        element.innerHTML = '';\n",
              "        dataTable['output_type'] = 'display_data';\n",
              "        await google.colab.output.renderOutput(dataTable, element);\n",
              "        const docLink = document.createElement('div');\n",
              "        docLink.innerHTML = docLinkHtml;\n",
              "        element.appendChild(docLink);\n",
              "      }\n",
              "    </script>\n",
              "  </div>\n",
              "\n",
              "\n",
              "<div id=\"df-5dc285c4-102b-4704-9dc5-3fa65eabddc1\">\n",
              "  <button class=\"colab-df-quickchart\" onclick=\"quickchart('df-5dc285c4-102b-4704-9dc5-3fa65eabddc1')\"\n",
              "            title=\"Suggest charts.\"\n",
              "            style=\"display:none;\">\n",
              "\n",
              "<svg xmlns=\"http://www.w3.org/2000/svg\" height=\"24px\"viewBox=\"0 0 24 24\"\n",
              "     width=\"24px\">\n",
              "    <g>\n",
              "        <path d=\"M19 3H5c-1.1 0-2 .9-2 2v14c0 1.1.9 2 2 2h14c1.1 0 2-.9 2-2V5c0-1.1-.9-2-2-2zM9 17H7v-7h2v7zm4 0h-2V7h2v10zm4 0h-2v-4h2v4z\"/>\n",
              "    </g>\n",
              "</svg>\n",
              "  </button>\n",
              "\n",
              "<style>\n",
              "  .colab-df-quickchart {\n",
              "      --bg-color: #E8F0FE;\n",
              "      --fill-color: #1967D2;\n",
              "      --hover-bg-color: #E2EBFA;\n",
              "      --hover-fill-color: #174EA6;\n",
              "      --disabled-fill-color: #AAA;\n",
              "      --disabled-bg-color: #DDD;\n",
              "  }\n",
              "\n",
              "  [theme=dark] .colab-df-quickchart {\n",
              "      --bg-color: #3B4455;\n",
              "      --fill-color: #D2E3FC;\n",
              "      --hover-bg-color: #434B5C;\n",
              "      --hover-fill-color: #FFFFFF;\n",
              "      --disabled-bg-color: #3B4455;\n",
              "      --disabled-fill-color: #666;\n",
              "  }\n",
              "\n",
              "  .colab-df-quickchart {\n",
              "    background-color: var(--bg-color);\n",
              "    border: none;\n",
              "    border-radius: 50%;\n",
              "    cursor: pointer;\n",
              "    display: none;\n",
              "    fill: var(--fill-color);\n",
              "    height: 32px;\n",
              "    padding: 0;\n",
              "    width: 32px;\n",
              "  }\n",
              "\n",
              "  .colab-df-quickchart:hover {\n",
              "    background-color: var(--hover-bg-color);\n",
              "    box-shadow: 0 1px 2px rgba(60, 64, 67, 0.3), 0 1px 3px 1px rgba(60, 64, 67, 0.15);\n",
              "    fill: var(--button-hover-fill-color);\n",
              "  }\n",
              "\n",
              "  .colab-df-quickchart-complete:disabled,\n",
              "  .colab-df-quickchart-complete:disabled:hover {\n",
              "    background-color: var(--disabled-bg-color);\n",
              "    fill: var(--disabled-fill-color);\n",
              "    box-shadow: none;\n",
              "  }\n",
              "\n",
              "  .colab-df-spinner {\n",
              "    border: 2px solid var(--fill-color);\n",
              "    border-color: transparent;\n",
              "    border-bottom-color: var(--fill-color);\n",
              "    animation:\n",
              "      spin 1s steps(1) infinite;\n",
              "  }\n",
              "\n",
              "  @keyframes spin {\n",
              "    0% {\n",
              "      border-color: transparent;\n",
              "      border-bottom-color: var(--fill-color);\n",
              "      border-left-color: var(--fill-color);\n",
              "    }\n",
              "    20% {\n",
              "      border-color: transparent;\n",
              "      border-left-color: var(--fill-color);\n",
              "      border-top-color: var(--fill-color);\n",
              "    }\n",
              "    30% {\n",
              "      border-color: transparent;\n",
              "      border-left-color: var(--fill-color);\n",
              "      border-top-color: var(--fill-color);\n",
              "      border-right-color: var(--fill-color);\n",
              "    }\n",
              "    40% {\n",
              "      border-color: transparent;\n",
              "      border-right-color: var(--fill-color);\n",
              "      border-top-color: var(--fill-color);\n",
              "    }\n",
              "    60% {\n",
              "      border-color: transparent;\n",
              "      border-right-color: var(--fill-color);\n",
              "    }\n",
              "    80% {\n",
              "      border-color: transparent;\n",
              "      border-right-color: var(--fill-color);\n",
              "      border-bottom-color: var(--fill-color);\n",
              "    }\n",
              "    90% {\n",
              "      border-color: transparent;\n",
              "      border-bottom-color: var(--fill-color);\n",
              "    }\n",
              "  }\n",
              "</style>\n",
              "\n",
              "  <script>\n",
              "    async function quickchart(key) {\n",
              "      const quickchartButtonEl =\n",
              "        document.querySelector('#' + key + ' button');\n",
              "      quickchartButtonEl.disabled = true;  // To prevent multiple clicks.\n",
              "      quickchartButtonEl.classList.add('colab-df-spinner');\n",
              "      try {\n",
              "        const charts = await google.colab.kernel.invokeFunction(\n",
              "            'suggestCharts', [key], {});\n",
              "      } catch (error) {\n",
              "        console.error('Error during call to suggestCharts:', error);\n",
              "      }\n",
              "      quickchartButtonEl.classList.remove('colab-df-spinner');\n",
              "      quickchartButtonEl.classList.add('colab-df-quickchart-complete');\n",
              "    }\n",
              "    (() => {\n",
              "      let quickchartButtonEl =\n",
              "        document.querySelector('#df-5dc285c4-102b-4704-9dc5-3fa65eabddc1 button');\n",
              "      quickchartButtonEl.style.display =\n",
              "        google.colab.kernel.accessAllowed ? 'block' : 'none';\n",
              "    })();\n",
              "  </script>\n",
              "</div>\n",
              "    </div>\n",
              "  </div>\n"
            ],
            "text/plain": [
              "    erythema  scaling  definite_borders  itching  koebner_phenomenon  \\\n",
              "33         2        2                 1        0                   0   \n",
              "34         2        1                 0        0                   2   \n",
              "35         2        2                 1        2                   0   \n",
              "36         2        1                 2        3                   2   \n",
              "\n",
              "    polygonal_papules  follicular_papules  oral_mucosal_involvement  \\\n",
              "33                  0                   0                         0   \n",
              "34                  0                   0                         0   \n",
              "35                  0                   0                         0   \n",
              "36                  3                   0                         2   \n",
              "\n",
              "    knee_and_elbow_involvement  scalp_involvement  ...  \\\n",
              "33                           1                  0  ...   \n",
              "34                           0                  0  ...   \n",
              "35                           0                  0  ...   \n",
              "36                           0                  0  ...   \n",
              "\n",
              "    disappearance_granular_layer  vacuolisation_damage_basal_layer  \\\n",
              "33                             0                                 0   \n",
              "34                             0                                 0   \n",
              "35                             0                                 0   \n",
              "36                             0                                 2   \n",
              "\n",
              "    spongiosis  saw_tooth_appearance_retes  follicular_horn_plug  \\\n",
              "33           0                           0                     0   \n",
              "34           0                           0                     0   \n",
              "35           0                           0                     0   \n",
              "36           0                           2                     0   \n",
              "\n",
              "    perifollicular_parakeratosis  inflammatory_mononuclear_infiltrate  \\\n",
              "33                             0                                    0   \n",
              "34                             0                                    0   \n",
              "35                             0                                    0   \n",
              "36                             0                                    0   \n",
              "\n",
              "    band_like_infiltrate  age  class  \n",
              "33                     0    ?      1  \n",
              "34                     0    ?      4  \n",
              "35                     0    ?      2  \n",
              "36                     3    ?      3  \n",
              "\n",
              "[4 rows x 35 columns]"
            ]
          },
          "execution_count": 5,
          "metadata": {},
          "output_type": "execute_result"
        }
      ],
      "source": [
        "# Scrolling to the right, one can see '?' symbols on the age column\n",
        "dataset.iloc[[33,34,35,36]] # not limited to these rows, there are 8 total missing rows for age"
      ]
    },
    {
      "cell_type": "code",
      "execution_count": null,
      "metadata": {
        "colab": {
          "base_uri": "https://localhost:8080/"
        },
        "id": "XSauHgmjloeZ",
        "outputId": "0051ebbf-4fd4-4654-b811-efac1c19d020"
      },
      "outputs": [
        {
          "name": "stdout",
          "output_type": "stream",
          "text": [
            "<class 'pandas.core.frame.DataFrame'>\n",
            "RangeIndex: 366 entries, 0 to 365\n",
            "Data columns (total 35 columns):\n",
            " #   Column                               Non-Null Count  Dtype \n",
            "---  ------                               --------------  ----- \n",
            " 0   erythema                             366 non-null    int64 \n",
            " 1   scaling                              366 non-null    int64 \n",
            " 2   definite_borders                     366 non-null    int64 \n",
            " 3   itching                              366 non-null    int64 \n",
            " 4   koebner_phenomenon                   366 non-null    int64 \n",
            " 5   polygonal_papules                    366 non-null    int64 \n",
            " 6   follicular_papules                   366 non-null    int64 \n",
            " 7   oral_mucosal_involvement             366 non-null    int64 \n",
            " 8   knee_and_elbow_involvement           366 non-null    int64 \n",
            " 9   scalp_involvement                    366 non-null    int64 \n",
            " 10  family_history                       366 non-null    int64 \n",
            " 11  melanin_incontinence                 366 non-null    int64 \n",
            " 12  eosinophils_infiltrate               366 non-null    int64 \n",
            " 13  PNL_infiltrate                       366 non-null    int64 \n",
            " 14  fibrosis_papillary_dermis            366 non-null    int64 \n",
            " 15  exocytosis                           366 non-null    int64 \n",
            " 16  acanthosis                           366 non-null    int64 \n",
            " 17  hyperkeratosis                       366 non-null    int64 \n",
            " 18  parakeratosis                        366 non-null    int64 \n",
            " 19  clubbing_rete_ridges                 366 non-null    int64 \n",
            " 20  elongation_rete_ridges               366 non-null    int64 \n",
            " 21  thinning_suprapapillary_epidermis    366 non-null    int64 \n",
            " 22  spongiform_pustule                   366 non-null    int64 \n",
            " 23  munro_microabcess                    366 non-null    int64 \n",
            " 24  focal_hypergranulosis                366 non-null    int64 \n",
            " 25  disappearance_granular_layer         366 non-null    int64 \n",
            " 26  vacuolisation_damage_basal_layer     366 non-null    int64 \n",
            " 27  spongiosis                           366 non-null    int64 \n",
            " 28  saw_tooth_appearance_retes           366 non-null    int64 \n",
            " 29  follicular_horn_plug                 366 non-null    int64 \n",
            " 30  perifollicular_parakeratosis         366 non-null    int64 \n",
            " 31  inflammatory_mononuclear_infiltrate  366 non-null    int64 \n",
            " 32  band_like_infiltrate                 366 non-null    int64 \n",
            " 33  age                                  366 non-null    object\n",
            " 34  class                                366 non-null    int64 \n",
            "dtypes: int64(34), object(1)\n",
            "memory usage: 100.2+ KB\n"
          ]
        }
      ],
      "source": [
        "dataset.info()"
      ]
    },
    {
      "cell_type": "code",
      "execution_count": null,
      "metadata": {
        "colab": {
          "base_uri": "https://localhost:8080/"
        },
        "id": "o4syJK0xoOVE",
        "outputId": "a46abd5f-c0a6-4685-c81f-1600994e0359"
      },
      "outputs": [
        {
          "data": {
            "text/plain": [
              "erythema                               0\n",
              "scaling                                0\n",
              "definite_borders                       0\n",
              "itching                                0\n",
              "koebner_phenomenon                     0\n",
              "polygonal_papules                      0\n",
              "follicular_papules                     0\n",
              "oral_mucosal_involvement               0\n",
              "knee_and_elbow_involvement             0\n",
              "scalp_involvement                      0\n",
              "family_history                         0\n",
              "melanin_incontinence                   0\n",
              "eosinophils_infiltrate                 0\n",
              "PNL_infiltrate                         0\n",
              "fibrosis_papillary_dermis              0\n",
              "exocytosis                             0\n",
              "acanthosis                             0\n",
              "hyperkeratosis                         0\n",
              "parakeratosis                          0\n",
              "clubbing_rete_ridges                   0\n",
              "elongation_rete_ridges                 0\n",
              "thinning_suprapapillary_epidermis      0\n",
              "spongiform_pustule                     0\n",
              "munro_microabcess                      0\n",
              "focal_hypergranulosis                  0\n",
              "disappearance_granular_layer           0\n",
              "vacuolisation_damage_basal_layer       0\n",
              "spongiosis                             0\n",
              "saw_tooth_appearance_retes             0\n",
              "follicular_horn_plug                   0\n",
              "perifollicular_parakeratosis           0\n",
              "inflammatory_mononuclear_infiltrate    0\n",
              "band_like_infiltrate                   0\n",
              "age                                    0\n",
              "class                                  0\n",
              "dtype: int64"
            ]
          },
          "execution_count": 7,
          "metadata": {},
          "output_type": "execute_result"
        }
      ],
      "source": [
        "# Check for null values for each column\n",
        "dataset.isnull().sum()"
      ]
    },
    {
      "cell_type": "markdown",
      "metadata": {
        "id": "CP1nkMb27A4n"
      },
      "source": [
        "**Remove Missing Rows**\n",
        "\n",
        "Furthermore, it's possible that certain rows in the dataset contain empty values in specific columns. We also aim to eliminate these rows as they do not provide any useful information. We use dropna() function to do so:"
      ]
    },
    {
      "cell_type": "code",
      "execution_count": null,
      "metadata": {
        "id": "LT_iYgxhhaO0"
      },
      "outputs": [],
      "source": [
        "#Ignore the warning messages.\n",
        "\n",
        "# drop rows with empty values\n",
        "dataset = dataset.dropna()\n",
        "\n",
        "# remove rows with ? as the age value\n",
        "dataset = dataset[dataset.age != '?']\n",
        "\n",
        "# reset the indexes of the rows after dropping\n",
        "dataset = dataset.reset_index(drop=True)\n",
        "\n",
        "# convert the age column from object to int64\n",
        "dataset['age'] = pd.to_numeric(dataset['age'])"
      ]
    },
    {
      "cell_type": "code",
      "execution_count": null,
      "metadata": {
        "colab": {
          "base_uri": "https://localhost:8080/"
        },
        "id": "wDQUqOC0wMU7",
        "outputId": "c9a47c1d-8e72-4647-cf10-2580c4e0f927"
      },
      "outputs": [
        {
          "name": "stdout",
          "output_type": "stream",
          "text": [
            "<class 'pandas.core.frame.DataFrame'>\n",
            "RangeIndex: 358 entries, 0 to 357\n",
            "Data columns (total 35 columns):\n",
            " #   Column                               Non-Null Count  Dtype\n",
            "---  ------                               --------------  -----\n",
            " 0   erythema                             358 non-null    int64\n",
            " 1   scaling                              358 non-null    int64\n",
            " 2   definite_borders                     358 non-null    int64\n",
            " 3   itching                              358 non-null    int64\n",
            " 4   koebner_phenomenon                   358 non-null    int64\n",
            " 5   polygonal_papules                    358 non-null    int64\n",
            " 6   follicular_papules                   358 non-null    int64\n",
            " 7   oral_mucosal_involvement             358 non-null    int64\n",
            " 8   knee_and_elbow_involvement           358 non-null    int64\n",
            " 9   scalp_involvement                    358 non-null    int64\n",
            " 10  family_history                       358 non-null    int64\n",
            " 11  melanin_incontinence                 358 non-null    int64\n",
            " 12  eosinophils_infiltrate               358 non-null    int64\n",
            " 13  PNL_infiltrate                       358 non-null    int64\n",
            " 14  fibrosis_papillary_dermis            358 non-null    int64\n",
            " 15  exocytosis                           358 non-null    int64\n",
            " 16  acanthosis                           358 non-null    int64\n",
            " 17  hyperkeratosis                       358 non-null    int64\n",
            " 18  parakeratosis                        358 non-null    int64\n",
            " 19  clubbing_rete_ridges                 358 non-null    int64\n",
            " 20  elongation_rete_ridges               358 non-null    int64\n",
            " 21  thinning_suprapapillary_epidermis    358 non-null    int64\n",
            " 22  spongiform_pustule                   358 non-null    int64\n",
            " 23  munro_microabcess                    358 non-null    int64\n",
            " 24  focal_hypergranulosis                358 non-null    int64\n",
            " 25  disappearance_granular_layer         358 non-null    int64\n",
            " 26  vacuolisation_damage_basal_layer     358 non-null    int64\n",
            " 27  spongiosis                           358 non-null    int64\n",
            " 28  saw_tooth_appearance_retes           358 non-null    int64\n",
            " 29  follicular_horn_plug                 358 non-null    int64\n",
            " 30  perifollicular_parakeratosis         358 non-null    int64\n",
            " 31  inflammatory_mononuclear_infiltrate  358 non-null    int64\n",
            " 32  band_like_infiltrate                 358 non-null    int64\n",
            " 33  age                                  358 non-null    int64\n",
            " 34  class                                358 non-null    int64\n",
            "dtypes: int64(35)\n",
            "memory usage: 98.0 KB\n"
          ]
        }
      ],
      "source": [
        "dataset.info()"
      ]
    },
    {
      "cell_type": "code",
      "execution_count": null,
      "metadata": {
        "colab": {
          "base_uri": "https://localhost:8080/",
          "height": 412
        },
        "id": "_UpvKCTrwRpN",
        "outputId": "2826b9d1-063b-49c6-bf9d-f215b1158ee8"
      },
      "outputs": [
        {
          "data": {
            "text/html": [
              "\n",
              "  <div id=\"df-9e307601-541b-4ec9-83dc-94f2bc45a38a\" class=\"colab-df-container\">\n",
              "    <div>\n",
              "<style scoped>\n",
              "    .dataframe tbody tr th:only-of-type {\n",
              "        vertical-align: middle;\n",
              "    }\n",
              "\n",
              "    .dataframe tbody tr th {\n",
              "        vertical-align: top;\n",
              "    }\n",
              "\n",
              "    .dataframe thead th {\n",
              "        text-align: right;\n",
              "    }\n",
              "</style>\n",
              "<table border=\"1\" class=\"dataframe\">\n",
              "  <thead>\n",
              "    <tr style=\"text-align: right;\">\n",
              "      <th></th>\n",
              "      <th>erythema</th>\n",
              "      <th>scaling</th>\n",
              "      <th>definite_borders</th>\n",
              "      <th>itching</th>\n",
              "      <th>koebner_phenomenon</th>\n",
              "      <th>polygonal_papules</th>\n",
              "      <th>follicular_papules</th>\n",
              "      <th>oral_mucosal_involvement</th>\n",
              "      <th>knee_and_elbow_involvement</th>\n",
              "      <th>scalp_involvement</th>\n",
              "      <th>...</th>\n",
              "      <th>disappearance_granular_layer</th>\n",
              "      <th>vacuolisation_damage_basal_layer</th>\n",
              "      <th>spongiosis</th>\n",
              "      <th>saw_tooth_appearance_retes</th>\n",
              "      <th>follicular_horn_plug</th>\n",
              "      <th>perifollicular_parakeratosis</th>\n",
              "      <th>inflammatory_mononuclear_infiltrate</th>\n",
              "      <th>band_like_infiltrate</th>\n",
              "      <th>age</th>\n",
              "      <th>class</th>\n",
              "    </tr>\n",
              "  </thead>\n",
              "  <tbody>\n",
              "    <tr>\n",
              "      <th>0</th>\n",
              "      <td>2</td>\n",
              "      <td>2</td>\n",
              "      <td>0</td>\n",
              "      <td>3</td>\n",
              "      <td>0</td>\n",
              "      <td>0</td>\n",
              "      <td>0</td>\n",
              "      <td>0</td>\n",
              "      <td>1</td>\n",
              "      <td>0</td>\n",
              "      <td>...</td>\n",
              "      <td>0</td>\n",
              "      <td>0</td>\n",
              "      <td>3</td>\n",
              "      <td>0</td>\n",
              "      <td>0</td>\n",
              "      <td>0</td>\n",
              "      <td>1</td>\n",
              "      <td>0</td>\n",
              "      <td>55</td>\n",
              "      <td>2</td>\n",
              "    </tr>\n",
              "    <tr>\n",
              "      <th>1</th>\n",
              "      <td>3</td>\n",
              "      <td>3</td>\n",
              "      <td>3</td>\n",
              "      <td>2</td>\n",
              "      <td>1</td>\n",
              "      <td>0</td>\n",
              "      <td>0</td>\n",
              "      <td>0</td>\n",
              "      <td>1</td>\n",
              "      <td>1</td>\n",
              "      <td>...</td>\n",
              "      <td>0</td>\n",
              "      <td>0</td>\n",
              "      <td>0</td>\n",
              "      <td>0</td>\n",
              "      <td>0</td>\n",
              "      <td>0</td>\n",
              "      <td>1</td>\n",
              "      <td>0</td>\n",
              "      <td>8</td>\n",
              "      <td>1</td>\n",
              "    </tr>\n",
              "    <tr>\n",
              "      <th>2</th>\n",
              "      <td>2</td>\n",
              "      <td>1</td>\n",
              "      <td>2</td>\n",
              "      <td>3</td>\n",
              "      <td>1</td>\n",
              "      <td>3</td>\n",
              "      <td>0</td>\n",
              "      <td>3</td>\n",
              "      <td>0</td>\n",
              "      <td>0</td>\n",
              "      <td>...</td>\n",
              "      <td>0</td>\n",
              "      <td>2</td>\n",
              "      <td>3</td>\n",
              "      <td>2</td>\n",
              "      <td>0</td>\n",
              "      <td>0</td>\n",
              "      <td>2</td>\n",
              "      <td>3</td>\n",
              "      <td>26</td>\n",
              "      <td>3</td>\n",
              "    </tr>\n",
              "    <tr>\n",
              "      <th>3</th>\n",
              "      <td>2</td>\n",
              "      <td>2</td>\n",
              "      <td>2</td>\n",
              "      <td>0</td>\n",
              "      <td>0</td>\n",
              "      <td>0</td>\n",
              "      <td>0</td>\n",
              "      <td>0</td>\n",
              "      <td>3</td>\n",
              "      <td>2</td>\n",
              "      <td>...</td>\n",
              "      <td>3</td>\n",
              "      <td>0</td>\n",
              "      <td>0</td>\n",
              "      <td>0</td>\n",
              "      <td>0</td>\n",
              "      <td>0</td>\n",
              "      <td>3</td>\n",
              "      <td>0</td>\n",
              "      <td>40</td>\n",
              "      <td>1</td>\n",
              "    </tr>\n",
              "    <tr>\n",
              "      <th>4</th>\n",
              "      <td>2</td>\n",
              "      <td>3</td>\n",
              "      <td>2</td>\n",
              "      <td>2</td>\n",
              "      <td>2</td>\n",
              "      <td>2</td>\n",
              "      <td>0</td>\n",
              "      <td>2</td>\n",
              "      <td>0</td>\n",
              "      <td>0</td>\n",
              "      <td>...</td>\n",
              "      <td>2</td>\n",
              "      <td>3</td>\n",
              "      <td>2</td>\n",
              "      <td>3</td>\n",
              "      <td>0</td>\n",
              "      <td>0</td>\n",
              "      <td>2</td>\n",
              "      <td>3</td>\n",
              "      <td>45</td>\n",
              "      <td>3</td>\n",
              "    </tr>\n",
              "    <tr>\n",
              "      <th>5</th>\n",
              "      <td>2</td>\n",
              "      <td>3</td>\n",
              "      <td>2</td>\n",
              "      <td>0</td>\n",
              "      <td>0</td>\n",
              "      <td>0</td>\n",
              "      <td>0</td>\n",
              "      <td>0</td>\n",
              "      <td>0</td>\n",
              "      <td>0</td>\n",
              "      <td>...</td>\n",
              "      <td>0</td>\n",
              "      <td>0</td>\n",
              "      <td>2</td>\n",
              "      <td>0</td>\n",
              "      <td>0</td>\n",
              "      <td>0</td>\n",
              "      <td>1</td>\n",
              "      <td>0</td>\n",
              "      <td>41</td>\n",
              "      <td>2</td>\n",
              "    </tr>\n",
              "    <tr>\n",
              "      <th>6</th>\n",
              "      <td>2</td>\n",
              "      <td>1</td>\n",
              "      <td>0</td>\n",
              "      <td>2</td>\n",
              "      <td>0</td>\n",
              "      <td>0</td>\n",
              "      <td>0</td>\n",
              "      <td>0</td>\n",
              "      <td>0</td>\n",
              "      <td>0</td>\n",
              "      <td>...</td>\n",
              "      <td>0</td>\n",
              "      <td>0</td>\n",
              "      <td>0</td>\n",
              "      <td>0</td>\n",
              "      <td>0</td>\n",
              "      <td>0</td>\n",
              "      <td>2</td>\n",
              "      <td>0</td>\n",
              "      <td>18</td>\n",
              "      <td>5</td>\n",
              "    </tr>\n",
              "    <tr>\n",
              "      <th>7</th>\n",
              "      <td>2</td>\n",
              "      <td>2</td>\n",
              "      <td>3</td>\n",
              "      <td>3</td>\n",
              "      <td>3</td>\n",
              "      <td>3</td>\n",
              "      <td>0</td>\n",
              "      <td>2</td>\n",
              "      <td>0</td>\n",
              "      <td>0</td>\n",
              "      <td>...</td>\n",
              "      <td>2</td>\n",
              "      <td>2</td>\n",
              "      <td>3</td>\n",
              "      <td>2</td>\n",
              "      <td>0</td>\n",
              "      <td>0</td>\n",
              "      <td>3</td>\n",
              "      <td>3</td>\n",
              "      <td>57</td>\n",
              "      <td>3</td>\n",
              "    </tr>\n",
              "    <tr>\n",
              "      <th>8</th>\n",
              "      <td>2</td>\n",
              "      <td>2</td>\n",
              "      <td>1</td>\n",
              "      <td>0</td>\n",
              "      <td>2</td>\n",
              "      <td>0</td>\n",
              "      <td>0</td>\n",
              "      <td>0</td>\n",
              "      <td>0</td>\n",
              "      <td>0</td>\n",
              "      <td>...</td>\n",
              "      <td>0</td>\n",
              "      <td>0</td>\n",
              "      <td>2</td>\n",
              "      <td>0</td>\n",
              "      <td>0</td>\n",
              "      <td>0</td>\n",
              "      <td>2</td>\n",
              "      <td>0</td>\n",
              "      <td>22</td>\n",
              "      <td>4</td>\n",
              "    </tr>\n",
              "    <tr>\n",
              "      <th>9</th>\n",
              "      <td>2</td>\n",
              "      <td>2</td>\n",
              "      <td>1</td>\n",
              "      <td>0</td>\n",
              "      <td>1</td>\n",
              "      <td>0</td>\n",
              "      <td>0</td>\n",
              "      <td>0</td>\n",
              "      <td>0</td>\n",
              "      <td>0</td>\n",
              "      <td>...</td>\n",
              "      <td>0</td>\n",
              "      <td>0</td>\n",
              "      <td>2</td>\n",
              "      <td>0</td>\n",
              "      <td>0</td>\n",
              "      <td>0</td>\n",
              "      <td>2</td>\n",
              "      <td>0</td>\n",
              "      <td>30</td>\n",
              "      <td>4</td>\n",
              "    </tr>\n",
              "  </tbody>\n",
              "</table>\n",
              "<p>10 rows × 35 columns</p>\n",
              "</div>\n",
              "    <div class=\"colab-df-buttons\">\n",
              "\n",
              "  <div class=\"colab-df-container\">\n",
              "    <button class=\"colab-df-convert\" onclick=\"convertToInteractive('df-9e307601-541b-4ec9-83dc-94f2bc45a38a')\"\n",
              "            title=\"Convert this dataframe to an interactive table.\"\n",
              "            style=\"display:none;\">\n",
              "\n",
              "  <svg xmlns=\"http://www.w3.org/2000/svg\" height=\"24px\" viewBox=\"0 -960 960 960\">\n",
              "    <path d=\"M120-120v-720h720v720H120Zm60-500h600v-160H180v160Zm220 220h160v-160H400v160Zm0 220h160v-160H400v160ZM180-400h160v-160H180v160Zm440 0h160v-160H620v160ZM180-180h160v-160H180v160Zm440 0h160v-160H620v160Z\"/>\n",
              "  </svg>\n",
              "    </button>\n",
              "\n",
              "  <style>\n",
              "    .colab-df-container {\n",
              "      display:flex;\n",
              "      gap: 12px;\n",
              "    }\n",
              "\n",
              "    .colab-df-convert {\n",
              "      background-color: #E8F0FE;\n",
              "      border: none;\n",
              "      border-radius: 50%;\n",
              "      cursor: pointer;\n",
              "      display: none;\n",
              "      fill: #1967D2;\n",
              "      height: 32px;\n",
              "      padding: 0 0 0 0;\n",
              "      width: 32px;\n",
              "    }\n",
              "\n",
              "    .colab-df-convert:hover {\n",
              "      background-color: #E2EBFA;\n",
              "      box-shadow: 0px 1px 2px rgba(60, 64, 67, 0.3), 0px 1px 3px 1px rgba(60, 64, 67, 0.15);\n",
              "      fill: #174EA6;\n",
              "    }\n",
              "\n",
              "    .colab-df-buttons div {\n",
              "      margin-bottom: 4px;\n",
              "    }\n",
              "\n",
              "    [theme=dark] .colab-df-convert {\n",
              "      background-color: #3B4455;\n",
              "      fill: #D2E3FC;\n",
              "    }\n",
              "\n",
              "    [theme=dark] .colab-df-convert:hover {\n",
              "      background-color: #434B5C;\n",
              "      box-shadow: 0px 1px 3px 1px rgba(0, 0, 0, 0.15);\n",
              "      filter: drop-shadow(0px 1px 2px rgba(0, 0, 0, 0.3));\n",
              "      fill: #FFFFFF;\n",
              "    }\n",
              "  </style>\n",
              "\n",
              "    <script>\n",
              "      const buttonEl =\n",
              "        document.querySelector('#df-9e307601-541b-4ec9-83dc-94f2bc45a38a button.colab-df-convert');\n",
              "      buttonEl.style.display =\n",
              "        google.colab.kernel.accessAllowed ? 'block' : 'none';\n",
              "\n",
              "      async function convertToInteractive(key) {\n",
              "        const element = document.querySelector('#df-9e307601-541b-4ec9-83dc-94f2bc45a38a');\n",
              "        const dataTable =\n",
              "          await google.colab.kernel.invokeFunction('convertToInteractive',\n",
              "                                                    [key], {});\n",
              "        if (!dataTable) return;\n",
              "\n",
              "        const docLinkHtml = 'Like what you see? Visit the ' +\n",
              "          '<a target=\"_blank\" href=https://colab.research.google.com/notebooks/data_table.ipynb>data table notebook</a>'\n",
              "          + ' to learn more about interactive tables.';\n",
              "        element.innerHTML = '';\n",
              "        dataTable['output_type'] = 'display_data';\n",
              "        await google.colab.output.renderOutput(dataTable, element);\n",
              "        const docLink = document.createElement('div');\n",
              "        docLink.innerHTML = docLinkHtml;\n",
              "        element.appendChild(docLink);\n",
              "      }\n",
              "    </script>\n",
              "  </div>\n",
              "\n",
              "\n",
              "<div id=\"df-8b9799f0-feaf-413a-91a2-afba73db0150\">\n",
              "  <button class=\"colab-df-quickchart\" onclick=\"quickchart('df-8b9799f0-feaf-413a-91a2-afba73db0150')\"\n",
              "            title=\"Suggest charts.\"\n",
              "            style=\"display:none;\">\n",
              "\n",
              "<svg xmlns=\"http://www.w3.org/2000/svg\" height=\"24px\"viewBox=\"0 0 24 24\"\n",
              "     width=\"24px\">\n",
              "    <g>\n",
              "        <path d=\"M19 3H5c-1.1 0-2 .9-2 2v14c0 1.1.9 2 2 2h14c1.1 0 2-.9 2-2V5c0-1.1-.9-2-2-2zM9 17H7v-7h2v7zm4 0h-2V7h2v10zm4 0h-2v-4h2v4z\"/>\n",
              "    </g>\n",
              "</svg>\n",
              "  </button>\n",
              "\n",
              "<style>\n",
              "  .colab-df-quickchart {\n",
              "      --bg-color: #E8F0FE;\n",
              "      --fill-color: #1967D2;\n",
              "      --hover-bg-color: #E2EBFA;\n",
              "      --hover-fill-color: #174EA6;\n",
              "      --disabled-fill-color: #AAA;\n",
              "      --disabled-bg-color: #DDD;\n",
              "  }\n",
              "\n",
              "  [theme=dark] .colab-df-quickchart {\n",
              "      --bg-color: #3B4455;\n",
              "      --fill-color: #D2E3FC;\n",
              "      --hover-bg-color: #434B5C;\n",
              "      --hover-fill-color: #FFFFFF;\n",
              "      --disabled-bg-color: #3B4455;\n",
              "      --disabled-fill-color: #666;\n",
              "  }\n",
              "\n",
              "  .colab-df-quickchart {\n",
              "    background-color: var(--bg-color);\n",
              "    border: none;\n",
              "    border-radius: 50%;\n",
              "    cursor: pointer;\n",
              "    display: none;\n",
              "    fill: var(--fill-color);\n",
              "    height: 32px;\n",
              "    padding: 0;\n",
              "    width: 32px;\n",
              "  }\n",
              "\n",
              "  .colab-df-quickchart:hover {\n",
              "    background-color: var(--hover-bg-color);\n",
              "    box-shadow: 0 1px 2px rgba(60, 64, 67, 0.3), 0 1px 3px 1px rgba(60, 64, 67, 0.15);\n",
              "    fill: var(--button-hover-fill-color);\n",
              "  }\n",
              "\n",
              "  .colab-df-quickchart-complete:disabled,\n",
              "  .colab-df-quickchart-complete:disabled:hover {\n",
              "    background-color: var(--disabled-bg-color);\n",
              "    fill: var(--disabled-fill-color);\n",
              "    box-shadow: none;\n",
              "  }\n",
              "\n",
              "  .colab-df-spinner {\n",
              "    border: 2px solid var(--fill-color);\n",
              "    border-color: transparent;\n",
              "    border-bottom-color: var(--fill-color);\n",
              "    animation:\n",
              "      spin 1s steps(1) infinite;\n",
              "  }\n",
              "\n",
              "  @keyframes spin {\n",
              "    0% {\n",
              "      border-color: transparent;\n",
              "      border-bottom-color: var(--fill-color);\n",
              "      border-left-color: var(--fill-color);\n",
              "    }\n",
              "    20% {\n",
              "      border-color: transparent;\n",
              "      border-left-color: var(--fill-color);\n",
              "      border-top-color: var(--fill-color);\n",
              "    }\n",
              "    30% {\n",
              "      border-color: transparent;\n",
              "      border-left-color: var(--fill-color);\n",
              "      border-top-color: var(--fill-color);\n",
              "      border-right-color: var(--fill-color);\n",
              "    }\n",
              "    40% {\n",
              "      border-color: transparent;\n",
              "      border-right-color: var(--fill-color);\n",
              "      border-top-color: var(--fill-color);\n",
              "    }\n",
              "    60% {\n",
              "      border-color: transparent;\n",
              "      border-right-color: var(--fill-color);\n",
              "    }\n",
              "    80% {\n",
              "      border-color: transparent;\n",
              "      border-right-color: var(--fill-color);\n",
              "      border-bottom-color: var(--fill-color);\n",
              "    }\n",
              "    90% {\n",
              "      border-color: transparent;\n",
              "      border-bottom-color: var(--fill-color);\n",
              "    }\n",
              "  }\n",
              "</style>\n",
              "\n",
              "  <script>\n",
              "    async function quickchart(key) {\n",
              "      const quickchartButtonEl =\n",
              "        document.querySelector('#' + key + ' button');\n",
              "      quickchartButtonEl.disabled = true;  // To prevent multiple clicks.\n",
              "      quickchartButtonEl.classList.add('colab-df-spinner');\n",
              "      try {\n",
              "        const charts = await google.colab.kernel.invokeFunction(\n",
              "            'suggestCharts', [key], {});\n",
              "      } catch (error) {\n",
              "        console.error('Error during call to suggestCharts:', error);\n",
              "      }\n",
              "      quickchartButtonEl.classList.remove('colab-df-spinner');\n",
              "      quickchartButtonEl.classList.add('colab-df-quickchart-complete');\n",
              "    }\n",
              "    (() => {\n",
              "      let quickchartButtonEl =\n",
              "        document.querySelector('#df-8b9799f0-feaf-413a-91a2-afba73db0150 button');\n",
              "      quickchartButtonEl.style.display =\n",
              "        google.colab.kernel.accessAllowed ? 'block' : 'none';\n",
              "    })();\n",
              "  </script>\n",
              "</div>\n",
              "    </div>\n",
              "  </div>\n"
            ],
            "text/plain": [
              "   erythema  scaling  definite_borders  itching  koebner_phenomenon  \\\n",
              "0         2        2                 0        3                   0   \n",
              "1         3        3                 3        2                   1   \n",
              "2         2        1                 2        3                   1   \n",
              "3         2        2                 2        0                   0   \n",
              "4         2        3                 2        2                   2   \n",
              "5         2        3                 2        0                   0   \n",
              "6         2        1                 0        2                   0   \n",
              "7         2        2                 3        3                   3   \n",
              "8         2        2                 1        0                   2   \n",
              "9         2        2                 1        0                   1   \n",
              "\n",
              "   polygonal_papules  follicular_papules  oral_mucosal_involvement  \\\n",
              "0                  0                   0                         0   \n",
              "1                  0                   0                         0   \n",
              "2                  3                   0                         3   \n",
              "3                  0                   0                         0   \n",
              "4                  2                   0                         2   \n",
              "5                  0                   0                         0   \n",
              "6                  0                   0                         0   \n",
              "7                  3                   0                         2   \n",
              "8                  0                   0                         0   \n",
              "9                  0                   0                         0   \n",
              "\n",
              "   knee_and_elbow_involvement  scalp_involvement  ...  \\\n",
              "0                           1                  0  ...   \n",
              "1                           1                  1  ...   \n",
              "2                           0                  0  ...   \n",
              "3                           3                  2  ...   \n",
              "4                           0                  0  ...   \n",
              "5                           0                  0  ...   \n",
              "6                           0                  0  ...   \n",
              "7                           0                  0  ...   \n",
              "8                           0                  0  ...   \n",
              "9                           0                  0  ...   \n",
              "\n",
              "   disappearance_granular_layer  vacuolisation_damage_basal_layer  spongiosis  \\\n",
              "0                             0                                 0           3   \n",
              "1                             0                                 0           0   \n",
              "2                             0                                 2           3   \n",
              "3                             3                                 0           0   \n",
              "4                             2                                 3           2   \n",
              "5                             0                                 0           2   \n",
              "6                             0                                 0           0   \n",
              "7                             2                                 2           3   \n",
              "8                             0                                 0           2   \n",
              "9                             0                                 0           2   \n",
              "\n",
              "   saw_tooth_appearance_retes  follicular_horn_plug  \\\n",
              "0                           0                     0   \n",
              "1                           0                     0   \n",
              "2                           2                     0   \n",
              "3                           0                     0   \n",
              "4                           3                     0   \n",
              "5                           0                     0   \n",
              "6                           0                     0   \n",
              "7                           2                     0   \n",
              "8                           0                     0   \n",
              "9                           0                     0   \n",
              "\n",
              "   perifollicular_parakeratosis  inflammatory_mononuclear_infiltrate  \\\n",
              "0                             0                                    1   \n",
              "1                             0                                    1   \n",
              "2                             0                                    2   \n",
              "3                             0                                    3   \n",
              "4                             0                                    2   \n",
              "5                             0                                    1   \n",
              "6                             0                                    2   \n",
              "7                             0                                    3   \n",
              "8                             0                                    2   \n",
              "9                             0                                    2   \n",
              "\n",
              "   band_like_infiltrate  age  class  \n",
              "0                     0   55      2  \n",
              "1                     0    8      1  \n",
              "2                     3   26      3  \n",
              "3                     0   40      1  \n",
              "4                     3   45      3  \n",
              "5                     0   41      2  \n",
              "6                     0   18      5  \n",
              "7                     3   57      3  \n",
              "8                     0   22      4  \n",
              "9                     0   30      4  \n",
              "\n",
              "[10 rows x 35 columns]"
            ]
          },
          "execution_count": 10,
          "metadata": {},
          "output_type": "execute_result"
        }
      ],
      "source": [
        "dataset.head(10)"
      ]
    },
    {
      "cell_type": "code",
      "execution_count": null,
      "metadata": {
        "colab": {
          "base_uri": "https://localhost:8080/"
        },
        "id": "M7RsWTjznB5y",
        "outputId": "be26df28-e479-4fc3-859b-c7d0ab26d6d4"
      },
      "outputs": [
        {
          "data": {
            "text/plain": [
              "1    111\n",
              "3     71\n",
              "2     60\n",
              "5     48\n",
              "4     48\n",
              "6     20\n",
              "Name: class, dtype: int64"
            ]
          },
          "execution_count": 11,
          "metadata": {},
          "output_type": "execute_result"
        }
      ],
      "source": [
        "dataset['class'].value_counts()"
      ]
    },
    {
      "cell_type": "code",
      "execution_count": null,
      "metadata": {
        "colab": {
          "base_uri": "https://localhost:8080/",
          "height": 466
        },
        "id": "7XeRNCczsFOk",
        "outputId": "c2eb0883-35bf-4595-b4ba-29d9d935a2b2"
      },
      "outputs": [
        {
          "data": {
            "text/plain": [
              "<Axes: xlabel='class', ylabel='count'>"
            ]
          },
          "execution_count": 12,
          "metadata": {},
          "output_type": "execute_result"
        },
        {
          "data": {
            "image/png": "[encoded data removed]",
            "text/plain": [
              "<Figure size 640x480 with 1 Axes>"
            ]
          },
          "metadata": {},
          "output_type": "display_data"
        }
      ],
      "source": [
        "import seaborn as sns\n",
        "import matplotlib.pyplot as plt\n",
        "\n",
        "sns.countplot(data=dataset, x='class')"
      ]
    },
    {
      "cell_type": "markdown",
      "metadata": {
        "id": "QZ3zpFabXriu"
      },
      "source": [
        "#**2. Classification Empirical Study**"
      ]
    },
    {
      "cell_type": "markdown",
      "metadata": {
        "id": "NcSvafgwX24n"
      },
      "source": [
        "### **1. Classification Task and the Dataset**"
      ]
    },
    {
      "cell_type": "markdown",
      "metadata": {
        "id": "oVcAeY91X8Dr"
      },
      "source": [
        "a. What is the goal of the task? Is this for a particular application?"
      ]
    },
    {
      "cell_type": "markdown",
      "metadata": {
        "id": "LwDUEqSzZowJ"
      },
      "source": [
        "This dataset was created to help in diagnosis of the different types of Erythemato-Squamous Disease (ESD). There are 6 different types of ESD: psoriasis, seborrheic dermatitis, lichen planus, pityriasis rosea, chronic dermatitis, and pityriasis rubra pilaris. Clinicians diagnose the type of ESD by analyzing clinical, histopathology, and family history. It can be difficult to differentiate the type of ESD because they all share similar clinical and histopathology features."
      ]
    },
    {
      "cell_type": "markdown",
      "metadata": {
        "id": "uKBm8banZvHE"
      },
      "source": [
        "|Class Number |ESD Type Name|\n",
        "|-----|-----|\n",
        "|1 |psoriasis  |\n",
        "|2 |seborrheic dermatitis |\n",
        "|3 |lichen planus |\n",
        "|4 |pityriasis rosea |\n",
        "|5 |chronic dermatitis |\n",
        "|6 |pityriasis rubra pilaris |"
      ]
    },
    {
      "cell_type": "markdown",
      "metadata": {
        "id": "p1hMZfv1bJAx"
      },
      "source": [
        "The application that is developed can help with predicting and differentiating between the different types of ESD given the features. When the features are given to the model, it can predict the type of ESD the patient most likely has. This application along with biopsy can increase the likelihood of a correct diagnosis. It can also help clinicians in their data analysis."
      ]
    },
    {
      "cell_type": "markdown",
      "metadata": {
        "id": "eu3UlsBwYDJm"
      },
      "source": [
        "b. Characterize the dataset in terms of number of training examples, number of\n",
        "features, missing data, etc."
      ]
    },
    {
      "cell_type": "markdown",
      "metadata": {
        "id": "d80iesSObSMi"
      },
      "source": [
        "|||\n",
        "|-----|-----|\n",
        "|Training examples / samples |366  |\n",
        "|Features / attributes |34 (12 clinical features, 22 histopathological features) |\n",
        "|Missing data |8 datapoints (age) |\n",
        "|Classes |6 (psoriasis, seborrheic dermatitis, lichen planus, pityriasis rosea, chronic dermatitis, and pityriasis rubra pilaris) |"
      ]
    },
    {
      "cell_type": "markdown",
      "metadata": {
        "id": "urkMgdBSYPBb"
      },
      "source": [
        "###**2. Brainstorm about the Attributes (Feature engineering)**"
      ]
    },
    {
      "cell_type": "markdown",
      "metadata": {
        "id": "neS_7-MRYcUO"
      },
      "source": [
        "####(a) Missing or Useful Features"
      ]
    },
    {
      "cell_type": "markdown",
      "metadata": {
        "id": "Wo4hs4aMcCE0"
      },
      "source": [
        "0 indicates that the feature was not present, 3 indicates the largest amount possible, and 1, 2 indicate the relative intermediate values.\n",
        "\n",
        "**Clinical Attributes: (take values 0, 1, 2, 3)**\n",
        "* 1: erythema\n",
        "* 2: scaling\n",
        "* 3: definite borders\n",
        "* 4: itching\n",
        "* 5: koebner phenomenon\n",
        "* 6: polygonal papules\n",
        "* 7: follicular papules\n",
        "* 8: oral mucosal involvement\n",
        "* 9: knee and elbow involvement\n",
        "* 10: scalp involvement\n",
        "\n",
        "**Histopathological Attributes: (take values 0, 1, 2, 3)**\n",
        "* 12: melanin incontinence\n",
        "* 13: eosinophils in the infiltrate\n",
        "* 14: PNL infiltrate\n",
        "* 15: fibrosis of the papillary dermis\n",
        "* 16: exocytosis\n",
        "* 17: acanthosis\n",
        "* 18: hyperkeratosis\n",
        "* 19: parakeratosis\n",
        "* 20: clubbing of the rete ridges\n",
        "* 21: elongation of the rete ridges\n",
        "* 22: thinning of the suprapapillary epidermis\n",
        "* 23: spongiform pustule\n",
        "* 24: munro microabcess\n",
        "* 25: focal hypergranulosis\n",
        "* 26: disappearance of the granular layer\n",
        "* 27: vacuolisation and damage of basal layer\n",
        "* 28: spongiosis\n",
        "* 29: saw-tooth appearance of retes\n",
        "* 30: follicular horn plug\n",
        "* 31: perifollicular parakeratosis\n",
        "* 32: inflammatory monoluclear inflitrate\n",
        "* 33: band-like infiltrate\n",
        "\n",
        "11: Family history feature is for if any of the diseases was observed in the family (value is 1) or not (value is 0)\n",
        "\n",
        "34: Age of the patient (Linear / continuous)\n"
      ]
    },
    {
      "cell_type": "markdown",
      "metadata": {
        "id": "jyD-KrCkc3oI"
      },
      "source": [
        "**Domain Expertise**\n",
        "\n",
        "We do not have the domain expertise of a clinician to determine what features are useful in predicting and diagnosing the ESD types. All of the features in the dataset require domain knowledge for dermatology. Therefore, we will keep all the features because we cannot determine which features are not useful without understanding their role in the diagnosis.\n",
        "\n",
        "When we test the model, we may find trends of which attributes have less impact on the results. But we will keep all attributes because we do not want to remove attributes that may be important to the results.\n",
        "\n",
        "There are 8 missing data points in the age feature. The solution to the missing values is to remove those samples from the dataset because it is a small number of samples.\n"
      ]
    },
    {
      "cell_type": "markdown",
      "metadata": {
        "id": "bFxOL_reYoW6"
      },
      "source": [
        "####(b) Attribute Ranges and Normalisation"
      ]
    },
    {
      "cell_type": "markdown",
      "metadata": {
        "id": "BOgeB3q4c9ly"
      },
      "source": [
        "These features are all continuous\n",
        "\n",
        "|Feature |Value|\n",
        "|-----|-----|\n",
        "|Clinical Attributes |0, 1, 2, 3 |\n",
        "|Histopathological Attributes |0, 1, 2, 3 |\n",
        "|Family history |1, 0 |\n",
        "|Age |Linear / continuous |"
      ]
    },
    {
      "cell_type": "markdown",
      "metadata": {
        "id": "pcNb_UBtdx31"
      },
      "source": [
        "All of the features use continuous values because they are all numerical data. For example, family history can have the values of 1 or 0, which is already in the form that one-hot encoding would create. Therefore, it is continuous.\n"
      ]
    },
    {
      "cell_type": "markdown",
      "metadata": {
        "id": "KN5uinQRHWoy"
      },
      "source": [
        "**Attribute Normalisation**\n",
        "\n",
        "Attribute normalisation could be applied on all the data to change the values to be decimals from the interval [0,1]. This will help performance by making the values smaller instead of larger numbers to improve learning rates, convergence and cut down on bias; take age for instance, it can be a number as big as 70, which may introduce unwanted bias due to its initial magnitude. After normalization, it will not view age as a more important feature over the others."
      ]
    },
    {
      "cell_type": "code",
      "execution_count": null,
      "metadata": {
        "colab": {
          "base_uri": "https://localhost:8080/",
          "height": 412
        },
        "id": "llOVpnFc4jOI",
        "outputId": "1e628832-be8c-4b24-9384-49fde4c4df24"
      },
      "outputs": [
        {
          "data": {
            "text/html": [
              "\n",
              "  <div id=\"df-98e960c9-e4d9-4d2b-ac45-5f5367824524\" class=\"colab-df-container\">\n",
              "    <div>\n",
              "<style scoped>\n",
              "    .dataframe tbody tr th:only-of-type {\n",
              "        vertical-align: middle;\n",
              "    }\n",
              "\n",
              "    .dataframe tbody tr th {\n",
              "        vertical-align: top;\n",
              "    }\n",
              "\n",
              "    .dataframe thead th {\n",
              "        text-align: right;\n",
              "    }\n",
              "</style>\n",
              "<table border=\"1\" class=\"dataframe\">\n",
              "  <thead>\n",
              "    <tr style=\"text-align: right;\">\n",
              "      <th></th>\n",
              "      <th>erythema</th>\n",
              "      <th>scaling</th>\n",
              "      <th>definite_borders</th>\n",
              "      <th>itching</th>\n",
              "      <th>koebner_phenomenon</th>\n",
              "      <th>polygonal_papules</th>\n",
              "      <th>follicular_papules</th>\n",
              "      <th>oral_mucosal_involvement</th>\n",
              "      <th>knee_and_elbow_involvement</th>\n",
              "      <th>scalp_involvement</th>\n",
              "      <th>...</th>\n",
              "      <th>disappearance_granular_layer</th>\n",
              "      <th>vacuolisation_damage_basal_layer</th>\n",
              "      <th>spongiosis</th>\n",
              "      <th>saw_tooth_appearance_retes</th>\n",
              "      <th>follicular_horn_plug</th>\n",
              "      <th>perifollicular_parakeratosis</th>\n",
              "      <th>inflammatory_mononuclear_infiltrate</th>\n",
              "      <th>band_like_infiltrate</th>\n",
              "      <th>age</th>\n",
              "      <th>class</th>\n",
              "    </tr>\n",
              "  </thead>\n",
              "  <tbody>\n",
              "    <tr>\n",
              "      <th>0</th>\n",
              "      <td>0.666667</td>\n",
              "      <td>0.666667</td>\n",
              "      <td>0.000000</td>\n",
              "      <td>1.000000</td>\n",
              "      <td>0.000000</td>\n",
              "      <td>0.000000</td>\n",
              "      <td>0.0</td>\n",
              "      <td>0.000000</td>\n",
              "      <td>0.333333</td>\n",
              "      <td>0.000000</td>\n",
              "      <td>...</td>\n",
              "      <td>0.000000</td>\n",
              "      <td>0.000000</td>\n",
              "      <td>1.000000</td>\n",
              "      <td>0.000000</td>\n",
              "      <td>0.0</td>\n",
              "      <td>0.0</td>\n",
              "      <td>0.333333</td>\n",
              "      <td>0.0</td>\n",
              "      <td>0.733333</td>\n",
              "      <td>2</td>\n",
              "    </tr>\n",
              "    <tr>\n",
              "      <th>1</th>\n",
              "      <td>1.000000</td>\n",
              "      <td>1.000000</td>\n",
              "      <td>1.000000</td>\n",
              "      <td>0.666667</td>\n",
              "      <td>0.333333</td>\n",
              "      <td>0.000000</td>\n",
              "      <td>0.0</td>\n",
              "      <td>0.000000</td>\n",
              "      <td>0.333333</td>\n",
              "      <td>0.333333</td>\n",
              "      <td>...</td>\n",
              "      <td>0.000000</td>\n",
              "      <td>0.000000</td>\n",
              "      <td>0.000000</td>\n",
              "      <td>0.000000</td>\n",
              "      <td>0.0</td>\n",
              "      <td>0.0</td>\n",
              "      <td>0.333333</td>\n",
              "      <td>0.0</td>\n",
              "      <td>0.106667</td>\n",
              "      <td>1</td>\n",
              "    </tr>\n",
              "    <tr>\n",
              "      <th>2</th>\n",
              "      <td>0.666667</td>\n",
              "      <td>0.333333</td>\n",
              "      <td>0.666667</td>\n",
              "      <td>1.000000</td>\n",
              "      <td>0.333333</td>\n",
              "      <td>1.000000</td>\n",
              "      <td>0.0</td>\n",
              "      <td>1.000000</td>\n",
              "      <td>0.000000</td>\n",
              "      <td>0.000000</td>\n",
              "      <td>...</td>\n",
              "      <td>0.000000</td>\n",
              "      <td>0.666667</td>\n",
              "      <td>1.000000</td>\n",
              "      <td>0.666667</td>\n",
              "      <td>0.0</td>\n",
              "      <td>0.0</td>\n",
              "      <td>0.666667</td>\n",
              "      <td>1.0</td>\n",
              "      <td>0.346667</td>\n",
              "      <td>3</td>\n",
              "    </tr>\n",
              "    <tr>\n",
              "      <th>3</th>\n",
              "      <td>0.666667</td>\n",
              "      <td>0.666667</td>\n",
              "      <td>0.666667</td>\n",
              "      <td>0.000000</td>\n",
              "      <td>0.000000</td>\n",
              "      <td>0.000000</td>\n",
              "      <td>0.0</td>\n",
              "      <td>0.000000</td>\n",
              "      <td>1.000000</td>\n",
              "      <td>0.666667</td>\n",
              "      <td>...</td>\n",
              "      <td>1.000000</td>\n",
              "      <td>0.000000</td>\n",
              "      <td>0.000000</td>\n",
              "      <td>0.000000</td>\n",
              "      <td>0.0</td>\n",
              "      <td>0.0</td>\n",
              "      <td>1.000000</td>\n",
              "      <td>0.0</td>\n",
              "      <td>0.533333</td>\n",
              "      <td>1</td>\n",
              "    </tr>\n",
              "    <tr>\n",
              "      <th>4</th>\n",
              "      <td>0.666667</td>\n",
              "      <td>1.000000</td>\n",
              "      <td>0.666667</td>\n",
              "      <td>0.666667</td>\n",
              "      <td>0.666667</td>\n",
              "      <td>0.666667</td>\n",
              "      <td>0.0</td>\n",
              "      <td>0.666667</td>\n",
              "      <td>0.000000</td>\n",
              "      <td>0.000000</td>\n",
              "      <td>...</td>\n",
              "      <td>0.666667</td>\n",
              "      <td>1.000000</td>\n",
              "      <td>0.666667</td>\n",
              "      <td>1.000000</td>\n",
              "      <td>0.0</td>\n",
              "      <td>0.0</td>\n",
              "      <td>0.666667</td>\n",
              "      <td>1.0</td>\n",
              "      <td>0.600000</td>\n",
              "      <td>3</td>\n",
              "    </tr>\n",
              "    <tr>\n",
              "      <th>5</th>\n",
              "      <td>0.666667</td>\n",
              "      <td>1.000000</td>\n",
              "      <td>0.666667</td>\n",
              "      <td>0.000000</td>\n",
              "      <td>0.000000</td>\n",
              "      <td>0.000000</td>\n",
              "      <td>0.0</td>\n",
              "      <td>0.000000</td>\n",
              "      <td>0.000000</td>\n",
              "      <td>0.000000</td>\n",
              "      <td>...</td>\n",
              "      <td>0.000000</td>\n",
              "      <td>0.000000</td>\n",
              "      <td>0.666667</td>\n",
              "      <td>0.000000</td>\n",
              "      <td>0.0</td>\n",
              "      <td>0.0</td>\n",
              "      <td>0.333333</td>\n",
              "      <td>0.0</td>\n",
              "      <td>0.546667</td>\n",
              "      <td>2</td>\n",
              "    </tr>\n",
              "    <tr>\n",
              "      <th>6</th>\n",
              "      <td>0.666667</td>\n",
              "      <td>0.333333</td>\n",
              "      <td>0.000000</td>\n",
              "      <td>0.666667</td>\n",
              "      <td>0.000000</td>\n",
              "      <td>0.000000</td>\n",
              "      <td>0.0</td>\n",
              "      <td>0.000000</td>\n",
              "      <td>0.000000</td>\n",
              "      <td>0.000000</td>\n",
              "      <td>...</td>\n",
              "      <td>0.000000</td>\n",
              "      <td>0.000000</td>\n",
              "      <td>0.000000</td>\n",
              "      <td>0.000000</td>\n",
              "      <td>0.0</td>\n",
              "      <td>0.0</td>\n",
              "      <td>0.666667</td>\n",
              "      <td>0.0</td>\n",
              "      <td>0.240000</td>\n",
              "      <td>5</td>\n",
              "    </tr>\n",
              "    <tr>\n",
              "      <th>7</th>\n",
              "      <td>0.666667</td>\n",
              "      <td>0.666667</td>\n",
              "      <td>1.000000</td>\n",
              "      <td>1.000000</td>\n",
              "      <td>1.000000</td>\n",
              "      <td>1.000000</td>\n",
              "      <td>0.0</td>\n",
              "      <td>0.666667</td>\n",
              "      <td>0.000000</td>\n",
              "      <td>0.000000</td>\n",
              "      <td>...</td>\n",
              "      <td>0.666667</td>\n",
              "      <td>0.666667</td>\n",
              "      <td>1.000000</td>\n",
              "      <td>0.666667</td>\n",
              "      <td>0.0</td>\n",
              "      <td>0.0</td>\n",
              "      <td>1.000000</td>\n",
              "      <td>1.0</td>\n",
              "      <td>0.760000</td>\n",
              "      <td>3</td>\n",
              "    </tr>\n",
              "    <tr>\n",
              "      <th>8</th>\n",
              "      <td>0.666667</td>\n",
              "      <td>0.666667</td>\n",
              "      <td>0.333333</td>\n",
              "      <td>0.000000</td>\n",
              "      <td>0.666667</td>\n",
              "      <td>0.000000</td>\n",
              "      <td>0.0</td>\n",
              "      <td>0.000000</td>\n",
              "      <td>0.000000</td>\n",
              "      <td>0.000000</td>\n",
              "      <td>...</td>\n",
              "      <td>0.000000</td>\n",
              "      <td>0.000000</td>\n",
              "      <td>0.666667</td>\n",
              "      <td>0.000000</td>\n",
              "      <td>0.0</td>\n",
              "      <td>0.0</td>\n",
              "      <td>0.666667</td>\n",
              "      <td>0.0</td>\n",
              "      <td>0.293333</td>\n",
              "      <td>4</td>\n",
              "    </tr>\n",
              "    <tr>\n",
              "      <th>9</th>\n",
              "      <td>0.666667</td>\n",
              "      <td>0.666667</td>\n",
              "      <td>0.333333</td>\n",
              "      <td>0.000000</td>\n",
              "      <td>0.333333</td>\n",
              "      <td>0.000000</td>\n",
              "      <td>0.0</td>\n",
              "      <td>0.000000</td>\n",
              "      <td>0.000000</td>\n",
              "      <td>0.000000</td>\n",
              "      <td>...</td>\n",
              "      <td>0.000000</td>\n",
              "      <td>0.000000</td>\n",
              "      <td>0.666667</td>\n",
              "      <td>0.000000</td>\n",
              "      <td>0.0</td>\n",
              "      <td>0.0</td>\n",
              "      <td>0.666667</td>\n",
              "      <td>0.0</td>\n",
              "      <td>0.400000</td>\n",
              "      <td>4</td>\n",
              "    </tr>\n",
              "  </tbody>\n",
              "</table>\n",
              "<p>10 rows × 35 columns</p>\n",
              "</div>\n",
              "    <div class=\"colab-df-buttons\">\n",
              "\n",
              "  <div class=\"colab-df-container\">\n",
              "    <button class=\"colab-df-convert\" onclick=\"convertToInteractive('df-98e960c9-e4d9-4d2b-ac45-5f5367824524')\"\n",
              "            title=\"Convert this dataframe to an interactive table.\"\n",
              "            style=\"display:none;\">\n",
              "\n",
              "  <svg xmlns=\"http://www.w3.org/2000/svg\" height=\"24px\" viewBox=\"0 -960 960 960\">\n",
              "    <path d=\"M120-120v-720h720v720H120Zm60-500h600v-160H180v160Zm220 220h160v-160H400v160Zm0 220h160v-160H400v160ZM180-400h160v-160H180v160Zm440 0h160v-160H620v160ZM180-180h160v-160H180v160Zm440 0h160v-160H620v160Z\"/>\n",
              "  </svg>\n",
              "    </button>\n",
              "\n",
              "  <style>\n",
              "    .colab-df-container {\n",
              "      display:flex;\n",
              "      gap: 12px;\n",
              "    }\n",
              "\n",
              "    .colab-df-convert {\n",
              "      background-color: #E8F0FE;\n",
              "      border: none;\n",
              "      border-radius: 50%;\n",
              "      cursor: pointer;\n",
              "      display: none;\n",
              "      fill: #1967D2;\n",
              "      height: 32px;\n",
              "      padding: 0 0 0 0;\n",
              "      width: 32px;\n",
              "    }\n",
              "\n",
              "    .colab-df-convert:hover {\n",
              "      background-color: #E2EBFA;\n",
              "      box-shadow: 0px 1px 2px rgba(60, 64, 67, 0.3), 0px 1px 3px 1px rgba(60, 64, 67, 0.15);\n",
              "      fill: #174EA6;\n",
              "    }\n",
              "\n",
              "    .colab-df-buttons div {\n",
              "      margin-bottom: 4px;\n",
              "    }\n",
              "\n",
              "    [theme=dark] .colab-df-convert {\n",
              "      background-color: #3B4455;\n",
              "      fill: #D2E3FC;\n",
              "    }\n",
              "\n",
              "    [theme=dark] .colab-df-convert:hover {\n",
              "      background-color: #434B5C;\n",
              "      box-shadow: 0px 1px 3px 1px rgba(0, 0, 0, 0.15);\n",
              "      filter: drop-shadow(0px 1px 2px rgba(0, 0, 0, 0.3));\n",
              "      fill: #FFFFFF;\n",
              "    }\n",
              "  </style>\n",
              "\n",
              "    <script>\n",
              "      const buttonEl =\n",
              "        document.querySelector('#df-98e960c9-e4d9-4d2b-ac45-5f5367824524 button.colab-df-convert');\n",
              "      buttonEl.style.display =\n",
              "        google.colab.kernel.accessAllowed ? 'block' : 'none';\n",
              "\n",
              "      async function convertToInteractive(key) {\n",
              "        const element = document.querySelector('#df-98e960c9-e4d9-4d2b-ac45-5f5367824524');\n",
              "        const dataTable =\n",
              "          await google.colab.kernel.invokeFunction('convertToInteractive',\n",
              "                                                    [key], {});\n",
              "        if (!dataTable) return;\n",
              "\n",
              "        const docLinkHtml = 'Like what you see? Visit the ' +\n",
              "          '<a target=\"_blank\" href=https://colab.research.google.com/notebooks/data_table.ipynb>data table notebook</a>'\n",
              "          + ' to learn more about interactive tables.';\n",
              "        element.innerHTML = '';\n",
              "        dataTable['output_type'] = 'display_data';\n",
              "        await google.colab.output.renderOutput(dataTable, element);\n",
              "        const docLink = document.createElement('div');\n",
              "        docLink.innerHTML = docLinkHtml;\n",
              "        element.appendChild(docLink);\n",
              "      }\n",
              "    </script>\n",
              "  </div>\n",
              "\n",
              "\n",
              "<div id=\"df-bf1b498d-08e5-4562-a86d-24bc94b4fb48\">\n",
              "  <button class=\"colab-df-quickchart\" onclick=\"quickchart('df-bf1b498d-08e5-4562-a86d-24bc94b4fb48')\"\n",
              "            title=\"Suggest charts.\"\n",
              "            style=\"display:none;\">\n",
              "\n",
              "<svg xmlns=\"http://www.w3.org/2000/svg\" height=\"24px\"viewBox=\"0 0 24 24\"\n",
              "     width=\"24px\">\n",
              "    <g>\n",
              "        <path d=\"M19 3H5c-1.1 0-2 .9-2 2v14c0 1.1.9 2 2 2h14c1.1 0 2-.9 2-2V5c0-1.1-.9-2-2-2zM9 17H7v-7h2v7zm4 0h-2V7h2v10zm4 0h-2v-4h2v4z\"/>\n",
              "    </g>\n",
              "</svg>\n",
              "  </button>\n",
              "\n",
              "<style>\n",
              "  .colab-df-quickchart {\n",
              "      --bg-color: #E8F0FE;\n",
              "      --fill-color: #1967D2;\n",
              "      --hover-bg-color: #E2EBFA;\n",
              "      --hover-fill-color: #174EA6;\n",
              "      --disabled-fill-color: #AAA;\n",
              "      --disabled-bg-color: #DDD;\n",
              "  }\n",
              "\n",
              "  [theme=dark] .colab-df-quickchart {\n",
              "      --bg-color: #3B4455;\n",
              "      --fill-color: #D2E3FC;\n",
              "      --hover-bg-color: #434B5C;\n",
              "      --hover-fill-color: #FFFFFF;\n",
              "      --disabled-bg-color: #3B4455;\n",
              "      --disabled-fill-color: #666;\n",
              "  }\n",
              "\n",
              "  .colab-df-quickchart {\n",
              "    background-color: var(--bg-color);\n",
              "    border: none;\n",
              "    border-radius: 50%;\n",
              "    cursor: pointer;\n",
              "    display: none;\n",
              "    fill: var(--fill-color);\n",
              "    height: 32px;\n",
              "    padding: 0;\n",
              "    width: 32px;\n",
              "  }\n",
              "\n",
              "  .colab-df-quickchart:hover {\n",
              "    background-color: var(--hover-bg-color);\n",
              "    box-shadow: 0 1px 2px rgba(60, 64, 67, 0.3), 0 1px 3px 1px rgba(60, 64, 67, 0.15);\n",
              "    fill: var(--button-hover-fill-color);\n",
              "  }\n",
              "\n",
              "  .colab-df-quickchart-complete:disabled,\n",
              "  .colab-df-quickchart-complete:disabled:hover {\n",
              "    background-color: var(--disabled-bg-color);\n",
              "    fill: var(--disabled-fill-color);\n",
              "    box-shadow: none;\n",
              "  }\n",
              "\n",
              "  .colab-df-spinner {\n",
              "    border: 2px solid var(--fill-color);\n",
              "    border-color: transparent;\n",
              "    border-bottom-color: var(--fill-color);\n",
              "    animation:\n",
              "      spin 1s steps(1) infinite;\n",
              "  }\n",
              "\n",
              "  @keyframes spin {\n",
              "    0% {\n",
              "      border-color: transparent;\n",
              "      border-bottom-color: var(--fill-color);\n",
              "      border-left-color: var(--fill-color);\n",
              "    }\n",
              "    20% {\n",
              "      border-color: transparent;\n",
              "      border-left-color: var(--fill-color);\n",
              "      border-top-color: var(--fill-color);\n",
              "    }\n",
              "    30% {\n",
              "      border-color: transparent;\n",
              "      border-left-color: var(--fill-color);\n",
              "      border-top-color: var(--fill-color);\n",
              "      border-right-color: var(--fill-color);\n",
              "    }\n",
              "    40% {\n",
              "      border-color: transparent;\n",
              "      border-right-color: var(--fill-color);\n",
              "      border-top-color: var(--fill-color);\n",
              "    }\n",
              "    60% {\n",
              "      border-color: transparent;\n",
              "      border-right-color: var(--fill-color);\n",
              "    }\n",
              "    80% {\n",
              "      border-color: transparent;\n",
              "      border-right-color: var(--fill-color);\n",
              "      border-bottom-color: var(--fill-color);\n",
              "    }\n",
              "    90% {\n",
              "      border-color: transparent;\n",
              "      border-bottom-color: var(--fill-color);\n",
              "    }\n",
              "  }\n",
              "</style>\n",
              "\n",
              "  <script>\n",
              "    async function quickchart(key) {\n",
              "      const quickchartButtonEl =\n",
              "        document.querySelector('#' + key + ' button');\n",
              "      quickchartButtonEl.disabled = true;  // To prevent multiple clicks.\n",
              "      quickchartButtonEl.classList.add('colab-df-spinner');\n",
              "      try {\n",
              "        const charts = await google.colab.kernel.invokeFunction(\n",
              "            'suggestCharts', [key], {});\n",
              "      } catch (error) {\n",
              "        console.error('Error during call to suggestCharts:', error);\n",
              "      }\n",
              "      quickchartButtonEl.classList.remove('colab-df-spinner');\n",
              "      quickchartButtonEl.classList.add('colab-df-quickchart-complete');\n",
              "    }\n",
              "    (() => {\n",
              "      let quickchartButtonEl =\n",
              "        document.querySelector('#df-bf1b498d-08e5-4562-a86d-24bc94b4fb48 button');\n",
              "      quickchartButtonEl.style.display =\n",
              "        google.colab.kernel.accessAllowed ? 'block' : 'none';\n",
              "    })();\n",
              "  </script>\n",
              "</div>\n",
              "    </div>\n",
              "  </div>\n"
            ],
            "text/plain": [
              "   erythema   scaling  definite_borders   itching  koebner_phenomenon  \\\n",
              "0  0.666667  0.666667          0.000000  1.000000            0.000000   \n",
              "1  1.000000  1.000000          1.000000  0.666667            0.333333   \n",
              "2  0.666667  0.333333          0.666667  1.000000            0.333333   \n",
              "3  0.666667  0.666667          0.666667  0.000000            0.000000   \n",
              "4  0.666667  1.000000          0.666667  0.666667            0.666667   \n",
              "5  0.666667  1.000000          0.666667  0.000000            0.000000   \n",
              "6  0.666667  0.333333          0.000000  0.666667            0.000000   \n",
              "7  0.666667  0.666667          1.000000  1.000000            1.000000   \n",
              "8  0.666667  0.666667          0.333333  0.000000            0.666667   \n",
              "9  0.666667  0.666667          0.333333  0.000000            0.333333   \n",
              "\n",
              "   polygonal_papules  follicular_papules  oral_mucosal_involvement  \\\n",
              "0           0.000000                 0.0                  0.000000   \n",
              "1           0.000000                 0.0                  0.000000   \n",
              "2           1.000000                 0.0                  1.000000   \n",
              "3           0.000000                 0.0                  0.000000   \n",
              "4           0.666667                 0.0                  0.666667   \n",
              "5           0.000000                 0.0                  0.000000   \n",
              "6           0.000000                 0.0                  0.000000   \n",
              "7           1.000000                 0.0                  0.666667   \n",
              "8           0.000000                 0.0                  0.000000   \n",
              "9           0.000000                 0.0                  0.000000   \n",
              "\n",
              "   knee_and_elbow_involvement  scalp_involvement  ...  \\\n",
              "0                    0.333333           0.000000  ...   \n",
              "1                    0.333333           0.333333  ...   \n",
              "2                    0.000000           0.000000  ...   \n",
              "3                    1.000000           0.666667  ...   \n",
              "4                    0.000000           0.000000  ...   \n",
              "5                    0.000000           0.000000  ...   \n",
              "6                    0.000000           0.000000  ...   \n",
              "7                    0.000000           0.000000  ...   \n",
              "8                    0.000000           0.000000  ...   \n",
              "9                    0.000000           0.000000  ...   \n",
              "\n",
              "   disappearance_granular_layer  vacuolisation_damage_basal_layer  spongiosis  \\\n",
              "0                      0.000000                          0.000000    1.000000   \n",
              "1                      0.000000                          0.000000    0.000000   \n",
              "2                      0.000000                          0.666667    1.000000   \n",
              "3                      1.000000                          0.000000    0.000000   \n",
              "4                      0.666667                          1.000000    0.666667   \n",
              "5                      0.000000                          0.000000    0.666667   \n",
              "6                      0.000000                          0.000000    0.000000   \n",
              "7                      0.666667                          0.666667    1.000000   \n",
              "8                      0.000000                          0.000000    0.666667   \n",
              "9                      0.000000                          0.000000    0.666667   \n",
              "\n",
              "   saw_tooth_appearance_retes  follicular_horn_plug  \\\n",
              "0                    0.000000                   0.0   \n",
              "1                    0.000000                   0.0   \n",
              "2                    0.666667                   0.0   \n",
              "3                    0.000000                   0.0   \n",
              "4                    1.000000                   0.0   \n",
              "5                    0.000000                   0.0   \n",
              "6                    0.000000                   0.0   \n",
              "7                    0.666667                   0.0   \n",
              "8                    0.000000                   0.0   \n",
              "9                    0.000000                   0.0   \n",
              "\n",
              "   perifollicular_parakeratosis  inflammatory_mononuclear_infiltrate  \\\n",
              "0                           0.0                             0.333333   \n",
              "1                           0.0                             0.333333   \n",
              "2                           0.0                             0.666667   \n",
              "3                           0.0                             1.000000   \n",
              "4                           0.0                             0.666667   \n",
              "5                           0.0                             0.333333   \n",
              "6                           0.0                             0.666667   \n",
              "7                           0.0                             1.000000   \n",
              "8                           0.0                             0.666667   \n",
              "9                           0.0                             0.666667   \n",
              "\n",
              "   band_like_infiltrate       age  class  \n",
              "0                   0.0  0.733333      2  \n",
              "1                   0.0  0.106667      1  \n",
              "2                   1.0  0.346667      3  \n",
              "3                   0.0  0.533333      1  \n",
              "4                   1.0  0.600000      3  \n",
              "5                   0.0  0.546667      2  \n",
              "6                   0.0  0.240000      5  \n",
              "7                   1.0  0.760000      3  \n",
              "8                   0.0  0.293333      4  \n",
              "9                   0.0  0.400000      4  \n",
              "\n",
              "[10 rows x 35 columns]"
            ]
          },
          "execution_count": 13,
          "metadata": {},
          "output_type": "execute_result"
        }
      ],
      "source": [
        "# Adapted from: https://stackoverflow.com/questions/26414913/normalize-columns-of-a-dataframe\n",
        "def normalize(df):\n",
        "    result = df.copy()\n",
        "    for feature_name in df.columns[:-1]: # last col excluded since it's not a feature column\n",
        "        max_value = df[feature_name].max()\n",
        "        min_value = df[feature_name].min()\n",
        "        result[feature_name] = (df[feature_name] - min_value) / (max_value - min_value)\n",
        "    return result\n",
        "dataset = normalize(dataset)\n",
        "dataset.head(10)"
      ]
    },
    {
      "cell_type": "markdown",
      "metadata": {
        "id": "qByr5u5a8taZ"
      },
      "source": [
        "We can see that each feature column is nicely normalized from the range [0,1] except for the last column, which is our class."
      ]
    },
    {
      "cell_type": "markdown",
      "metadata": {
        "id": "b69hhIOqZG35"
      },
      "source": [
        "###**3. Encode the features**"
      ]
    },
    {
      "cell_type": "markdown",
      "metadata": {
        "id": "IjleDNjtZN58"
      },
      "source": [
        "####a. Data encoding and Transformation"
      ]
    },
    {
      "cell_type": "markdown",
      "metadata": {
        "id": "esbPy4a3eC7o"
      },
      "source": [
        "The features in the dataset are all continuous and numerical. The use of transformation on the features is not required since Logistic regression requires continuous attributes and Naive Bayes has the GaussianNB classifier which uses continuous attributes. If the dataset had discrete features, then they could be transformed into continuous features using one-hot encoding. If the continuous features need to be transformed into discrete features, then discretization can be used to sort them into buckets.\n",
        "Therefore, since the features are all using numerical values and they are not using categorical values, they do not need to be transformed.\n"
      ]
    },
    {
      "cell_type": "markdown",
      "metadata": {
        "id": "J1nh5CChZUZR"
      },
      "source": [
        "###b. Logistic Regression:\n"
      ]
    },
    {
      "cell_type": "markdown",
      "metadata": {
        "id": "PnWPOKRRMkp_"
      },
      "source": [
        "The data has all the features as continuous features and Logistic regression expects continuous features, so no encoding needs to be performed."
      ]
    },
    {
      "cell_type": "markdown",
      "metadata": {
        "id": "xpFYQSpaZXhb"
      },
      "source": [
        "###c. Naive Bayes:"
      ]
    },
    {
      "cell_type": "markdown",
      "metadata": {
        "id": "SBufWLQiM4Dj"
      },
      "source": [
        "The dataset has all the features as continuous features and the Naive Bayes classifier GaussianNB assumes Gaussian distribution on continuous attributes. Therefore, the data does not need encoding when using the GaussianNB classifier."
      ]
    },
    {
      "cell_type": "markdown",
      "metadata": {
        "id": "u0mA56RBisYG"
      },
      "source": [
        "# **4. Define the 2 Models using Default Parameters**"
      ]
    },
    {
      "cell_type": "markdown",
      "metadata": {
        "id": "VTOJn7dDeTiz"
      },
      "source": [
        " ### (a) **Logistic Regression Model**\n",
        "\n",
        " In this particular model, we will make use of the Ordinal subclass of binary regression models. What this allows us to do is to classify more than 2 (binary) types of data. Another option is to \"binarize\" the 'class' column, but we have not had the need to do that; this method of ordinal classification is sufficient in showing the model works, i.e.: we obtain high precision, recall and f1-scores.\n"
      ]
    },
    {
      "cell_type": "code",
      "execution_count": null,
      "metadata": {
        "id": "8GGVlzfc-ZLf"
      },
      "outputs": [],
      "source": [
        "# https://www.datacamp.com/tutorial/understanding-logistic-regression-python\n",
        "from sklearn.linear_model import LogisticRegression\n",
        "\n",
        "def Logistic_Regression(model, X_train, X_test, y_train, y_test):\n",
        "\n",
        "  # Create an instance of Logistic Regression Classifier and fit the data.\n",
        "  model.fit(X_train, y_train)\n",
        "\n",
        "  y_pred = model.predict(X_test)\n",
        "\n",
        "  # Testing for accuracy\n",
        "  accuracy = accuracy_score(y_pred, y_test)\n",
        "  f1 = f1_score(y_pred, y_test, average=\"weighted\")\n",
        "\n",
        "  print(\"Accuracy:\", accuracy)\n",
        "  print(\"F1 Score:\", f1)\n",
        "\n",
        "  return y_test, y_pred\n"
      ]
    },
    {
      "cell_type": "code",
      "execution_count": null,
      "metadata": {
        "colab": {
          "base_uri": "https://localhost:8080/",
          "height": 484
        },
        "id": "1T0264aVL_--",
        "outputId": "dc9e0f77-c489-43af-fe59-b3a6c501a8e0"
      },
      "outputs": [
        {
          "name": "stdout",
          "output_type": "stream",
          "text": [
            "Accuracy: 0.9831932773109243\n",
            "F1 Score: 0.9831932773109243\n"
          ]
        },
        {
          "data": {
            "image/png": "[encoded data removed]",
            "text/plain": [
              "<Figure size 640x480 with 2 Axes>"
            ]
          },
          "metadata": {},
          "output_type": "display_data"
        }
      ],
      "source": [
        "from sklearn.model_selection import train_test_split\n",
        "from sklearn import metrics\n",
        "\n",
        "ds_lg = dataset.copy()\n",
        "X_lg = ds_lg.iloc[:, :-1]  # all columns except the last are features.\n",
        "y_lg = ds_lg['class']\n",
        "\n",
        "# split the dataset into training and testing sets\n",
        "X_train_lg, X_test_lg, y_train_lg, y_test_lg = train_test_split(X_lg, y_lg, test_size=0.33, random_state=16)\n",
        "\n",
        "model_lg = LogisticRegression(tol=1e-4, solver=\"lbfgs\")\n",
        "y_test_lg, y_pred_lg = Logistic_Regression(model_lg, X_train_lg, X_test_lg, y_train_lg, y_test_lg)\n",
        "\n",
        "\n",
        "# Confusion matrix heat map used to visualize the accuracy on the test\n",
        "cnf_matrix_lg = metrics.confusion_matrix(y_test_lg, y_pred_lg)\n",
        "disp = ConfusionMatrixDisplay(confusion_matrix=cnf_matrix_lg)\n",
        "disp.plot();"
      ]
    },
    {
      "cell_type": "code",
      "execution_count": null,
      "metadata": {
        "colab": {
          "base_uri": "https://localhost:8080/"
        },
        "id": "yF9YT9lOMWFV",
        "outputId": "1c4b96ce-d63a-44d2-d73a-c812ded3a2d1"
      },
      "outputs": [
        {
          "name": "stdout",
          "output_type": "stream",
          "text": [
            "              precision    recall  f1-score   support\n",
            "\n",
            "           1       1.00      1.00      1.00        39\n",
            "           2       0.95      0.95      0.95        20\n",
            "           3       1.00      1.00      1.00        24\n",
            "           4       0.93      0.93      0.93        15\n",
            "           5       1.00      1.00      1.00        13\n",
            "           6       1.00      1.00      1.00         8\n",
            "\n",
            "    accuracy                           0.98       119\n",
            "   macro avg       0.98      0.98      0.98       119\n",
            "weighted avg       0.98      0.98      0.98       119\n",
            "\n",
            "Micro-average F1 score:  0.9831932773109243\n"
          ]
        }
      ],
      "source": [
        "print(classification_report(y_test_lg, y_pred_lg))\n",
        "f1_micro_lg = f1_score(y_test_lg, y_pred_lg, average='micro')\n",
        "print(\"Micro-average F1 score: \", f1_micro_lg)"
      ]
    },
    {
      "cell_type": "markdown",
      "metadata": {
        "id": "qL5EVR00i8ey"
      },
      "source": [
        "###**(b) Naïve Bayes Model**\n",
        "\n",
        "The Naive Bayes classifier is based on applying Bayes theorem and it has a conditional independence assumption. The learning process for Naive Bayes involves calculating the probability of an event using prior and posterior probability. Calculating the probabilities will determine the class for the predictions and classification. Naive Bayes requires discrete features, but Gaussian Naive Bayes can use continuous features. Gaussian Naive Bayes assumes that the likelihood of features is Gaussian.\n"
      ]
    },
    {
      "cell_type": "code",
      "execution_count": null,
      "metadata": {
        "id": "9-1rD5WtlOgS"
      },
      "outputs": [],
      "source": [
        "# set X to all the features except the class column\n",
        "X_nb = dataset.drop('class', axis = 1)\n",
        "\n",
        "# set y to the class column which is the target\n",
        "y_nb = dataset['class']"
      ]
    },
    {
      "cell_type": "code",
      "execution_count": null,
      "metadata": {
        "id": "94Z8WmlKonlx"
      },
      "outputs": [],
      "source": [
        "from sklearn.model_selection import train_test_split\n",
        "\n",
        "# split the dataset into training and testing sets\n",
        "X_train, X_test, y_train, y_test = train_test_split(\n",
        "    X_nb, y_nb, test_size=0.33, random_state=125\n",
        ")"
      ]
    },
    {
      "cell_type": "code",
      "execution_count": null,
      "metadata": {
        "id": "Z1Pysum52Ygp"
      },
      "outputs": [],
      "source": [
        "from sklearn.naive_bayes import GaussianNB\n",
        "\n",
        "# function for training a naive bayes model\n",
        "def Gaussian_nb(model, X_train_nb, X_test_nb, y_train_nb, y_test_nb):\n",
        "  # Build the Gaussian Classifier / Model\n",
        "  model_nb = model\n",
        "\n",
        "  # training the model using the training set\n",
        "  model_training_nb = model_nb.fit(X_train_nb, y_train_nb)\n",
        "\n",
        "  # use the model to make predictions on the testing set\n",
        "  y_pred_nb = model_nb.predict(X_test_nb)\n",
        "\n",
        "  # calculate the accuracy and f1 of the results of the prediction to the expected values\n",
        "  accuracy_nb = accuracy_score(y_test_nb, y_pred_nb)\n",
        "  f1_nb = f1_score(y_test_nb, y_pred_nb, average=\"weighted\")\n",
        "\n",
        "  print(\"Accuracy:\", accuracy_nb)\n",
        "  print(\"F1 Score:\", f1_nb)\n",
        "\n",
        "  return y_test_nb, y_pred_nb"
      ]
    },
    {
      "cell_type": "code",
      "execution_count": null,
      "metadata": {
        "colab": {
          "base_uri": "https://localhost:8080/"
        },
        "id": "f_aLUFg34c1E",
        "outputId": "6fcd7191-603e-49a9-8101-41f6748fa8f3"
      },
      "outputs": [
        {
          "name": "stdout",
          "output_type": "stream",
          "text": [
            "Accuracy: 0.865546218487395\n",
            "F1 Score: 0.850934512434107\n"
          ]
        }
      ],
      "source": [
        "# create the Naive Bayes Gaussian model with default parameters\n",
        "model_nb = GaussianNB()\n",
        "\n",
        "# train and test the model given the training and testing sets\n",
        "y_test_nb, y_pred_nb = Gaussian_nb(model_nb, X_train, X_test, y_train, y_test)"
      ]
    },
    {
      "cell_type": "code",
      "execution_count": null,
      "metadata": {
        "colab": {
          "base_uri": "https://localhost:8080/",
          "height": 449
        },
        "id": "i3omyAPY3ZdG",
        "outputId": "b34019ce-fca8-44bb-9cec-c4d5375b30ed"
      },
      "outputs": [
        {
          "data": {
            "image/png": "[encoded data removed]",
            "text/plain": [
              "<Figure size 640x480 with 2 Axes>"
            ]
          },
          "metadata": {},
          "output_type": "display_data"
        }
      ],
      "source": [
        "# https://scikit-learn.org/stable/modules/generated/sklearn.metrics.confusion_matrix.html\n",
        "# https://www.geeksforgeeks.org/multiclass-classification-using-scikit-learn/\n",
        "\n",
        "# build the confusion matrix using expected and predicted\n",
        "cm = confusion_matrix(y_test_nb, y_pred_nb)\n",
        "\n",
        "# build the display for the confusion matrix\n",
        "disp = ConfusionMatrixDisplay(confusion_matrix=cm)\n",
        "\n",
        "# show the confusion matrix\n",
        "disp.plot();"
      ]
    },
    {
      "cell_type": "code",
      "execution_count": null,
      "metadata": {
        "colab": {
          "base_uri": "https://localhost:8080/"
        },
        "id": "31RWq_RljHgd",
        "outputId": "98fce59c-dec3-4f81-c226-90772835a57d"
      },
      "outputs": [
        {
          "name": "stdout",
          "output_type": "stream",
          "text": [
            "              precision    recall  f1-score   support\n",
            "\n",
            "           1       1.00      1.00      1.00        42\n",
            "           2       1.00      0.33      0.50        24\n",
            "           3       0.95      1.00      0.98        20\n",
            "           4       0.52      1.00      0.68        15\n",
            "           5       0.92      1.00      0.96        11\n",
            "           6       1.00      1.00      1.00         7\n",
            "\n",
            "    accuracy                           0.87       119\n",
            "   macro avg       0.90      0.89      0.85       119\n",
            "weighted avg       0.92      0.87      0.85       119\n",
            "\n",
            "Micro-average F1 score:  0.865546218487395\n"
          ]
        }
      ],
      "source": [
        "# calculate the performance measures using the expected and predicted results\n",
        "# https://scikit-learn.org/stable/modules/generated/sklearn.metrics.classification_report.html\n",
        "\n",
        "# calculate the precision, recall, and averages\n",
        "print(classification_report(y_test_nb, y_pred_nb))\n",
        "\n",
        "# calculate and print the micro average\n",
        "f1 = f1_score(y_test_nb, y_pred_nb, average='micro')\n",
        "print(\"Micro-average F1 score: \", f1)"
      ]
    },
    {
      "cell_type": "markdown",
      "metadata": {
        "id": "X7ONDRY6ekMv"
      },
      "source": [
        "# **5. Train/Test/Evaluation on Models in Cross-Validation**"
      ]
    },
    {
      "cell_type": "markdown",
      "metadata": {
        "id": "gQd1UklgepAO"
      },
      "source": [
        "###(a) Using 4-fold validation"
      ]
    },
    {
      "cell_type": "markdown",
      "metadata": {
        "id": "iMxW-YCDf5y5"
      },
      "source": [
        "Each fold is then used once as a validation while the k - 1 remaining folds form the training set.\n",
        "\n"
      ]
    },
    {
      "cell_type": "code",
      "execution_count": null,
      "metadata": {
        "id": "z07K_Yabg4a2"
      },
      "outputs": [],
      "source": [
        "import numpy as np\n",
        "\n",
        "# need to convert to np arrays to split the dataset for kfold\n",
        "\n",
        "# convert the features to a numpy array\n",
        "X_kf = np.array(dataset.drop('class', axis=1))\n",
        "\n",
        "# convert the target class column to a numpy arrray\n",
        "y_kf = np.array(dataset['class'])"
      ]
    },
    {
      "cell_type": "code",
      "execution_count": null,
      "metadata": {
        "id": "Z8rr2sah0z6K"
      },
      "outputs": [],
      "source": [
        "from sklearn.model_selection import KFold\n",
        "from sklearn.naive_bayes import GaussianNB\n",
        "\n",
        "# function for 4 fold validation for a given model\n",
        "def k_fold(model_kf, verbose):\n",
        "\n",
        "  # the models predictions for the classes\n",
        "  predicted_y = []\n",
        "\n",
        "  # the expected target values for the classes\n",
        "  expected_y = []\n",
        "\n",
        "  # creates the indexes for 4 folds with shuffling\n",
        "  kf = KFold(n_splits=4, shuffle=True)\n",
        "\n",
        "  # go through each fold of training and testing sets\n",
        "  # this will loop 4 times for 4 folds\n",
        "  for i, (train_indexes, test_indexes) in enumerate(kf.split(X_kf)):\n",
        "    print(f\"Fold {i+1}:\")\n",
        "    if verbose:\n",
        "      print(f\"  Train: index={train_indexes}\")\n",
        "      print(f\"  Test:  index={test_indexes}\")\n",
        "\n",
        "    # train the model on the current folds training set\n",
        "    model_training_kf = model_kf.fit(X_kf[train_indexes], y_kf[train_indexes])\n",
        "\n",
        "    # use the model to make predictions on the current folds testing set\n",
        "    y_pred_kf = model_kf.predict(X_kf[test_indexes])\n",
        "\n",
        "    # the expected results of the current fold testing set\n",
        "    y_exp_kf = y_kf[test_indexes]\n",
        "\n",
        "    # add the predictions to the list\n",
        "    predicted_y.extend(y_pred_kf)\n",
        "\n",
        "    # add the expected values of the folds testing set to the list\n",
        "    expected_y.extend(y_exp_kf)\n",
        "\n",
        "    # calculate the accuracy and f1 score\n",
        "    accuracy_kf = accuracy_score(y_exp_kf, y_pred_kf)\n",
        "    f1_kf = f1_score(y_exp_kf, y_pred_kf, average=\"weighted\")\n",
        "    print(\"Accuracy:\", accuracy_kf)\n",
        "    print(\"F1 Score:\", f1_kf)\n",
        "\n",
        "  return expected_y, predicted_y"
      ]
    },
    {
      "cell_type": "markdown",
      "metadata": {
        "id": "64sLOWHMoJ9A"
      },
      "source": [
        "####(i) 4-fold for Logistic Regression model:"
      ]
    },
    {
      "cell_type": "code",
      "execution_count": null,
      "metadata": {
        "colab": {
          "base_uri": "https://localhost:8080/"
        },
        "id": "R6AAOdS7oKTR",
        "outputId": "4ce230b7-b4a5-4dda-ba3b-e88cf7f7a320"
      },
      "outputs": [
        {
          "name": "stdout",
          "output_type": "stream",
          "text": [
            "Fold 1:\n",
            "  Train: index=[  2   3   5   6  10  13  14  15  16  19  20  21  23  24  25  26  27  28\n",
            "  29  30  31  32  33  34  35  36  37  40  44  46  48  49  50  53  54  55\n",
            "  56  57  58  59  60  61  62  63  64  66  67  68  69  70  71  72  73  74\n",
            "  75  76  78  79  81  82  83  85  86  88  89  90  91  92  95  96  97  98\n",
            "  99 100 103 104 105 107 108 110 111 112 113 114 115 116 117 118 119 121\n",
            " 123 125 126 127 129 131 133 134 135 136 139 140 142 143 144 145 147 148\n",
            " 149 150 151 152 153 154 155 157 158 159 160 161 162 163 164 166 167 169\n",
            " 171 172 173 174 175 176 177 179 180 181 182 183 186 187 188 189 190 191\n",
            " 192 193 194 196 198 199 201 202 203 204 206 207 210 211 214 216 218 221\n",
            " 222 224 225 226 227 228 229 230 233 235 236 241 242 243 244 245 247 248\n",
            " 249 250 251 252 253 254 255 256 257 258 259 260 261 263 264 265 266 269\n",
            " 270 271 272 273 274 276 277 278 279 280 281 283 284 285 287 288 289 290\n",
            " 292 293 294 296 297 298 299 300 301 302 303 304 305 306 307 309 310 311\n",
            " 312 313 314 315 316 317 321 322 323 324 325 326 327 330 332 333 337 338\n",
            " 340 341 342 343 344 345 347 348 350 351 352 353 354 355 356 357]\n",
            "  Test:  index=[  0   1   4   7   8   9  11  12  17  18  22  38  39  41  42  43  45  47\n",
            "  51  52  65  77  80  84  87  93  94 101 102 106 109 120 122 124 128 130\n",
            " 132 137 138 141 146 156 165 168 170 178 184 185 195 197 200 205 208 209\n",
            " 212 213 215 217 219 220 223 231 232 234 237 238 239 240 246 262 267 268\n",
            " 275 282 286 291 295 308 318 319 320 328 329 331 334 335 336 339 346 349]\n",
            "Accuracy: 0.9666666666666667\n",
            "F1 Score: 0.9667356797791581\n",
            "Fold 2:\n",
            "  Train: index=[  0   1   3   4   6   7   8   9  11  12  13  14  17  18  19  20  21  22\n",
            "  23  25  26  27  28  29  30  32  33  34  35  36  37  38  39  40  41  42\n",
            "  43  45  47  48  51  52  54  55  56  61  62  65  66  67  69  70  71  72\n",
            "  73  74  75  77  78  80  81  82  84  85  86  87  88  89  91  93  94  95\n",
            "  96  97  98  99 100 101 102 103 104 106 108 109 110 111 113 115 117 119\n",
            " 120 121 122 124 128 129 130 132 133 134 136 137 138 139 140 141 142 144\n",
            " 146 148 150 151 153 155 156 157 158 161 162 163 164 165 168 169 170 173\n",
            " 174 176 178 180 182 184 185 186 187 188 190 191 192 193 195 196 197 199\n",
            " 200 202 203 205 206 207 208 209 210 211 212 213 214 215 216 217 218 219\n",
            " 220 221 222 223 224 225 227 228 230 231 232 233 234 236 237 238 239 240\n",
            " 241 242 243 244 246 247 248 252 253 254 255 256 257 260 262 263 264 265\n",
            " 266 267 268 269 271 272 273 275 277 278 281 282 284 285 286 291 293 294\n",
            " 295 296 297 298 300 302 304 305 306 307 308 309 310 311 312 314 315 316\n",
            " 317 318 319 320 322 325 327 328 329 330 331 332 333 334 335 336 337 338\n",
            " 339 340 342 343 344 345 346 348 349 350 351 353 354 355 356 357]\n",
            "  Test:  index=[  2   5  10  15  16  24  31  44  46  49  50  53  57  58  59  60  63  64\n",
            "  68  76  79  83  90  92 105 107 112 114 116 118 123 125 126 127 131 135\n",
            " 143 145 147 149 152 154 159 160 166 167 171 172 175 177 179 181 183 189\n",
            " 194 198 201 204 226 229 235 245 249 250 251 258 259 261 270 274 276 279\n",
            " 280 283 287 288 289 290 292 299 301 303 313 321 323 324 326 341 347 352]\n",
            "Accuracy: 0.9888888888888889\n",
            "F1 Score: 0.9890388364072575\n",
            "Fold 3:\n",
            "  Train: index=[  0   1   2   3   4   5   7   8   9  10  11  12  13  15  16  17  18  19\n",
            "  20  21  22  24  25  27  30  31  35  37  38  39  40  41  42  43  44  45\n",
            "  46  47  48  49  50  51  52  53  57  58  59  60  61  63  64  65  67  68\n",
            "  69  70  71  72  73  75  76  77  79  80  83  84  85  86  87  88  90  91\n",
            "  92  93  94  95  97 100 101 102 105 106 107 109 110 111 112 114 115 116\n",
            " 118 120 122 123 124 125 126 127 128 130 131 132 135 136 137 138 141 142\n",
            " 143 145 146 147 148 149 150 151 152 154 156 158 159 160 161 162 163 164\n",
            " 165 166 167 168 169 170 171 172 173 175 176 177 178 179 181 182 183 184\n",
            " 185 187 189 191 193 194 195 196 197 198 200 201 202 204 205 208 209 212\n",
            " 213 215 216 217 218 219 220 221 222 223 226 229 231 232 233 234 235 237\n",
            " 238 239 240 242 243 244 245 246 247 249 250 251 253 254 257 258 259 261\n",
            " 262 263 265 267 268 269 270 273 274 275 276 278 279 280 281 282 283 285\n",
            " 286 287 288 289 290 291 292 294 295 297 298 299 300 301 302 303 304 307\n",
            " 308 309 311 313 317 318 319 320 321 323 324 325 326 328 329 330 331 333\n",
            " 334 335 336 338 339 341 343 346 347 348 349 350 352 353 354 355 356]\n",
            "  Test:  index=[  6  14  23  26  28  29  32  33  34  36  54  55  56  62  66  74  78  81\n",
            "  82  89  96  98  99 103 104 108 113 117 119 121 129 133 134 139 140 144\n",
            " 153 155 157 174 180 186 188 190 192 199 203 206 207 210 211 214 224 225\n",
            " 227 228 230 236 241 248 252 255 256 260 264 266 271 272 277 284 293 296\n",
            " 305 306 310 312 314 315 316 322 327 332 337 340 342 344 345 351 357]\n",
            "Accuracy: 0.9662921348314607\n",
            "F1 Score: 0.9676512028310317\n",
            "Fold 4:\n",
            "  Train: index=[  0   1   2   4   5   6   7   8   9  10  11  12  14  15  16  17  18  22\n",
            "  23  24  26  28  29  31  32  33  34  36  38  39  41  42  43  44  45  46\n",
            "  47  49  50  51  52  53  54  55  56  57  58  59  60  62  63  64  65  66\n",
            "  68  74  76  77  78  79  80  81  82  83  84  87  89  90  92  93  94  96\n",
            "  98  99 101 102 103 104 105 106 107 108 109 112 113 114 116 117 118 119\n",
            " 120 121 122 123 124 125 126 127 128 129 130 131 132 133 134 135 137 138\n",
            " 139 140 141 143 144 145 146 147 149 152 153 154 155 156 157 159 160 165\n",
            " 166 167 168 170 171 172 174 175 177 178 179 180 181 183 184 185 186 188\n",
            " 189 190 192 194 195 197 198 199 200 201 203 204 205 206 207 208 209 210\n",
            " 211 212 213 214 215 217 219 220 223 224 225 226 227 228 229 230 231 232\n",
            " 234 235 236 237 238 239 240 241 245 246 248 249 250 251 252 255 256 258\n",
            " 259 260 261 262 264 266 267 268 270 271 272 274 275 276 277 279 280 282\n",
            " 283 284 286 287 288 289 290 291 292 293 295 296 299 301 303 305 306 308\n",
            " 310 312 313 314 315 316 318 319 320 321 322 323 324 326 327 328 329 331\n",
            " 332 334 335 336 337 339 340 341 342 344 345 346 347 349 351 352 357]\n",
            "  Test:  index=[  3  13  19  20  21  25  27  30  35  37  40  48  61  67  69  70  71  72\n",
            "  73  75  85  86  88  91  95  97 100 110 111 115 136 142 148 150 151 158\n",
            " 161 162 163 164 169 173 176 182 187 191 193 196 202 216 218 221 222 233\n",
            " 242 243 244 247 253 254 257 263 265 269 273 278 281 285 294 297 298 300\n",
            " 302 304 307 309 311 317 325 330 333 338 343 348 350 353 354 355 356]\n",
            "Accuracy: 0.9550561797752809\n",
            "F1 Score: 0.9552568218298555\n"
          ]
        }
      ],
      "source": [
        "expected_y_lg, predicted_y_lg = k_fold(model_lg,True)"
      ]
    },
    {
      "cell_type": "code",
      "execution_count": null,
      "metadata": {
        "colab": {
          "base_uri": "https://localhost:8080/"
        },
        "id": "9fe0IcdnuFms",
        "outputId": "3624743a-d10f-42f6-bd90-eaced21b1c8b"
      },
      "outputs": [
        {
          "name": "stdout",
          "output_type": "stream",
          "text": [
            "0.9692737430167597\n"
          ]
        }
      ],
      "source": [
        "#average of all 4 fold accuracy scores for the Logistic Regression model\n",
        "print(accuracy_score(expected_y_lg, predicted_y_lg))"
      ]
    },
    {
      "cell_type": "markdown",
      "metadata": {
        "id": "pVMcV-3OoClA"
      },
      "source": [
        "####(ii) 4-fold for GaussianNB model:"
      ]
    },
    {
      "cell_type": "code",
      "execution_count": null,
      "metadata": {
        "colab": {
          "base_uri": "https://localhost:8080/"
        },
        "id": "_XBgSxZVZS8k",
        "outputId": "5fea0aea-87a3-40df-ec5d-587022d6760c"
      },
      "outputs": [
        {
          "name": "stdout",
          "output_type": "stream",
          "text": [
            "Fold 1:\n",
            "  Train: index=[  0   3   4   5   6   7   9  11  12  13  14  15  16  17  18  19  20  22\n",
            "  24  26  27  29  30  31  32  33  35  38  39  40  41  42  44  46  47  49\n",
            "  50  51  53  54  55  56  57  58  59  61  62  63  64  65  66  68  70  71\n",
            "  72  73  74  75  76  78  79  82  83  84  85  86  87  88  89  90  91  92\n",
            "  94  95  96  97  98  99 100 101 102 103 104 106 107 108 109 111 113 115\n",
            " 116 118 119 121 122 123 125 126 128 129 130 131 132 133 134 135 136 138\n",
            " 140 141 143 144 146 147 148 149 150 153 154 155 158 160 161 162 163 165\n",
            " 167 168 169 170 171 175 177 178 179 181 182 183 184 185 186 188 189 190\n",
            " 191 192 193 194 196 197 198 199 200 201 202 204 205 206 207 208 209 211\n",
            " 212 213 214 215 217 218 220 221 222 223 225 227 228 231 232 234 235 236\n",
            " 237 238 239 240 241 242 244 247 248 249 251 253 254 256 257 258 259 262\n",
            " 264 265 267 270 271 272 273 275 277 278 279 280 284 285 286 288 289 290\n",
            " 291 292 293 295 296 297 299 300 301 302 303 304 305 306 308 309 310 312\n",
            " 313 314 315 316 318 320 322 323 324 325 326 327 329 330 332 333 334 335\n",
            " 336 337 338 340 341 342 343 344 346 350 351 352 353 355 356 357]\n",
            "  Test:  index=[  1   2   8  10  21  23  25  28  34  36  37  43  45  48  52  60  67  69\n",
            "  77  80  81  93 105 110 112 114 117 120 124 127 137 139 142 145 151 152\n",
            " 156 157 159 164 166 172 173 174 176 180 187 195 203 210 216 219 224 226\n",
            " 229 230 233 243 245 246 250 252 255 260 261 263 266 268 269 274 276 281\n",
            " 282 283 287 294 298 307 311 317 319 321 328 331 339 345 347 348 349 354]\n",
            "Accuracy: 0.8555555555555555\n",
            "F1 Score: 0.8276203328834907\n",
            "Fold 2:\n",
            "  Train: index=[  0   1   2   3   5   6   8  10  14  16  19  20  21  22  23  24  25  26\n",
            "  28  29  31  33  34  35  36  37  39  40  42  43  44  45  47  48  49  51\n",
            "  52  53  57  58  59  60  61  62  63  65  66  67  68  69  70  71  74  75\n",
            "  77  78  79  80  81  83  84  85  86  88  89  90  91  92  93  95  96  97\n",
            "  98 101 102 103 105 106 108 109 110 112 113 114 116 117 119 120 121 122\n",
            " 123 124 125 127 128 129 130 131 134 135 137 138 139 140 142 143 145 147\n",
            " 151 152 153 154 155 156 157 158 159 160 161 164 166 167 168 170 171 172\n",
            " 173 174 175 176 177 178 179 180 181 182 185 186 187 188 189 190 191 192\n",
            " 193 195 196 199 200 201 203 204 205 206 207 208 209 210 211 212 213 214\n",
            " 215 216 218 219 221 223 224 226 227 229 230 231 232 233 234 236 237 238\n",
            " 239 243 244 245 246 247 248 249 250 252 253 255 256 257 258 259 260 261\n",
            " 262 263 264 266 268 269 272 274 276 277 278 280 281 282 283 284 285 286\n",
            " 287 288 290 291 293 294 295 297 298 299 301 302 303 304 306 307 308 309\n",
            " 311 313 315 316 317 319 321 323 324 325 327 328 329 330 331 332 333 335\n",
            " 337 338 339 341 343 344 345 347 348 349 351 353 354 355 356 357]\n",
            "  Test:  index=[  4   7   9  11  12  13  15  17  18  27  30  32  38  41  46  50  54  55\n",
            "  56  64  72  73  76  82  87  94  99 100 104 107 111 115 118 126 132 133\n",
            " 136 141 144 146 148 149 150 162 163 165 169 183 184 194 197 198 202 217\n",
            " 220 222 225 228 235 240 241 242 251 254 265 267 270 271 273 275 279 289\n",
            " 292 296 300 305 310 312 314 318 320 322 326 334 336 340 342 346 350 352]\n",
            "Accuracy: 0.8555555555555555\n",
            "F1 Score: 0.8267121129190096\n",
            "Fold 3:\n",
            "  Train: index=[  1   2   4   6   7   8   9  10  11  12  13  15  17  18  20  21  22  23\n",
            "  25  27  28  30  31  32  33  34  35  36  37  38  39  40  41  43  45  46\n",
            "  47  48  49  50  51  52  54  55  56  57  58  59  60  61  63  64  67  69\n",
            "  70  71  72  73  76  77  80  81  82  85  86  87  88  89  93  94  97  98\n",
            "  99 100 101 102 104 105 107 108 109 110 111 112 114 115 117 118 119 120\n",
            " 122 124 125 126 127 128 129 130 131 132 133 134 135 136 137 139 140 141\n",
            " 142 143 144 145 146 148 149 150 151 152 153 156 157 159 160 161 162 163\n",
            " 164 165 166 167 168 169 172 173 174 176 177 180 183 184 187 189 190 193\n",
            " 194 195 196 197 198 200 202 203 204 207 208 209 210 211 215 216 217 219\n",
            " 220 221 222 223 224 225 226 228 229 230 233 235 238 239 240 241 242 243\n",
            " 244 245 246 247 248 249 250 251 252 253 254 255 256 258 259 260 261 262\n",
            " 263 265 266 267 268 269 270 271 273 274 275 276 278 279 280 281 282 283\n",
            " 287 288 289 291 292 293 294 295 296 297 298 299 300 301 305 307 308 309\n",
            " 310 311 312 313 314 315 317 318 319 320 321 322 326 327 328 331 332 333\n",
            " 334 336 339 340 342 343 345 346 347 348 349 350 351 352 353 354 355]\n",
            "  Test:  index=[  0   3   5  14  16  19  24  26  29  42  44  53  62  65  66  68  74  75\n",
            "  78  79  83  84  90  91  92  95  96 103 106 113 116 121 123 138 147 154\n",
            " 155 158 170 171 175 178 179 181 182 185 186 188 191 192 199 201 205 206\n",
            " 212 213 214 218 227 231 232 234 236 237 257 264 272 277 284 285 286 290\n",
            " 302 303 304 306 316 323 324 325 329 330 335 337 338 341 344 356 357]\n",
            "Accuracy: 0.8539325842696629\n",
            "F1 Score: 0.8365258962303188\n",
            "Fold 4:\n",
            "  Train: index=[  0   1   2   3   4   5   7   8   9  10  11  12  13  14  15  16  17  18\n",
            "  19  21  23  24  25  26  27  28  29  30  32  34  36  37  38  41  42  43\n",
            "  44  45  46  48  50  52  53  54  55  56  60  62  64  65  66  67  68  69\n",
            "  72  73  74  75  76  77  78  79  80  81  82  83  84  87  90  91  92  93\n",
            "  94  95  96  99 100 103 104 105 106 107 110 111 112 113 114 115 116 117\n",
            " 118 120 121 123 124 126 127 132 133 136 137 138 139 141 142 144 145 146\n",
            " 147 148 149 150 151 152 154 155 156 157 158 159 162 163 164 165 166 169\n",
            " 170 171 172 173 174 175 176 178 179 180 181 182 183 184 185 186 187 188\n",
            " 191 192 194 195 197 198 199 201 202 203 205 206 210 212 213 214 216 217\n",
            " 218 219 220 222 224 225 226 227 228 229 230 231 232 233 234 235 236 237\n",
            " 240 241 242 243 245 246 250 251 252 254 255 257 260 261 263 264 265 266\n",
            " 267 268 269 270 271 272 273 274 275 276 277 279 281 282 283 284 285 286\n",
            " 287 289 290 292 294 296 298 300 302 303 304 305 306 307 310 311 312 314\n",
            " 316 317 318 319 320 321 322 323 324 325 326 328 329 330 331 334 335 336\n",
            " 337 338 339 340 341 342 344 345 346 347 348 349 350 352 354 356 357]\n",
            "  Test:  index=[  6  20  22  31  33  35  39  40  47  49  51  57  58  59  61  63  70  71\n",
            "  85  86  88  89  97  98 101 102 108 109 119 122 125 128 129 130 131 134\n",
            " 135 140 143 153 160 161 167 168 177 189 190 193 196 200 204 207 208 209\n",
            " 211 215 221 223 238 239 244 247 248 249 253 256 258 259 262 278 280 288\n",
            " 291 293 295 297 299 301 308 309 313 315 327 332 333 343 351 353 355]\n",
            "Accuracy: 0.9213483146067416\n",
            "F1 Score: 0.9189756176804728\n"
          ]
        }
      ],
      "source": [
        "expected_y_nb, predicted_y_nb = k_fold(model_nb,True)"
      ]
    },
    {
      "cell_type": "code",
      "execution_count": null,
      "metadata": {
        "colab": {
          "base_uri": "https://localhost:8080/"
        },
        "id": "pEYONzrpiFUQ",
        "outputId": "5d4a0b70-4ae9-4717-d947-54a09d2121e5"
      },
      "outputs": [
        {
          "name": "stdout",
          "output_type": "stream",
          "text": [
            "0.8715083798882681\n"
          ]
        }
      ],
      "source": [
        "# average of all 4 fold accuracy scores for the Gaussian naive bayes model\n",
        "print(accuracy_score(expected_y_nb, predicted_y_nb))"
      ]
    },
    {
      "cell_type": "markdown",
      "metadata": {
        "id": "i9bxw0dkeryT"
      },
      "source": [
        "###(b) Evaluation with Precision/Recall Measures and Micro/Macros"
      ]
    },
    {
      "cell_type": "markdown",
      "metadata": {
        "id": "MwAIS2Obf1km"
      },
      "source": [
        "Precision = TP / (TP + FP)\n",
        "Recall = TP / (TP + FN)\n",
        "\n",
        "There are 6 classes that we are trying to predict, so we need to calculate the precision and recall measure for each class.  "
      ]
    },
    {
      "cell_type": "markdown",
      "metadata": {
        "id": "AkQWb_zO2_Qf"
      },
      "source": [
        "Model 1: Logistic Regression"
      ]
    },
    {
      "cell_type": "code",
      "execution_count": null,
      "metadata": {
        "colab": {
          "base_uri": "https://localhost:8080/"
        },
        "id": "ow2gP4P5egQw",
        "outputId": "91349163-fb90-4a87-d36c-776523ecd228"
      },
      "outputs": [
        {
          "name": "stdout",
          "output_type": "stream",
          "text": [
            "              precision    recall  f1-score   support\n",
            "\n",
            "           1       1.00      1.00      1.00       111\n",
            "           2       0.92      0.92      0.92        60\n",
            "           3       1.00      0.99      0.99        71\n",
            "           4       0.88      0.90      0.89        48\n",
            "           5       1.00      1.00      1.00        48\n",
            "           6       1.00      1.00      1.00        20\n",
            "\n",
            "    accuracy                           0.97       358\n",
            "   macro avg       0.97      0.97      0.97       358\n",
            "weighted avg       0.97      0.97      0.97       358\n",
            "\n",
            "Micro-average F1 score:  0.9692737430167597\n"
          ]
        }
      ],
      "source": [
        "# calculate the precision, recall, and averages for 4 fold results\n",
        "print(classification_report(expected_y_lg, predicted_y_lg))\n",
        "\n",
        "# calculate and print the micro average\n",
        "f1 = f1_score(expected_y_lg, predicted_y_lg, average='micro')\n",
        "print(\"Micro-average F1 score: \", f1)"
      ]
    },
    {
      "cell_type": "markdown",
      "metadata": {
        "id": "GfPPK3KQgeWo"
      },
      "source": [
        "\n",
        "Model 2: Naive Bayes"
      ]
    },
    {
      "cell_type": "code",
      "execution_count": null,
      "metadata": {
        "colab": {
          "base_uri": "https://localhost:8080/"
        },
        "id": "y79OllKzfRle",
        "outputId": "4ff94cdd-d9c6-494d-dae0-9180b19891dc"
      },
      "outputs": [
        {
          "name": "stdout",
          "output_type": "stream",
          "text": [
            "              precision    recall  f1-score   support\n",
            "\n",
            "           1       0.99      1.00      1.00       111\n",
            "           2       0.89      0.28      0.43        60\n",
            "           3       0.99      1.00      0.99        71\n",
            "           4       0.57      0.98      0.72        48\n",
            "           5       0.92      0.98      0.95        48\n",
            "           6       0.90      0.95      0.93        20\n",
            "\n",
            "    accuracy                           0.87       358\n",
            "   macro avg       0.88      0.87      0.84       358\n",
            "weighted avg       0.90      0.87      0.85       358\n",
            "\n",
            "Micro-average F1 score:  0.8715083798882681\n"
          ]
        }
      ],
      "source": [
        "# calculate the precision, recall, and averages for 4 fold results\n",
        "print(classification_report(expected_y_nb, predicted_y_nb))\n",
        "\n",
        "# calculate and print the micro average\n",
        "f1 = f1_score(expected_y_nb, predicted_y_nb, average='micro')\n",
        "print(\"Micro-average F1 score: \", f1)"
      ]
    },
    {
      "cell_type": "markdown",
      "metadata": {
        "id": "qIJMtazFhCUg"
      },
      "source": [
        "Micro Average: average when putting all the data together.\n",
        "The micro average puts all the data together and divides by all the classes total. The weight won't be equal and it is based on the number of samples. The micro average works for an unbalanced training set.\n",
        "\n",
        "(TP1 + TP2 + TP3 + TP4 + TP5 + TP6) / (TP1 + FP1 + TP2 + FP2 + TP3 + FP3 + TP4 + FP4 + TP5 + FP5 + TP6 + FP6)\n",
        "\n"
      ]
    },
    {
      "cell_type": "code",
      "execution_count": null,
      "metadata": {
        "colab": {
          "base_uri": "https://localhost:8080/"
        },
        "id": "P4Y5Vfn1vjVO",
        "outputId": "63cb88bf-f2bb-4a24-8984-346bc41cc723"
      },
      "outputs": [
        {
          "name": "stdout",
          "output_type": "stream",
          "text": [
            "Regression Micro-average F1 score:  0.9692737430167597\n",
            "Gaussian Micro-average F1 score:  0.8715083798882681\n"
          ]
        }
      ],
      "source": [
        "micro_lg = f1_score(expected_y_lg, predicted_y_lg, average='micro')\n",
        "micro_nb = f1_score(expected_y_nb, predicted_y_nb, average='micro')\n",
        "print(\"Regression Micro-average F1 score: \", micro_lg)\n",
        "print(\"Gaussian Micro-average F1 score: \", micro_nb)"
      ]
    },
    {
      "cell_type": "markdown",
      "metadata": {
        "id": "gUFQqFCgwdcN"
      },
      "source": [
        "Macro Average: average on the results per class.\n",
        "The macro average is calculated on each class and then gets the average over all that no matter how much training data. It gives each class equal weight.\n",
        "\n",
        "(Prec1 + Prec2 + Prec3 + Prec4 + Prec5 + Prec6) / 6\n"
      ]
    },
    {
      "cell_type": "markdown",
      "metadata": {
        "id": "DZNOK1OBmrQb"
      },
      "source": [
        "Logistic Regression: The macro average on precision and recall is 0.98.\n",
        "\n",
        "Gaussian Naive Bayes: The macro average on precision is 0.89 and on recall is 0.87.  "
      ]
    },
    {
      "cell_type": "markdown",
      "metadata": {
        "id": "WBSNwVNZhnk_"
      },
      "source": [
        "# **6. Train/Test/Evaluate on Changed Parameters**\n"
      ]
    },
    {
      "cell_type": "markdown",
      "metadata": {
        "id": "slaLkWQOht-4"
      },
      "source": [
        "###(a) Models with Changed Parameters\n",
        "\n",
        "More specifically, for each of these models, there will be 2 models per parameter changed; with a running total of 5 models for both Logistic Regression and the GaussianNB model:\n",
        "\n",
        "*   +1 for the default model,\n",
        "*   +2 for first parameter,\n",
        "*   +2 for second parameter."
      ]
    },
    {
      "cell_type": "markdown",
      "metadata": {
        "id": "crqg7Aexh_gz"
      },
      "source": [
        "####Model 1: Logistic Regression\n",
        "\n",
        "The following parameters will be changed (twice for each parameter; total of 4 + 1 (default) models)\n",
        "\n",
        "1.   Tolerance: with a default of 1e-4\n",
        "2.   Solver: default is \"lbfgs\"\n",
        "\n"
      ]
    },
    {
      "cell_type": "code",
      "execution_count": null,
      "metadata": {
        "colab": {
          "base_uri": "https://localhost:8080/"
        },
        "id": "8yIEzuLzw8vT",
        "outputId": "9793273c-4b2d-4647-8087-8811286ee1af"
      },
      "outputs": [
        {
          "name": "stdout",
          "output_type": "stream",
          "text": [
            "Fold 1:\n",
            "Accuracy: 0.9666666666666667\n",
            "F1 Score: 0.9661913250148544\n",
            "Fold 2:\n",
            "Accuracy: 0.9666666666666667\n",
            "F1 Score: 0.9666295884315906\n",
            "Fold 3:\n",
            "Accuracy: 0.9662921348314607\n",
            "F1 Score: 0.9662921348314607\n",
            "Fold 4:\n",
            "Accuracy: 0.9887640449438202\n",
            "F1 Score: 0.9888503426017017\n"
          ]
        }
      ],
      "source": [
        "# Tolerance = 3, default solver\n",
        "model_lg_lg_t1 = LogisticRegression(tol=3, solver=\"lbfgs\")\n",
        "exp_y_lg_t1, pred_y_lg_t1 = k_fold(model_lg_lg_t1,False)"
      ]
    },
    {
      "cell_type": "markdown",
      "metadata": {
        "id": "IkQ1B7dGiBlP"
      },
      "source": [
        "####Model 2: Naive Bayes\n",
        "The parameters that will be changed are the 'priors' and 'var_smoothing'.\n"
      ]
    },
    {
      "cell_type": "markdown",
      "metadata": {
        "id": "PnF51cCYsLuE"
      },
      "source": [
        "There are two parameters for GaussianNB:\n",
        "\n",
        "\n",
        "*   priors: prior probabilities of the classes\n",
        "*   var_smoothing: decimal from 0 to 1 (usually)\n",
        "\n"
      ]
    },
    {
      "cell_type": "code",
      "execution_count": null,
      "metadata": {
        "id": "eXxohEhqCNpl"
      },
      "outputs": [],
      "source": [
        "from sklearn.naive_bayes import GaussianNB"
      ]
    },
    {
      "cell_type": "markdown",
      "metadata": {
        "id": "ArsWUqQPu0Kk"
      },
      "source": [
        "The smoothing parameter is for the portion of the largest variance of all features that is added to variances. The default is 1e-9 = 0.000000001. Variance “is a measure of how far a set of numbers is spread out from their average value”. The model has a variance attribute var_ that can show the variance of each feature per class."
      ]
    },
    {
      "cell_type": "markdown",
      "metadata": {
        "id": "XMb2GqQMtuQp"
      },
      "source": [
        "First we will try to change the smoothing parameter to be large as a 1."
      ]
    },
    {
      "cell_type": "code",
      "execution_count": null,
      "metadata": {
        "colab": {
          "base_uri": "https://localhost:8080/"
        },
        "id": "7HgsVBiEvx6M",
        "outputId": "416fe23c-efa0-4dff-b646-c5799562bdee"
      },
      "outputs": [
        {
          "name": "stdout",
          "output_type": "stream",
          "text": [
            "Fold 1:\n",
            "Accuracy: 0.9666666666666667\n",
            "F1 Score: 0.9663299663299664\n",
            "Fold 2:\n",
            "Accuracy: 0.9111111111111111\n",
            "F1 Score: 0.9154684095860568\n",
            "Fold 3:\n",
            "Accuracy: 0.9662921348314607\n",
            "F1 Score: 0.9662644567398178\n",
            "Fold 4:\n",
            "Accuracy: 0.9775280898876404\n",
            "F1 Score: 0.9774128493229616\n"
          ]
        }
      ],
      "source": [
        "# Build a Gaussian Classifier with var_smoothing changed\n",
        "model_nb_s1 = GaussianNB(priors = None, var_smoothing = 1.0)\n",
        "\n",
        "exp_y_nbs1, pred_y_nbs1 = k_fold(model_nb_s1,False)"
      ]
    },
    {
      "cell_type": "markdown",
      "metadata": {
        "id": "NL21lneDu6i4"
      },
      "source": [
        "Priors is a list of probabilities for each class. Prior probabilities would be information from the real world data and be gathered after evidence and research of the domain. For this case, it would be if we had information about what types of ESD were more or less common among the 6 types. The model has an attribute class_prior_ that shows the probability of each class, but this is only for this particular dataset."
      ]
    },
    {
      "cell_type": "code",
      "execution_count": null,
      "metadata": {
        "colab": {
          "base_uri": "https://localhost:8080/"
        },
        "id": "HqKQfiojrw03",
        "outputId": "ca7ee45f-86fd-41c8-f64a-54ae2f05298c"
      },
      "outputs": [
        {
          "name": "stdout",
          "output_type": "stream",
          "text": [
            "[0.30483271 0.18959108 0.20446097 0.12639405 0.11524164 0.05947955]\n"
          ]
        }
      ],
      "source": [
        "print(model_nb.class_prior_)"
      ]
    },
    {
      "cell_type": "code",
      "execution_count": null,
      "metadata": {
        "colab": {
          "base_uri": "https://localhost:8080/"
        },
        "id": "dHUCWvQU3JBc",
        "outputId": "7a5c3fea-b1be-41c7-b94c-71ab1ca51706"
      },
      "outputs": [
        {
          "name": "stdout",
          "output_type": "stream",
          "text": [
            "Fold 1:\n",
            "Accuracy: 0.9111111111111111\n",
            "F1 Score: 0.9072923901921683\n",
            "Fold 2:\n",
            "Accuracy: 0.8333333333333334\n",
            "F1 Score: 0.7918503229751939\n",
            "Fold 3:\n",
            "Accuracy: 0.8089887640449438\n",
            "F1 Score: 0.7747607783503703\n",
            "Fold 4:\n",
            "Accuracy: 0.9101123595505618\n",
            "F1 Score: 0.9029622063329928\n"
          ]
        }
      ],
      "source": [
        "from sklearn.naive_bayes import GaussianNB\n",
        "\n",
        "# Build a Gaussian Classifier with priors changed\n",
        "model_nb_p1 = GaussianNB(priors = [0.1, 0.25, 0.25, 0.1, 0.1, 0.2])\n",
        "\n",
        "exp_y_nbp1, pred_y_nbp1 = k_fold(model_nb_p1,False)"
      ]
    },
    {
      "cell_type": "markdown",
      "metadata": {
        "id": "mGvAApVihxok"
      },
      "source": [
        "# **7. Analysis on Results**"
      ]
    },
    {
      "cell_type": "markdown",
      "metadata": {
        "id": "s7KYebNwh1t5"
      },
      "source": [
        "Quantitative comparison made on precision, recall, micro and macro values on Logistic Regression and GaussianNB models."
      ]
    },
    {
      "cell_type": "markdown",
      "metadata": {
        "id": "PquzC0cZ7Eb8"
      },
      "source": [
        "## (a) Logistic Regression"
      ]
    },
    {
      "cell_type": "markdown",
      "metadata": {
        "id": "x__lxDeICAQr"
      },
      "source": [
        "### (i) Tolerance Parameter Analysis"
      ]
    },
    {
      "cell_type": "code",
      "execution_count": null,
      "metadata": {
        "colab": {
          "base_uri": "https://localhost:8080/"
        },
        "id": "Hoqj3ut246eq",
        "outputId": "ea7ff0ff-61bc-4cb2-e1e7-0dcf35b0c3d4"
      },
      "outputs": [
        {
          "name": "stdout",
          "output_type": "stream",
          "text": [
            "              precision    recall  f1-score   support\n",
            "\n",
            "           1       1.00      1.00      1.00       111\n",
            "           2       0.92      0.92      0.92        60\n",
            "           3       1.00      0.99      0.99        71\n",
            "           4       0.88      0.90      0.89        48\n",
            "           5       1.00      1.00      1.00        48\n",
            "           6       1.00      1.00      1.00        20\n",
            "\n",
            "    accuracy                           0.97       358\n",
            "   macro avg       0.97      0.97      0.97       358\n",
            "weighted avg       0.97      0.97      0.97       358\n",
            "\n"
          ]
        }
      ],
      "source": [
        "# Classification reports on Logistic Regression\n",
        "# Default model (tolerance = 1e-4, solver = 'lbfgs)\n",
        "print(classification_report(expected_y_lg, predicted_y_lg))"
      ]
    },
    {
      "cell_type": "code",
      "execution_count": null,
      "metadata": {
        "colab": {
          "base_uri": "https://localhost:8080/"
        },
        "id": "Qavlp9xb8aCA",
        "outputId": "6cc0bbc1-46a4-4c66-baaa-a7d3f02c55e9"
      },
      "outputs": [
        {
          "name": "stdout",
          "output_type": "stream",
          "text": [
            "              precision    recall  f1-score   support\n",
            "\n",
            "           1       1.00      1.00      1.00       111\n",
            "           2       0.92      0.92      0.92        60\n",
            "           3       1.00      0.99      0.99        71\n",
            "           4       0.88      0.90      0.89        48\n",
            "           5       1.00      1.00      1.00        48\n",
            "           6       1.00      1.00      1.00        20\n",
            "\n",
            "    accuracy                           0.97       358\n",
            "   macro avg       0.97      0.97      0.97       358\n",
            "weighted avg       0.97      0.97      0.97       358\n",
            "\n"
          ]
        }
      ],
      "source": [
        "# Default model (tolerance = 1e-4, solver = 'lbfgs)\n",
        "print(classification_report(expected_y_lg, predicted_y_lg))"
      ]
    },
    {
      "cell_type": "markdown",
      "metadata": {
        "id": "bwNwNJ89Djzi"
      },
      "source": [
        "## (b) GaussianNB"
      ]
    },
    {
      "cell_type": "markdown",
      "metadata": {
        "id": "5iT-ym9rDrRo"
      },
      "source": [
        "### (i) Smoothing Parameter Analysis"
      ]
    },
    {
      "cell_type": "code",
      "execution_count": null,
      "metadata": {
        "colab": {
          "base_uri": "https://localhost:8080/"
        },
        "id": "JEo_tRO73IXj",
        "outputId": "579e5d4b-4698-4a10-f107-728ad5056f70"
      },
      "outputs": [
        {
          "name": "stdout",
          "output_type": "stream",
          "text": [
            "              precision    recall  f1-score   support\n",
            "\n",
            "           1       1.00      0.99      1.00       111\n",
            "           2       0.98      0.75      0.85        60\n",
            "           3       1.00      1.00      1.00        71\n",
            "           4       0.76      1.00      0.86        48\n",
            "           5       1.00      1.00      1.00        48\n",
            "           6       1.00      1.00      1.00        20\n",
            "\n",
            "    accuracy                           0.96       358\n",
            "   macro avg       0.96      0.96      0.95       358\n",
            "weighted avg       0.96      0.96      0.96       358\n",
            "\n"
          ]
        }
      ],
      "source": [
        "# smoothing factor 1.0\n",
        "print(classification_report(exp_y_nbs1, pred_y_nbs1))"
      ]
    },
    {
      "cell_type": "code",
      "execution_count": null,
      "metadata": {
        "colab": {
          "base_uri": "https://localhost:8080/",
          "height": 466
        },
        "id": "7e0OARQL3E--",
        "outputId": "d2574c83-f8f0-474e-e102-1737119414f8"
      },
      "outputs": [
        {
          "data": {
            "text/plain": [
              "<Axes: xlabel='class', ylabel='count'>"
            ]
          },
          "execution_count": 52,
          "metadata": {},
          "output_type": "execute_result"
        },
        {
          "data": {
            "image/png": "[encoded data removed]",
            "text/plain": [
              "<Figure size 640x480 with 1 Axes>"
            ]
          },
          "metadata": {},
          "output_type": "display_data"
        }
      ],
      "source": [
        "import seaborn as sns\n",
        "import matplotlib.pyplot as plt\n",
        "\n",
        "sns.countplot(data=dataset, x='class')"
      ]
    },
    {
      "cell_type": "markdown",
      "metadata": {
        "id": "rEfT6KYcDtYD"
      },
      "source": [
        "###(ii) 'Priors' Parameter Analysis"
      ]
    },
    {
      "cell_type": "code",
      "execution_count": null,
      "metadata": {
        "colab": {
          "base_uri": "https://localhost:8080/"
        },
        "id": "kaU-14IN34TT",
        "outputId": "e041dee3-6eba-4e07-f3f4-242e87dcfb65"
      },
      "outputs": [
        {
          "name": "stdout",
          "output_type": "stream",
          "text": [
            "              precision    recall  f1-score   support\n",
            "\n",
            "           1       0.98      1.00      0.99       111\n",
            "           2       0.94      0.27      0.42        60\n",
            "           3       0.99      1.00      0.99        71\n",
            "           4       0.55      0.96      0.70        48\n",
            "           5       0.90      0.98      0.94        48\n",
            "           6       0.95      0.95      0.95        20\n",
            "\n",
            "    accuracy                           0.87       358\n",
            "   macro avg       0.89      0.86      0.83       358\n",
            "weighted avg       0.91      0.87      0.85       358\n",
            "\n"
          ]
        }
      ],
      "source": [
        "# changed priors to [0.1, 0.25, 0.25, 0.1, 0.1, 0.2]\n",
        "print(classification_report(exp_y_nbp1, pred_y_nbp1))"
      ]
    },
    {
      "cell_type": "markdown",
      "metadata": {
        "id": "PtbOgI1q_9a0"
      },
      "source": [
        "# **8. References**\n",
        "\n",
        "\n",
        "1.   https://stackoverflow.com/questions/48655801/tables-in-markdown-in-jupyter\n",
        "2.   https://medium.com/@shouke.wei/how-to-create-and-align-tables-in-the-jupyter-notebook-ad7614d3d22\n",
        "3.   https://www.youtube.com/watch?v=0Lt9w-BxKFQ\n",
        "4.   https://scikit-learn.org/stable/modules/generated/sklearn.linear_model.LogisticRegression.html#sklearn.linear_model.LogisticRegression\n",
        "5.   https://stackoverflow.com/questions/50599895/choosing-a-proper-tolerance-value-in-logistic-regression-scikit-learn\n",
        "6.  https://stackoverflow.com/questions/30896367/how-to-specify-the-prior-probability-for-scikit-learns-naive-bayes\n",
        "7.  https://medium.com/analytics-vidhya/how-to-improve-naive-bayes-9fa698e14cba\n",
        "8.  https://scikit-learn.org/stable/modules/generated/sklearn.naive_bayes.GaussianNB.html#sklearn.naive_bayes.GaussianNB\n",
        "9.  https://stackoverflow.com/questions/58046129/can-someone-give-a-good-math-stats-explanation-as-to-what-the-parameter-var-smoo\n",
        "10. https://stackoverflow.com/questions/18172851/deleting-dataframe-row-in-pandas-based-on-column-value\n",
        "11. https://colab.research.google.com/corgiredirector?site=https%3A%2F%2Fstackoverflow.com%2Fquestions%2F28277137%2Fhow-to-convert-datatypeobject-to-float64-in-python\n",
        "12. https://stackoverflow.com/questions/20490274/how-to-reset-index-in-a-pandas-dataframe\n",
        "13. https://stackoverflow.com/questions/72007179/python-pandas-dataframe-column-sentence-encode-got-error-keyerror-611.\n",
        "14. https://www.ncbi.nlm.nih.gov/pmc/articles/PMC5203752/\n",
        "15. https://scikit-learn.org/stable/modules/generated/sklearn.metrics.classification_report.html\n",
        "16. https://datascience.stackexchange.com/questions/49185/categorical-vs-continuous-feature-selection-engineering\n",
        "\n",
        "17. https://stats.stackexchange.com/questions/288095/what-algorithms-require-one-hot-encoding\n",
        "\n",
        "18. https://www.geeksforgeeks.org/ml-one-hot-encoding-of-datasets-in-python/\n",
        "\n",
        "19. https://stats.stackexchange.com/questions/371152/reasons-not-to-one-hot-encode-categorical-features\n",
        "\n",
        "20. Fall2020-CSI4106-Module4-Video3-SML-Part2-Features17.\n",
        "21. https://www.youtube.com/watch?v=_dWNReULL9E\n",
        "22. https://www.youtube.com/watch?v=etkxDx4gesk\n",
        "23. https://www.youtube.com/watch?v=gJo0uNL-5Qw\n",
        "24. https://scikit-learn.org/stable/modules/generated/sklearn.metrics.confusion_matrix.html\n",
        "25.  https://www.geeksforgeeks.org/multiclass-classification-using-scikit-learn/\n",
        "26. https://www.youtube.com/watch?v=L_dQrZZjGDg\n",
        "27. https://scikit-learn.org/stable/modules/generated/sklearn.model_selection.KFold.html\n",
        "28. https://www.youtube.com/watch?v=6dDet0-Drzc\n",
        "\n",
        "29. https://stackoverflow.com/questions/40667363/python-transform-data-to-numpy-array-for-sklearn\n",
        "\n",
        "30. https://scikit-learn.org/stable/modules/preprocessing.html\n",
        "31. https://scikit-learn.org/stable/modules/naive_bayes.html#gaussian-naive-bayes\n",
        "32. https://scikit-learn.org/stable/modules/generated/sklearn.naive_bayes.GaussianNB.html#sklearn.naive_bayes.GaussianNB\n",
        "\n",
        "33. https://www.datacamp.com/tutorial/naive-bayes-scikit-learn\n",
        "\n",
        "34. https://www.youtube.com/watch?v=0Lt9w-BxKFQ\n",
        "35. https://www.youtube.com/watch?v=pqNCD_5r0IU\n",
        "36. https://scikit-learn.org/stable/modules/generated/sklearn.metrics.f1_score.html\n",
        "37. Fall2020-CSI4106-Module4-Video8-NaiveBayes-Part3-Independence\n",
        "\n"
      ]
    }
  ],
  "metadata": {
    "colab": {
      "provenance": []
    },
    "kernelspec": {
      "display_name": "Python 3",
      "language": "python",
      "name": "python3"
    },
    "language_info": {
      "codemirror_mode": {
        "name": "ipython",
        "version": 3
      },
      "file_extension": ".py",
      "mimetype": "text/x-python",
      "name": "python",
      "nbconvert_exporter": "python",
      "pygments_lexer": "ipython3",
      "version": "3.9.10"
    },
    "orig_nbformat": 4
  },
  "nbformat": 4,
  "nbformat_minor": 0
}
